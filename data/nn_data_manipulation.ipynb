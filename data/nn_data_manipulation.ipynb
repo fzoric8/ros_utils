{
 "cells": [
  {
   "cell_type": "markdown",
   "metadata": {},
   "source": [
    "# TrashCan dataset\n"
   ]
  },
  {
   "cell_type": "code",
   "execution_count": 2,
   "metadata": {},
   "outputs": [
    {
     "ename": "FileNotFoundError",
     "evalue": "[Errno 2] No such file or directory: './trashcan_'",
     "output_type": "error",
     "traceback": [
      "\u001b[0;31m---------------------------------------------------------------------------\u001b[0m",
      "\u001b[0;31mFileNotFoundError\u001b[0m                         Traceback (most recent call last)",
      "\u001b[0;32m/tmp/ipykernel_14366/1720125146.py\u001b[0m in \u001b[0;36m<module>\u001b[0;34m\u001b[0m\n\u001b[1;32m      5\u001b[0m \u001b[0;34m\u001b[0m\u001b[0m\n\u001b[1;32m      6\u001b[0m \u001b[0;31m# open the folder\u001b[0m\u001b[0;34m\u001b[0m\u001b[0;34m\u001b[0m\u001b[0;34m\u001b[0m\u001b[0m\n\u001b[0;32m----> 7\u001b[0;31m \u001b[0mfolder\u001b[0m \u001b[0;34m=\u001b[0m \u001b[0mos\u001b[0m\u001b[0;34m.\u001b[0m\u001b[0mlistdir\u001b[0m\u001b[0;34m(\u001b[0m\u001b[0mfolder_path\u001b[0m\u001b[0;34m)\u001b[0m\u001b[0;34m\u001b[0m\u001b[0;34m\u001b[0m\u001b[0m\n\u001b[0m\u001b[1;32m      8\u001b[0m \u001b[0;34m\u001b[0m\u001b[0m\n\u001b[1;32m      9\u001b[0m \u001b[0;31m# list all the files in the folder\u001b[0m\u001b[0;34m\u001b[0m\u001b[0;34m\u001b[0m\u001b[0;34m\u001b[0m\u001b[0m\n",
      "\u001b[0;31mFileNotFoundError\u001b[0m: [Errno 2] No such file or directory: './trashcan_'"
     ]
    }
   ],
   "source": [
    "import os\n",
    "\n",
    "# specify the path of the folder\n",
    "folder_path = './trashcan_'\n",
    "\n",
    "# open the folder\n",
    "folder = os.listdir(folder_path)\n",
    "\n",
    "# list all the files in the folder\n",
    "for file in folder:\n",
    "    print(file)\n"
   ]
  },
  {
   "cell_type": "code",
   "execution_count": null,
   "metadata": {},
   "outputs": [],
   "source": [
    "import os\n",
    "import numpy as np\n",
    "import skimage.io as io\n",
    "import matplotlib.pyplot as plt\n",
    "from pycocotools.coco import COCO\n",
    "\n",
    "# specify the paths to the COCO dataset\n",
    "dataDir = '/path/to/coco/dataset'\n",
    "dataType = 'val2017'\n",
    "annFile = os.path.join(dataDir, 'annotations', 'instances_{}.json'.format(dataType))\n",
    "\n",
    "# initialize the COCO api for instance annotations\n",
    "coco = COCO(annFile)\n",
    "\n",
    "# display the images and segmentation masks\n",
    "fig = plt.figure(figsize=(10, 10))\n",
    "for i, ann in enumerate(coco.anns.values()):\n",
    "\n",
    "    # load the image\n",
    "    img_id = ann['image_id']\n",
    "    img_info = coco.loadImgs(img_id)[0]\n",
    "    img_path = os.path.join(dataDir, dataType, img_info['file_name'])\n",
    "    img = io.imread(img_path)\n",
    "\n",
    "    # load the segmentation mask\n",
    "    mask = coco.annToMask(ann)\n",
    "\n",
    "    # display the image and the mask side by side\n",
    "    ax = fig.add_subplot(len(coco.anns), 2, 2*i+1)\n",
    "    ax.imshow(img)\n",
    "    ax.set_axis_off()\n",
    "    ax.set_title('Image')\n",
    "\n",
    "    ax = fig.add_subplot(len(coco.anns), 2, 2*i+2)\n",
    "    ax.imshow(mask)\n",
    "    ax.set_axis_off()\n",
    "    ax.set_title('Segmentation Mask')\n",
    "\n",
    "plt.tight_layout()\n",
    "plt.show()"
   ]
  }
 ],
 "metadata": {
  "kernelspec": {
   "display_name": "Python 3 (ipykernel)",
   "language": "python",
   "name": "python3"
  },
  "language_info": {
   "codemirror_mode": {
    "name": "ipython",
    "version": 3
   },
   "file_extension": ".py",
   "mimetype": "text/x-python",
   "name": "python",
   "nbconvert_exporter": "python",
   "pygments_lexer": "ipython3",
   "version": "3.8.10"
  }
 },
 "nbformat": 4,
 "nbformat_minor": 4
}
