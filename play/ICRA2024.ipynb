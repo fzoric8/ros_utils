{
 "cells": [
  {
   "cell_type": "code",
   "execution_count": 8,
   "metadata": {},
   "outputs": [],
   "source": [
    "import bagpy\n",
    "from bagpy import bagreader\n",
    "import matplotlib.pyplot as plt\n",
    "import pandas as pd\n",
    "import numpy as np\n",
    "import os\n",
    "import copy\n"
   ]
  },
  {
   "cell_type": "code",
   "execution_count": null,
   "metadata": {},
   "outputs": [
    {
     "name": "stdout",
     "output_type": "stream",
     "text": [
      "['./bags/second_fly_test.bag', './bags/first_fly_test.bag', './bags/fourth_try_test.bag', './bags/third_fly_test.bag']\n"
     ]
    }
   ],
   "source": [
    "# First fly test \n",
    "bag_name = \"./bags/first_fly_test.bag\"\n",
    "#b = bagreader(bag_name)\n",
    "\n",
    "bag_paths = []\n",
    "for bag_name in os.listdir(\"./bags\"):\n",
    "    bag_paths.append(\"./bags/{}\".format(bag_name))\n",
    "\n",
    "print(bag_paths)\n",
    "b = bagreader(bag_paths[1])"
   ]
  },
  {
   "cell_type": "code",
   "execution_count": 7,
   "metadata": {},
   "outputs": [
    {
     "ename": "FileNotFoundError",
     "evalue": "[Errno 2] No such file or directory: './bags/first_fly_test/red-mavros-adsb-vehicle.csv'",
     "output_type": "error",
     "traceback": [
      "\u001b[0;31m---------------------------------------------------------------------------\u001b[0m",
      "\u001b[0;31mFileNotFoundError\u001b[0m                         Traceback (most recent call last)",
      "\u001b[0;32m/tmp/ipykernel_347677/3538089077.py\u001b[0m in \u001b[0;36m<module>\u001b[0;34m\u001b[0m\n\u001b[1;32m      1\u001b[0m \u001b[0mcsv_files\u001b[0m \u001b[0;34m=\u001b[0m \u001b[0;34m[\u001b[0m\u001b[0;34m]\u001b[0m\u001b[0;34m\u001b[0m\u001b[0;34m\u001b[0m\u001b[0m\n\u001b[1;32m      2\u001b[0m \u001b[0;32mfor\u001b[0m \u001b[0mtopic\u001b[0m \u001b[0;32min\u001b[0m \u001b[0mb\u001b[0m\u001b[0;34m.\u001b[0m\u001b[0mtopics\u001b[0m\u001b[0;34m:\u001b[0m\u001b[0;34m\u001b[0m\u001b[0;34m\u001b[0m\u001b[0m\n\u001b[0;32m----> 3\u001b[0;31m     \u001b[0mdata\u001b[0m \u001b[0;34m=\u001b[0m \u001b[0mb\u001b[0m\u001b[0;34m.\u001b[0m\u001b[0mmessage_by_topic\u001b[0m\u001b[0;34m(\u001b[0m\u001b[0mtopic\u001b[0m\u001b[0;34m)\u001b[0m\u001b[0;34m\u001b[0m\u001b[0;34m\u001b[0m\u001b[0m\n\u001b[0m\u001b[1;32m      4\u001b[0m     \u001b[0mcsv_files\u001b[0m\u001b[0;34m.\u001b[0m\u001b[0mappend\u001b[0m\u001b[0;34m(\u001b[0m\u001b[0mdata\u001b[0m\u001b[0;34m)\u001b[0m\u001b[0;34m\u001b[0m\u001b[0;34m\u001b[0m\u001b[0m\n",
      "\u001b[0;32m~/.local/lib/python3.8/site-packages/bagpy/bagreader.py\u001b[0m in \u001b[0;36mmessage_by_topic\u001b[0;34m(self, topic)\u001b[0m\n\u001b[1;32m    296\u001b[0m \u001b[0;34m\u001b[0m\u001b[0m\n\u001b[1;32m    297\u001b[0m         \u001b[0;32mif\u001b[0m \u001b[0msys\u001b[0m\u001b[0;34m.\u001b[0m\u001b[0mhexversion\u001b[0m \u001b[0;34m>=\u001b[0m \u001b[0;36m0x3000000\u001b[0m\u001b[0;34m:\u001b[0m\u001b[0;34m\u001b[0m\u001b[0;34m\u001b[0m\u001b[0m\n\u001b[0;32m--> 298\u001b[0;31m             \u001b[0mopencall\u001b[0m \u001b[0;34m=\u001b[0m \u001b[0mopen\u001b[0m\u001b[0;34m(\u001b[0m\u001b[0mfile_to_write\u001b[0m\u001b[0;34m,\u001b[0m \u001b[0;34m\"w\"\u001b[0m\u001b[0;34m,\u001b[0m \u001b[0mnewline\u001b[0m\u001b[0;34m=\u001b[0m\u001b[0;34m''\u001b[0m\u001b[0;34m)\u001b[0m\u001b[0;34m\u001b[0m\u001b[0;34m\u001b[0m\u001b[0m\n\u001b[0m\u001b[1;32m    299\u001b[0m         \u001b[0;32melse\u001b[0m\u001b[0;34m:\u001b[0m\u001b[0;34m\u001b[0m\u001b[0;34m\u001b[0m\u001b[0m\n\u001b[1;32m    300\u001b[0m             \u001b[0mopencall\u001b[0m \u001b[0;34m=\u001b[0m \u001b[0mopen\u001b[0m\u001b[0;34m(\u001b[0m\u001b[0mfile_to_write\u001b[0m\u001b[0;34m,\u001b[0m \u001b[0;34m'wb'\u001b[0m\u001b[0;34m)\u001b[0m\u001b[0;34m\u001b[0m\u001b[0;34m\u001b[0m\u001b[0m\n",
      "\u001b[0;31mFileNotFoundError\u001b[0m: [Errno 2] No such file or directory: './bags/first_fly_test/red-mavros-adsb-vehicle.csv'"
     ]
    }
   ],
   "source": [
    "csv_files = []\n",
    "for topic in b.topics:\n",
    "    data = b.message_by_topic(topic)\n",
    "    csv_files.append(data)"
   ]
  },
  {
   "cell_type": "code",
   "execution_count": null,
   "metadata": {},
   "outputs": [],
   "source": [
    "topic_name = \"detected_objects\"\n",
    "for i, name in enumerate(csv_files): \n",
    "    if topic_name in name: \n",
    "        print(\"{}: {}\".format(i, name))"
   ]
  },
  {
   "cell_type": "code",
   "execution_count": null,
   "metadata": {},
   "outputs": [],
   "source": [
    "det_objs = pd.read_csv(csv_files[0])\n",
    "uav_pose = pd.read_csv(csv_files[2]); uav_pose = scale_time(uav_pose)\n",
    "net_pose = pd.read_csv(csv_files[7]); net_pose = scale_time(net_pose)\n"
   ]
  },
  {
   "cell_type": "code",
   "execution_count": null,
   "metadata": {},
   "outputs": [],
   "source": [
    "def find_closest_values(s, x):\n",
    "    idx = (np.abs(s - x)).argmin()\n",
    "    return idx\n",
    "    \n",
    "def crop_df_time(df, start_time, end_time):\n",
    "    \n",
    "    start_index = find_closest_values(df['Time'], start_time)\n",
    "    end_index = find_closest_values(df['Time'], end_time)\n",
    "    return df[start_index:end_index]\n",
    "\n",
    "def upsample_dataframes(df1, df2):\n",
    "    # Check which dataframe has fewer measurements\n",
    "    if len(df1) < len(df2):\n",
    "        shorter_df, longer_df = df1, df2\n",
    "    else:\n",
    "        shorter_df, longer_df = df2, df1\n",
    "\n",
    "    # Calculate the ratio for upsampling\n",
    "    ratio = len(longer_df) // len(shorter_df)\n",
    "\n",
    "    # Upsample the shorter dataframe to match the length of the longer dataframe\n",
    "    upsampled_shorter_df = pd.concat([shorter_df] * ratio, ignore_index=True)\n",
    "\n",
    "    # Trim the longer dataframe to match the length of the shorter dataframe\n",
    "    trimmed_longer_df = longer_df.iloc[:len(upsampled_shorter_df)]\n",
    "\n",
    "    return trimmed_longer_df, upsampled_shorter_df"
   ]
  },
  {
   "cell_type": "code",
   "execution_count": null,
   "metadata": {},
   "outputs": [],
   "source": [
    "def plot_position(pandas_odometry): \n",
    "    t = pandas_odometry['Time']\n",
    "    x = pandas_odometry['pose.pose.position.x']\n",
    "    y = pandas_odometry['pose.pose.position.y']\n",
    "    z = pandas_odometry['pose.pose.position.z']\n",
    "    \n",
    "    plt.figure(figsize=(14, 5))\n",
    "\n",
    "    # Plot positions over time\n",
    "    plt.plot(t, x, label='X Position', linestyle='-', marker='o')\n",
    "    plt.plot(t, y, label='Y Position', linestyle='-', marker='s')\n",
    "    plt.plot(t, z, label='Z Position', linestyle='-', marker='^')\n",
    "\n",
    "    # Set axis labels and a title\n",
    "    plt.xlabel('Time (t)')\n",
    "    plt.ylabel('Position[m]')\n",
    "    plt.title('Position')\n",
    "\n",
    "    # Add a legend\n",
    "    plt.legend()\n",
    "\n",
    "    # Show the plot\n",
    "    plt.grid(True)\n",
    "    plt.show()\n",
    "    \n",
    "def get_relative_position(odom1, odom2): \n",
    "    \n",
    "    t1 = odom1['Time']; t2 = odom2['Time']\n",
    "    len_t1 = len(t1); len_t2 = len(t2)\n",
    "    \n",
    "    if len(t1) > len(t2): \n",
    "        len_t1 = len(t2)\n",
    "    else: \n",
    "        len_t2 = len(t1)\n",
    "        \n",
    "    print(len_t1)\n",
    "    print(len_t2)\n",
    "        \n",
    "    x1 = odom1['pose.pose.position.x'][:len_t1]\n",
    "    y1 = odom1['pose.pose.position.y'][:len_t1]\n",
    "    z1 = odom1['pose.pose.position.z'][:len_t1]\n",
    "    \n",
    "    x2 = odom2['pose.pose.position.x'][:len_t2]\n",
    "    y2 = odom2['pose.pose.position.y'][:len_t2]\n",
    "    z2 = odom2['pose.pose.position.z'][:len_t2]\n",
    "    t1 = t1[:len_t1]\n",
    "    t2 = t2[:len_t2]\n",
    "    \n",
    "    t = t1\n",
    "    x = x1-x2\n",
    "    y = y1-y2\n",
    "    z = z1-z2 \n",
    "    \n",
    "    return t,x,y,z\n",
    "    \n",
    "def plot_relative_position(t, x, y, z): \n",
    "    \n",
    "    plt.figure(figsize=(10, 6))\n",
    "\n",
    "    # Plot positions over time\n",
    "    plt.plot(t, x, label='X Position', linestyle='-')\n",
    "    plt.plot(t, y, label='Y Position', linestyle='-')#, marker='s')\n",
    "    plt.plot(t, z, label='Z Position', linestyle='-')#, marker='^')\n",
    "\n",
    "    # Set axis labels and a title\n",
    "    plt.xlabel('Time (t)')\n",
    "    plt.ylabel('Position')\n",
    "    plt.title('Positions Over Time')\n",
    "\n",
    "    # Add a legend\n",
    "    plt.legend()\n",
    "\n",
    "    # Show the plot\n",
    "    plt.grid(True)\n",
    "    plt.show()\n",
    "    \n",
    "    "
   ]
  },
  {
   "cell_type": "code",
   "execution_count": null,
   "metadata": {},
   "outputs": [],
   "source": [
    "\n",
    "def plot_trajectory(x_coords, y_coords, z_coords):\n",
    "    \"\"\"\n",
    "    Plots a trajectory in 3D space.\n",
    "\n",
    "    Parameters:\n",
    "    - x_coords (list): List of x-coordinates.\n",
    "    - y_coords (list): List of y-coordinates.\n",
    "    - z_coords (list): List of z-coordinates.\n",
    "\n",
    "    Returns:\n",
    "    - None\n",
    "    \"\"\"\n",
    "    # Create a 3D figure\n",
    "    fig = plt.figure()\n",
    "    ax = fig.add_subplot(111, projection='3d')\n",
    "\n",
    "    # Plot the trajectory as a 3D line\n",
    "    ax.plot(x_coords, y_coords, z_coords, label='Trajectory', linewidth=2)\n",
    "\n",
    "    # Set labels for the axes\n",
    "    ax.set_xlabel('X-axis')\n",
    "    ax.set_ylabel('Y-axis')\n",
    "    ax.set_zlabel('Z-axis')\n",
    "\n",
    "    # Add a legend\n",
    "    ax.legend()\n",
    "\n",
    "    # Show the plot\n",
    "    plt.show()"
   ]
  },
  {
   "cell_type": "code",
   "execution_count": null,
   "metadata": {},
   "outputs": [],
   "source": [
    "plot_position(uav_pose)\n",
    "plot_position(net_pose)"
   ]
  },
  {
   "cell_type": "code",
   "execution_count": null,
   "metadata": {},
   "outputs": [],
   "source": [
    "def plot_positions(object1_positions, object2_positions, time_values):\n",
    "    \"\"\"\n",
    "    Plot positions of two objects over time in a subplot with two subplots (one below the other).\n",
    "\n",
    "    Parameters:\n",
    "    - object1_positions: List or NumPy array of positions for object 1 over time.\n",
    "    - object2_positions: List or NumPy array of positions for object 2 over time.\n",
    "    - time_values: List or NumPy array of time values.\n",
    "\n",
    "    Returns:\n",
    "    - None (displays the plot).\n",
    "    \"\"\"\n",
    "    if len(object1_positions) != len(object2_positions) or len(object1_positions) != len(time_values):\n",
    "        raise ValueError(\"Input arrays must have the same length.\")\n",
    "\n",
    "    # Create a 2x1 subplot grid\n",
    "    fig, (ax1, ax2) = plt.subplots(2, 1, sharex=True, figsize=(8, 6))\n",
    "\n",
    "    # Plot object 1 positions\n",
    "    ax1.plot(time_values, object1_positions, label='Object 1', color='blue', marker='o')\n",
    "    ax1.set_ylabel('Position of Object 1')\n",
    "    ax1.legend()\n",
    "\n",
    "    # Plot object 2 positions\n",
    "    ax2.plot(time_values, object2_positions, label='Object 2', color='green', marker='s')\n",
    "    ax2.set_xlabel('Time')\n",
    "    ax2.set_ylabel('Position of Object 2')\n",
    "    ax2.legend()\n",
    "\n",
    "    # Set a title for the entire subplot\n",
    "    plt.suptitle('Positions of Two Objects Over Time')\n",
    "\n",
    "    # Adjust spacing between subplots\n",
    "    plt.tight_layout()\n",
    "\n",
    "    # Show the plot\n",
    "    plt.show()\n",
    "\n",
    "# Example usage:\n",
    "# Replace these with your own data\n",
    "time_values = np.linspace(0, 10, 100)\n",
    "object1_positions = np.sin(time_values)\n",
    "object2_positions = np.cos(time_values)\n",
    "\n",
    "plot_positions(object1_positions, object2_positions, time_values)\n",
    "\n"
   ]
  },
  {
   "cell_type": "code",
   "execution_count": null,
   "metadata": {},
   "outputs": [],
   "source": [
    "#uav_pose_cropped = crop_df_time(uav_pose, 200, 300)\n",
    "#net_pose_cropped = crop_df_time(net_pose, 200, 300)\n",
    "t, x, y, z = get_relative_position(uav_pose, net_pose)\n",
    "plot_relative_position(t, x, y, z)"
   ]
  },
  {
   "cell_type": "markdown",
   "metadata": {},
   "source": [
    "# TODO: \n",
    "- [x] Plot UAV and the NET position \n",
    "- [x] Plot relative position\n",
    "- [x] Plot net orientation\n",
    "- [ ] Plot UAV and the NET position for the multiple times \n",
    "- [ ] Crop method based on the time\n",
    "- [ ] Plot relative position between UAV - NET (done) and Object (not done)  "
   ]
  },
  {
   "cell_type": "markdown",
   "metadata": {},
   "source": [
    "## Findings: \n",
    "- [x] When optitrack loses markers, we lose measurements (more optitrack markers)\n",
    "- [ ] Optitrack markers on a can (to record even relative position between net and the object) "
   ]
  },
  {
   "cell_type": "code",
   "execution_count": 155,
   "metadata": {},
   "outputs": [],
   "source": [
    "uav_pose_new, net_pose_new = upsample_dataframes(uav_pose, net_pose)"
   ]
  },
  {
   "cell_type": "code",
   "execution_count": 156,
   "metadata": {},
   "outputs": [
    {
     "name": "stdout",
     "output_type": "stream",
     "text": [
      "50238\n",
      "50238\n"
     ]
    },
    {
     "data": {
      "image/png": "[encoded data removed]",
      "text/plain": [
       "<Figure size 720x432 with 1 Axes>"
      ]
     },
     "metadata": {
      "needs_background": "light"
     },
     "output_type": "display_data"
    }
   ],
   "source": [
    "t, x, y, z = get_relative_position(uav_pose_new, net_pose_new)\n",
    "plot_relative_position(t, x, y, z)"
   ]
  },
  {
   "cell_type": "code",
   "execution_count": null,
   "metadata": {},
   "outputs": [],
   "source": []
  }
 ],
 "metadata": {
  "kernelspec": {
   "display_name": "Python 3 (ipykernel)",
   "language": "python",
   "name": "python3"
  },
  "language_info": {
   "codemirror_mode": {
    "name": "ipython",
    "version": 3
   },
   "file_extension": ".py",
   "mimetype": "text/x-python",
   "name": "python",
   "nbconvert_exporter": "python",
   "pygments_lexer": "ipython3",
   "version": "3.8.10"
  }
 },
 "nbformat": 4,
 "nbformat_minor": 4
}
