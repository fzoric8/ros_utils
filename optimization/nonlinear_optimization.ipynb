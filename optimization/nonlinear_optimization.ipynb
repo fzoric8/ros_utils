{
 "cells": [
  {
   "cell_type": "markdown",
   "metadata": {},
   "source": [
    "# Used resources\n",
    "\n",
    "* [Online book with examples](https://www.softcover.io/read/7b8eb7d0/juliabook2/linear) </br>\n",
    "* [Integer programming wiki](https://en.wikipedia.org/wiki/Integer_programming) </br>\n",
    "* [Linear programming wiki](https://en.wikipedia.org/wiki/Integer_programming) </br>\n",
    "* [Nonlinear optimization robotics](https://modernrobotics.northwestern.edu/nu-gm-book-resource/10-7-nonlinear-optimization/) </br>"
   ]
  },
  {
   "cell_type": "code",
   "execution_count": 15,
   "metadata": {},
   "outputs": [
    {
     "name": "stderr",
     "output_type": "stream",
     "text": [
      "\u001b[32m\u001b[1m  Resolving\u001b[22m\u001b[39m package versions...\n",
      "\u001b[32m\u001b[1m   Updating\u001b[22m\u001b[39m `~/.julia/environments/v1.4/Project.toml`\n",
      "\u001b[90m [no changes]\u001b[39m\n",
      "\u001b[32m\u001b[1m   Updating\u001b[22m\u001b[39m `~/.julia/environments/v1.4/Manifest.toml`\n",
      "\u001b[90m [no changes]\u001b[39m\n",
      "\u001b[32m\u001b[1m  Resolving\u001b[22m\u001b[39m package versions...\n",
      "\u001b[32m\u001b[1m  Installed\u001b[22m\u001b[39m Requires ───────────────────── v1.3.0\n",
      "\u001b[32m\u001b[1m  Installed\u001b[22m\u001b[39m SCS_GPU_jll ────────────────── v2.1.4+0\n",
      "\u001b[32m\u001b[1m  Installed\u001b[22m\u001b[39m SCS_jll ────────────────────── v2.1.4+0\n",
      "\u001b[32m\u001b[1m  Installed\u001b[22m\u001b[39m OpenBLAS_jll ───────────────── v0.3.9+5\n",
      "\u001b[32m\u001b[1m  Installed\u001b[22m\u001b[39m CompilerSupportLibraries_jll ─ v0.3.4+0\n",
      "\u001b[32m\u001b[1m  Installed\u001b[22m\u001b[39m BinaryProvider ─────────────── v0.5.10\n",
      "\u001b[32m\u001b[1m  Installed\u001b[22m\u001b[39m SCS ────────────────────────── v0.8.2\n",
      "######################################################################### 100,0%\n",
      "######################################################################### 100,0%\n",
      "######################################################################### 100,0%\n",
      "######################################################################### 100,0%\n",
      "\u001b[32m\u001b[1m   Updating\u001b[22m\u001b[39m `~/.julia/environments/v1.4/Project.toml`\n",
      " \u001b[90m [c946c3f1]\u001b[39m\u001b[92m + SCS v0.8.2\u001b[39m\n",
      "\u001b[32m\u001b[1m   Updating\u001b[22m\u001b[39m `~/.julia/environments/v1.4/Manifest.toml`\n",
      " \u001b[90m [b99e7846]\u001b[39m\u001b[92m + BinaryProvider v0.5.10\u001b[39m\n",
      " \u001b[90m [e66e0078]\u001b[39m\u001b[92m + CompilerSupportLibraries_jll v0.3.4+0\u001b[39m\n",
      " \u001b[90m [4536629a]\u001b[39m\u001b[92m + OpenBLAS_jll v0.3.9+5\u001b[39m\n",
      " \u001b[90m [ae029012]\u001b[39m\u001b[92m + Requires v1.3.0\u001b[39m\n",
      " \u001b[90m [c946c3f1]\u001b[39m\u001b[92m + SCS v0.8.2\u001b[39m\n",
      " \u001b[90m [af6e375f]\u001b[39m\u001b[92m + SCS_GPU_jll v2.1.4+0\u001b[39m\n",
      " \u001b[90m [f4f2fc5b]\u001b[39m\u001b[92m + SCS_jll v2.1.4+0\u001b[39m\n",
      "\u001b[32m\u001b[1m   Building\u001b[22m\u001b[39m SCS → `~/.julia/packages/SCS/kEMNd/deps/build.log`\n"
     ]
    }
   ],
   "source": [
    "import Pkg\n",
    "Pkg.add(\"Convex\")\n",
    "Pkg.add(\"SCS\")"
   ]
  },
  {
   "cell_type": "code",
   "execution_count": 16,
   "metadata": {},
   "outputs": [
    {
     "name": "stderr",
     "output_type": "stream",
     "text": [
      "┌ Info: Precompiling SCS [c946c3f1-0d1f-5ce8-9dea-7daa1f7e2d13]\n",
      "└ @ Base loading.jl:1260\n"
     ]
    }
   ],
   "source": [
    "using Convex, SCS"
   ]
  },
  {
   "cell_type": "code",
   "execution_count": 17,
   "metadata": {},
   "outputs": [
    {
     "data": {
      "text/plain": [
       "5"
      ]
     },
     "execution_count": 17,
     "metadata": {},
     "output_type": "execute_result"
    }
   ],
   "source": [
    "m = 4; n = 5"
   ]
  },
  {
   "cell_type": "code",
   "execution_count": 18,
   "metadata": {},
   "outputs": [],
   "source": [
    "A = randn(m, n); \n",
    "b = randn(m, 1); \n",
    "\n",
    "x = Variable(n); "
   ]
  },
  {
   "cell_type": "code",
   "execution_count": 19,
   "metadata": {},
   "outputs": [
    {
     "data": {
      "text/plain": [
       "minimize\n",
       "└─ qol_elem (convex; positive)\n",
       "   ├─ norm2 (convex; positive)\n",
       "   │  └─ + (affine; real)\n",
       "   │     ├─ …\n",
       "   │     └─ …\n",
       "   └─ [1.0]\n",
       "subject to\n",
       "└─ >= constraint (affine)\n",
       "   ├─ 5-element real variable (id: 103…555)\n",
       "   └─ 0\n",
       "\n",
       "status: `solve!` not called yet"
      ]
     },
     "execution_count": 19,
     "metadata": {},
     "output_type": "execute_result"
    }
   ],
   "source": [
    "problem = minimize(sumsquares(A * x -b), [x >= 0])"
   ]
  },
  {
   "cell_type": "code",
   "execution_count": 20,
   "metadata": {},
   "outputs": [],
   "source": [
    "solve!(problem, SCS.Optimizer; silent_solver = true)"
   ]
  },
  {
   "cell_type": "code",
   "execution_count": 21,
   "metadata": {},
   "outputs": [
    {
     "data": {
      "text/plain": [
       "1.8004173413974176e-12"
      ]
     },
     "execution_count": 21,
     "metadata": {},
     "output_type": "execute_result"
    }
   ],
   "source": [
    "# Chekc the status of the problem\n",
    "problem.status \n",
    "\n",
    "# Get the optimum value\n",
    "problem.optval"
   ]
  },
  {
   "cell_type": "code",
   "execution_count": 22,
   "metadata": {},
   "outputs": [
    {
     "name": "stdout",
     "output_type": "stream",
     "text": [
      "OPTIMAL\n"
     ]
    }
   ],
   "source": [
    "println(problem.status)"
   ]
  },
  {
   "cell_type": "markdown",
   "metadata": {},
   "source": [
    "## Variables \n",
    "\n"
   ]
  },
  {
   "cell_type": "code",
   "execution_count": 23,
   "metadata": {},
   "outputs": [
    {
     "data": {
      "text/plain": [
       "Variable\n",
       "size: (4, 6)\n",
       "sign: real\n",
       "vexity: affine\n",
       "id: 114…409"
      ]
     },
     "execution_count": 23,
     "metadata": {},
     "output_type": "execute_result"
    }
   ],
   "source": [
    "# Scalar variable \n",
    "x = Variable()\n",
    "\n",
    "# Column vector variable \n",
    "x = Variable(5)\n",
    "\n",
    "# Matrix variable \n",
    "x = Variable(4, 6)"
   ]
  },
  {
   "cell_type": "code",
   "execution_count": 31,
   "metadata": {},
   "outputs": [
    {
     "name": "stdout",
     "output_type": "stream",
     "text": [
      "Variable\n",
      "size: (5, 1)\n",
      "sign: real\n",
      "vexity: affine\n",
      "id: 523…650\n"
     ]
    },
    {
     "data": {
      "text/plain": [
       "index (affine; real)\n",
       "└─ + (affine; real)\n",
       "   ├─ * (affine; real)\n",
       "   │  ├─ 4\n",
       "   │  └─ 5-element real variable (id: 523…650)\n",
       "   └─ sum (affine; real)\n",
       "      └─ 5-element real variable (id: 523…650)"
      ]
     },
     "execution_count": 31,
     "metadata": {},
     "output_type": "execute_result"
    }
   ],
   "source": [
    "x = Variable(5)\n",
    "println(x)\n",
    "y = sum(x)\n",
    "z = 4 * x + y"
   ]
  },
  {
   "cell_type": "markdown",
   "metadata": {},
   "source": [
    "## Linear programming (LP) problems \n",
    "\n",
    "Consider the following LP problem: \n",
    "\n",
    "$$ max x_1 + 2x_2 + 5x_3 $$\n",
    "\n",
    "subject to \n",
    "\n",
    "$$ - x_1 + x_2 + 3x_3 <= -5 $$\n",
    "$$ x_1 + 3x_2 - 7x_3 <= 10 $$\n",
    "$$ 0 <= x_1 <= 10 $$\n",
    "$$ x_2 >= 0 $$\n",
    "$$ x_3 >= 0 $$\n",
    "\n",
    "\n",
    "\n"
   ]
  },
  {
   "cell_type": "code",
   "execution_count": 33,
   "metadata": {},
   "outputs": [
    {
     "name": "stderr",
     "output_type": "stream",
     "text": [
      "\u001b[32m\u001b[1m  Resolving\u001b[22m\u001b[39m package versions...\n",
      "\u001b[32m\u001b[1m  Installed\u001b[22m\u001b[39m DiffResults ────────── v1.0.3\n",
      "\u001b[32m\u001b[1m  Installed\u001b[22m\u001b[39m DiffRules ──────────── v1.11.1\n",
      "\u001b[32m\u001b[1m  Installed\u001b[22m\u001b[39m LogExpFunctions ────── v0.3.18\n",
      "\u001b[32m\u001b[1m  Installed\u001b[22m\u001b[39m ChainRulesCore ─────── v1.12.2\n",
      "\u001b[32m\u001b[1m  Installed\u001b[22m\u001b[39m Compat ─────────────── v3.46.0\n",
      "\u001b[32m\u001b[1m  Installed\u001b[22m\u001b[39m NaNMath ────────────── v0.3.7\n",
      "\u001b[32m\u001b[1m  Installed\u001b[22m\u001b[39m IrrationalConstants ── v0.1.1\n",
      "\u001b[32m\u001b[1m  Installed\u001b[22m\u001b[39m JuMP ───────────────── v0.22.3\n",
      "\u001b[32m\u001b[1m  Installed\u001b[22m\u001b[39m Calculus ───────────── v0.5.1\n",
      "\u001b[32m\u001b[1m  Installed\u001b[22m\u001b[39m OpenSpecFun_jll ────── v0.5.3+4\n",
      "\u001b[32m\u001b[1m  Installed\u001b[22m\u001b[39m DataStructures ─────── v0.18.13\n",
      "\u001b[32m\u001b[1m  Installed\u001b[22m\u001b[39m OpenLibm_jll ───────── v0.7.1+0\n",
      "\u001b[32m\u001b[1m  Installed\u001b[22m\u001b[39m StaticArrays ───────── v1.3.6\n",
      "\u001b[32m\u001b[1m  Installed\u001b[22m\u001b[39m ForwardDiff ────────── v0.10.32\n",
      "\u001b[32m\u001b[1m  Installed\u001b[22m\u001b[39m InverseFunctions ───── v0.1.8\n",
      "\u001b[32m\u001b[1m  Installed\u001b[22m\u001b[39m CommonSubexpressions ─ v0.3.0\n",
      "\u001b[32m\u001b[1m  Installed\u001b[22m\u001b[39m ChangesOfVariables ─── v0.1.4\n",
      "\u001b[32m\u001b[1m  Installed\u001b[22m\u001b[39m DocStringExtensions ── v0.9.1\n",
      "\u001b[32m\u001b[1m  Installed\u001b[22m\u001b[39m SpecialFunctions ───── v2.1.7\n",
      "\u001b[32m\u001b[1m  Installed\u001b[22m\u001b[39m MacroTools ─────────── v0.5.10\n",
      "######################################################################### 100,0%\n",
      "######################################################################### 100,0%\n",
      "\u001b[32m\u001b[1m   Updating\u001b[22m\u001b[39m `~/.julia/environments/v1.4/Project.toml`\n",
      " \u001b[90m [4076af6c]\u001b[39m\u001b[92m + JuMP v0.22.3\u001b[39m\n",
      "\u001b[32m\u001b[1m   Updating\u001b[22m\u001b[39m `~/.julia/environments/v1.4/Manifest.toml`\n",
      " \u001b[90m [49dc2e85]\u001b[39m\u001b[92m + Calculus v0.5.1\u001b[39m\n",
      " \u001b[90m [d360d2e6]\u001b[39m\u001b[92m + ChainRulesCore v1.12.2\u001b[39m\n",
      " \u001b[90m [9e997f8a]\u001b[39m\u001b[92m + ChangesOfVariables v0.1.4\u001b[39m\n",
      " \u001b[90m [bbf7d656]\u001b[39m\u001b[92m + CommonSubexpressions v0.3.0\u001b[39m\n",
      " \u001b[90m [34da2185]\u001b[39m\u001b[92m + Compat v3.46.0\u001b[39m\n",
      " \u001b[90m [864edb3b]\u001b[39m\u001b[92m + DataStructures v0.18.13\u001b[39m\n",
      " \u001b[90m [163ba53b]\u001b[39m\u001b[92m + DiffResults v1.0.3\u001b[39m\n",
      " \u001b[90m [b552c78f]\u001b[39m\u001b[92m + DiffRules v1.11.1\u001b[39m\n",
      " \u001b[90m [ffbed154]\u001b[39m\u001b[92m + DocStringExtensions v0.9.1\u001b[39m\n",
      " \u001b[90m [f6369f11]\u001b[39m\u001b[92m + ForwardDiff v0.10.32\u001b[39m\n",
      " \u001b[90m [3587e190]\u001b[39m\u001b[92m + InverseFunctions v0.1.8\u001b[39m\n",
      " \u001b[90m [92d709cd]\u001b[39m\u001b[92m + IrrationalConstants v0.1.1\u001b[39m\n",
      " \u001b[90m [4076af6c]\u001b[39m\u001b[92m + JuMP v0.22.3\u001b[39m\n",
      " \u001b[90m [2ab3a3ac]\u001b[39m\u001b[92m + LogExpFunctions v0.3.18\u001b[39m\n",
      " \u001b[90m [1914dd2f]\u001b[39m\u001b[92m + MacroTools v0.5.10\u001b[39m\n",
      " \u001b[90m [77ba4419]\u001b[39m\u001b[92m + NaNMath v0.3.7\u001b[39m\n",
      " \u001b[90m [05823500]\u001b[39m\u001b[92m + OpenLibm_jll v0.7.1+0\u001b[39m\n",
      " \u001b[90m [efe28fd5]\u001b[39m\u001b[92m + OpenSpecFun_jll v0.5.3+4\u001b[39m\n",
      " \u001b[90m [276daf66]\u001b[39m\u001b[92m + SpecialFunctions v2.1.7\u001b[39m\n",
      " \u001b[90m [90137ffa]\u001b[39m\u001b[92m + StaticArrays v1.3.6\u001b[39m\n",
      " \u001b[90m [8bb1440f]\u001b[39m\u001b[92m + DelimitedFiles \u001b[39m\n",
      " \u001b[90m [1a1011a3]\u001b[39m\u001b[92m + SharedArrays \u001b[39m\n"
     ]
    }
   ],
   "source": [
    "Pkg.add(\"JuMP\")"
   ]
  },
  {
   "cell_type": "code",
   "execution_count": 35,
   "metadata": {},
   "outputs": [
    {
     "name": "stderr",
     "output_type": "stream",
     "text": [
      "\u001b[32m\u001b[1m  Resolving\u001b[22m\u001b[39m package versions...\n",
      "\u001b[32m\u001b[1m  Installed\u001b[22m\u001b[39m CEnum ──── v0.4.2\n",
      "\u001b[32m\u001b[1m  Installed\u001b[22m\u001b[39m GLPK_jll ─ v5.0.0+0\n",
      "\u001b[32m\u001b[1m  Installed\u001b[22m\u001b[39m GMP_jll ── v6.1.2+6\n",
      "\u001b[32m\u001b[1m  Installed\u001b[22m\u001b[39m GLPK ───── v0.15.3\n",
      "######################################################################### 100,0%\n",
      "######################################################################### 100,0%\n",
      "\u001b[32m\u001b[1m   Updating\u001b[22m\u001b[39m `~/.julia/environments/v1.4/Project.toml`\n",
      " \u001b[90m [60bf3e95]\u001b[39m\u001b[92m + GLPK v0.15.3\u001b[39m\n",
      "\u001b[32m\u001b[1m   Updating\u001b[22m\u001b[39m `~/.julia/environments/v1.4/Manifest.toml`\n",
      " \u001b[90m [fa961155]\u001b[39m\u001b[92m + CEnum v0.4.2\u001b[39m\n",
      " \u001b[90m [60bf3e95]\u001b[39m\u001b[92m + GLPK v0.15.3\u001b[39m\n",
      " \u001b[90m [e8aa6df9]\u001b[39m\u001b[92m + GLPK_jll v5.0.0+0\u001b[39m\n",
      " \u001b[90m [781609d7]\u001b[39m\u001b[92m + GMP_jll v6.1.2+6\u001b[39m\n",
      "\u001b[32m\u001b[1m   Building\u001b[22m\u001b[39m GLPK → `~/.julia/packages/GLPK/az2oT/deps/build.log`\n"
     ]
    }
   ],
   "source": [
    "Pkg.add(\"GLPK\")"
   ]
  },
  {
   "cell_type": "code",
   "execution_count": 39,
   "metadata": {},
   "outputs": [
    {
     "data": {
      "text/latex": [
       "$$ \\begin{aligned}\n",
       "\\max\\quad & x1 + 2 x2 + 5 x3\\\\\n",
       "\\text{Subject to} \\quad & -x1 + x2 + 3 x3 \\leq -5.0\\\\\n",
       " & x1 + 3 x2 - 7 x3 \\leq 10.0\\\\\n",
       " & x1 \\geq 0.0\\\\\n",
       " & x2 \\geq 0.0\\\\\n",
       " & x3 \\geq 0.0\\\\\n",
       " & x1 \\leq 10.0\\\\\n",
       "\\end{aligned} $$"
      ]
     },
     "metadata": {},
     "output_type": "display_data"
    }
   ],
   "source": [
    "using JuMP, GLPK \n",
    "\n",
    "# Preparing an optimization problem \n",
    "m = Model(GLPK.Optimizer)\n",
    "\n",
    "# Declaring variables\n",
    "@variable(m, 0 <= x1 <= 10)\n",
    "@variable(m, x2>= 0)\n",
    "@variable(m, x3>=0)\n",
    "\n",
    "# Setting the objective \n",
    "@objective(m, Max, x1 + 2x2 + 5x3)\n",
    "\n",
    "# Adding constraints\n",
    "@constraint(m, constraint1, -x1 + x2 + 3x3 <= -5)\n",
    "@constraint(m, constraint2, x1 + 3x2 - 7x3 <= 10)\n",
    "\n",
    "# Printing the prepared optimization model \n",
    "print(m)"
   ]
  },
  {
   "cell_type": "code",
   "execution_count": 40,
   "metadata": {},
   "outputs": [],
   "source": [
    "JuMP.optimize!(m)"
   ]
  },
  {
   "cell_type": "code",
   "execution_count": 41,
   "metadata": {},
   "outputs": [
    {
     "name": "stdout",
     "output_type": "stream",
     "text": [
      "Optimal Solutions: \n",
      "x1 = 10.0\n",
      "x2 = 2.1875\n",
      "x3 = 0.9375\n"
     ]
    }
   ],
   "source": [
    "println(\"Optimal Solutions: \")\n",
    "println(\"x1 = \", JuMP.value(x1))\n",
    "println(\"x2 = \", JuMP.value(x2))\n",
    "println(\"x3 = \", JuMP.value(x3))"
   ]
  },
  {
   "cell_type": "markdown",
   "metadata": {},
   "source": [
    "## Alternative Ways of Writing LP Problems\n",
    "\n",
    "We can use arrays to define variables. For the same LP problem as in the previous section, we can write a Julia code alternatively as follows: \n",
    "\n",
    "To define the variable $$\\mathbf{x}$$ as a three-dimensional vector, we can write: \n"
   ]
  },
  {
   "cell_type": "code",
   "execution_count": 45,
   "metadata": {},
   "outputs": [
    {
     "data": {
      "text/plain": [
       "3-element Array{VariableRef,1}:\n",
       " x[1]\n",
       " x[2]\n",
       " x[3]"
      ]
     },
     "execution_count": 45,
     "metadata": {},
     "output_type": "execute_result"
    }
   ],
   "source": [
    "m = Model(GLPK.Optimizer)\n",
    "@variable(m, x[1:3] >= 0)"
   ]
  },
  {
   "cell_type": "code",
   "execution_count": 46,
   "metadata": {},
   "outputs": [
    {
     "data": {
      "text/latex": [
       "$$ x_{1} + 2 x_{2} + 5 x_{3} $$"
      ],
      "text/plain": [
       "x[1] + 2 x[2] + 5 x[3]"
      ]
     },
     "execution_count": 46,
     "metadata": {},
     "output_type": "execute_result"
    }
   ],
   "source": [
    "c = [1; 2; 5]\n",
    "@objective(m, Max, sum( c[i]*x[i] for i in 1:3))"
   ]
  },
  {
   "cell_type": "markdown",
   "metadata": {},
   "source": [
    "which is essentialy same as: \n",
    "\n",
    "$$ max \\Sigma_{i=1}^3 c_ix_i $$ \n",
    "\n",
    "In LP problems, constraints are usually written in: \n",
    "$$\\mathbf{Ax} \\leq \\mathbf{b} $$ \n",
    "\n",
    "Following this convention, we prepare matrix $$\\mathbf{A}$$ and a vector $$\\mathbf{b}$$. "
   ]
  },
  {
   "cell_type": "code",
   "execution_count": 47,
   "metadata": {},
   "outputs": [
    {
     "data": {
      "text/latex": [
       "bound : $ x_{1} \\leq 10.0 $"
      ],
      "text/plain": [
       "bound : x[1] ≤ 10.0"
      ]
     },
     "execution_count": 47,
     "metadata": {},
     "output_type": "execute_result"
    }
   ],
   "source": [
    "A = [-1 1 3; \n",
    "      1 3 -7]\n",
    "b = [-5, 10]\n",
    "@constraint(m, constraint1, sum(A[1, i] * x[i] for i in 1:3) <= b[1])\n",
    "@constraint(m, constraint2, sum(A[2, i] * x[i] for i in 1:3) <= b[2])\n",
    "@constraint(m, bound, x[1] <= 10)"
   ]
  },
  {
   "cell_type": "code",
   "execution_count": 48,
   "metadata": {},
   "outputs": [],
   "source": [
    "JuMP.optimize!(m)"
   ]
  },
  {
   "cell_type": "code",
   "execution_count": 50,
   "metadata": {},
   "outputs": [
    {
     "name": "stdout",
     "output_type": "stream",
     "text": [
      "Optimal Solutions:\n",
      "x[1] = 10.0\n",
      "x[2] = 2.1875\n",
      "x[3] = 0.9375\n"
     ]
    }
   ],
   "source": [
    "println(\"Optimal Solutions:\")\n",
    "for i in 1:3\n",
    "  println(\"x[$i] = \", JuMP.value(x[i]))\n",
    "end"
   ]
  },
  {
   "cell_type": "markdown",
   "metadata": {},
   "source": [
    "### Linear programming \n",
    "\n",
    "Mathematical modeling technique in which a linear function is maximized or minimized when subjected to various constraints.\n",
    "\n",
    "### Mixed Integer programming \n",
    "\n",
    "An integer programming problem is a mathematical optimization or feasibility program in which some or all of the variables are restricted to be integers.\n",
    "\n",
    "If some decision variables are not discrete, the problem is known as a mixed-integer programming problem.(src: wiki - integer programming) \n",
    "\n",
    "Example of using mixed integer programming in robotics for task allocation ca be found [here](https://arxiv.org/pdf/2106.06772.pdf)\n"
   ]
  },
  {
   "cell_type": "markdown",
   "metadata": {},
   "source": [
    "### Let's recreate the problem \n",
    "\n",
    "Suppouse that now is $x_2$ an integer value and $x_3$ is a binary variable in the previous LP problem. That is: \n",
    "\n",
    "$$ max x_1 + 2x_2 + 5x_3$$\n",
    "\n",
    "subject to: \n",
    "\n",
    "$$ -x_1 + x_2 + 3x_3 \\leq -5$$\n",
    "$$ x_1 + 3x_2 - 7x_3 \\leq 10 $$\n",
    "$$ 0 \\leq x_1 \\leq 10 $$\n",
    "$$ x_2 \\geq 0 Integer $$\n",
    "$$ x_3 \\in \\{0, 1\\} $$"
   ]
  },
  {
   "cell_type": "code",
   "execution_count": 56,
   "metadata": {},
   "outputs": [
    {
     "data": {
      "text/plain": [
       "A JuMP Model\n",
       "Feasibility problem with:\n",
       "Variables: 0\n",
       "Model mode: AUTOMATIC\n",
       "CachingOptimizer state: EMPTY_OPTIMIZER\n",
       "Solver name: GLPK"
      ]
     },
     "execution_count": 56,
     "metadata": {},
     "output_type": "execute_result"
    }
   ],
   "source": [
    "m = Model(GLPK.Optimizer)\n"
   ]
  },
  {
   "cell_type": "code",
   "execution_count": 57,
   "metadata": {},
   "outputs": [
    {
     "data": {
      "text/latex": [
       "$$ \\begin{aligned}\n",
       "\\max\\quad & x1 + 2 x2 + 5 x3\\\\\n",
       "\\text{Subject to} \\quad & -x1 + x2 + 3 x3 \\leq -5.0\\\\\n",
       " & x1 + 3 x2 - 7 x3 \\leq 10.0\\\\\n",
       " & x1 \\geq 0.0\\\\\n",
       " & x2 \\geq 0.0\\\\\n",
       " & x1 \\leq 10.0\\\\\n",
       " & x2 \\in \\mathbb{Z}\\\\\n",
       " & x3 \\in \\{0, 1\\}\\\\\n",
       "\\end{aligned} $$"
      ]
     },
     "metadata": {},
     "output_type": "display_data"
    }
   ],
   "source": [
    "# Declare variables\n",
    "@variable(m, 0 <= x1 <= 10)\n",
    "@variable(m, x2 >= 0, Int)\n",
    "@variable(m, x3, Bin)\n",
    "\n",
    "# Setting the objective\n",
    "@objective(m, Max, x1 + 2x2 + 5x3)\n",
    "\n",
    "# Set constraints \n",
    "@constraint(m, constraint1, -x1 + x2 + 3x3 <= -5)\n",
    "@constraint(m, constraint2, x1 + 3x2 - 7x3 <= 10)\n",
    "\n",
    "# Printing the prepared optimization model \n",
    "print(m)\n",
    "\n",
    "# Solving the optimization problem \n",
    "JuMP.optimize!(m)"
   ]
  },
  {
   "cell_type": "code",
   "execution_count": 59,
   "metadata": {},
   "outputs": [
    {
     "name": "stdout",
     "output_type": "stream",
     "text": [
      "Optimal Solutions:\n",
      "x1 = 10.0\n",
      "x2 = 2.0\n",
      "x3 = 1.0\n"
     ]
    }
   ],
   "source": [
    "# Printing the optimal solutions obtained\n",
    "println(\"Optimal Solutions:\")\n",
    "println(\"x1 = \", JuMP.value(x1))\n",
    "println(\"x2 = \", JuMP.value(x2))\n",
    "println(\"x3 = \", JuMP.value(x3))"
   ]
  },
  {
   "cell_type": "markdown",
   "metadata": {},
   "source": [
    "# [Book](https://www.softcover.io/read/7b8eb7d0/juliabook2/numerical)"
   ]
  },
  {
   "cell_type": "code",
   "execution_count": null,
   "metadata": {},
   "outputs": [],
   "source": []
  }
 ],
 "metadata": {
  "kernelspec": {
   "display_name": "Julia 1.4.1",
   "language": "julia",
   "name": "julia-1.4"
  },
  "language_info": {
   "file_extension": ".jl",
   "mimetype": "application/julia",
   "name": "julia",
   "version": "1.4.1"
  }
 },
 "nbformat": 4,
 "nbformat_minor": 4
}
