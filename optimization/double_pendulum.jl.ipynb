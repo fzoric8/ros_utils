{
 "cells": [
  {
   "cell_type": "code",
   "execution_count": 6,
   "metadata": {},
   "outputs": [
    {
     "name": "stderr",
     "output_type": "stream",
     "text": [
      "\u001b[32m\u001b[1m  Resolving\u001b[22m\u001b[39m package versions...\n",
      "\u001b[32m\u001b[1m   Updating\u001b[22m\u001b[39m `~/.julia/environments/v1.4/Project.toml`\n",
      "\u001b[90m [no changes]\u001b[39m\n",
      "\u001b[32m\u001b[1m   Updating\u001b[22m\u001b[39m `~/.julia/environments/v1.4/Manifest.toml`\n",
      "\u001b[90m [no changes]\u001b[39m\n",
      "\u001b[32m\u001b[1m  Resolving\u001b[22m\u001b[39m package versions...\n",
      "\u001b[32m\u001b[1m   Updating\u001b[22m\u001b[39m `~/.julia/environments/v1.4/Project.toml`\n",
      "\u001b[90m [no changes]\u001b[39m\n",
      "\u001b[32m\u001b[1m   Updating\u001b[22m\u001b[39m `~/.julia/environments/v1.4/Manifest.toml`\n",
      "\u001b[90m [no changes]\u001b[39m\n",
      "\u001b[32m\u001b[1m  Resolving\u001b[22m\u001b[39m package versions...\n",
      "\u001b[32m\u001b[1m   Updating\u001b[22m\u001b[39m `~/.julia/environments/v1.4/Project.toml`\n",
      "\u001b[90m [no changes]\u001b[39m\n",
      "\u001b[32m\u001b[1m   Updating\u001b[22m\u001b[39m `~/.julia/environments/v1.4/Manifest.toml`\n",
      "\u001b[90m [no changes]\u001b[39m\n"
     ]
    }
   ],
   "source": [
    "import Pkg; \n",
    "\n",
    "# Add packages\n",
    "Pkg.add(\"RigidBodyDynamics\"); \n",
    "Pkg.add(\"LinearAlgebra\"); \n",
    "Pkg.add(\"StaticArrays\");\n",
    "\n",
    "# Use packages\n",
    "using RigidBodyDynamics; \n",
    "using LinearAlgebra; \n",
    "using StaticArrays; "
   ]
  },
  {
   "cell_type": "code",
   "execution_count": 7,
   "metadata": {},
   "outputs": [
    {
     "data": {
      "text/plain": [
       "Spanning tree:\n",
       "Vertex: world (root)\n",
       "No non-tree joints."
      ]
     },
     "execution_count": 7,
     "metadata": {},
     "output_type": "execute_result"
    }
   ],
   "source": [
    "g = -9.81\n",
    "world = RigidBody{Float64}(\"world\")\n",
    "doublependulum = Mechanism(world, gravity=SVector(0, 0, g))"
   ]
  },
  {
   "cell_type": "markdown",
   "metadata": {},
   "source": [
    "## Create double link pendulum "
   ]
  },
  {
   "cell_type": "code",
   "execution_count": 10,
   "metadata": {},
   "outputs": [
    {
     "data": {
      "text/plain": [
       "SpatialInertia expressed in \"upper_link\" (id = 3):\n",
       "mass: 1.0\n",
       "center of mass: Point3D in \"upper_link\": [0.0, 0.0, -0.5]\n",
       "moment of inertia (about origin of \"upper_link\" (id = 3):\n",
       "[0.0 0.0 0.0; 0.0 0.333 0.0; 0.0 0.0 0.0]"
      ]
     },
     "execution_count": 10,
     "metadata": {},
     "output_type": "execute_result"
    }
   ],
   "source": [
    "axis = SVector(0., 1., 0) # joint axis\n",
    "I_1 = 0.333\n",
    "c_1 = -0.5\n",
    "m_1 = 1\n",
    "frame1 = CartesianFrame3D(\"upper_link\")\n",
    "inertia1 = SpatialInertia(frame1, \n",
    "            moment=I_1 * axis * axis', \n",
    "            com=SVector(0, 0, c_1), \n",
    "            mass=m_1)"
   ]
  },
  {
   "cell_type": "code",
   "execution_count": 17,
   "metadata": {},
   "outputs": [
    {
     "data": {
      "text/plain": [
       "RigidBody: \"upper_link\""
      ]
     },
     "execution_count": 17,
     "metadata": {},
     "output_type": "execute_result"
    }
   ],
   "source": [
    "upperlink = RigidBody(inertia1)"
   ]
  },
  {
   "cell_type": "code",
   "execution_count": 18,
   "metadata": {},
   "outputs": [
    {
     "data": {
      "text/plain": [
       "Joint \"shoulder\": Revolute joint with axis [0.0, 1.0, 0.0]"
      ]
     },
     "execution_count": 18,
     "metadata": {},
     "output_type": "execute_result"
    }
   ],
   "source": [
    "shoulder = Joint(\"shoulder\", Revolute(axis))"
   ]
  },
  {
   "cell_type": "code",
   "execution_count": 19,
   "metadata": {},
   "outputs": [
    {
     "data": {
      "text/plain": [
       "Transform3D from \"before_shoulder\" to \"world\":\n",
       "rotation: 0.0 rad about [1.0, 0.0, 0.0], translation: [0.0, 0.0, 0.0]"
      ]
     },
     "execution_count": 19,
     "metadata": {},
     "output_type": "execute_result"
    }
   ],
   "source": [
    "before_shoulder_to_world = one(Transform3D, \n",
    "                           frame_before(shoulder), default_frame(world))"
   ]
  },
  {
   "cell_type": "code",
   "execution_count": 21,
   "metadata": {},
   "outputs": [
    {
     "data": {
      "text/plain": [
       "Spanning tree:\n",
       "Vertex: world (root)\n",
       "  Vertex: upper_link, Edge: shoulder\n",
       "No non-tree joints."
      ]
     },
     "execution_count": 21,
     "metadata": {},
     "output_type": "execute_result"
    }
   ],
   "source": [
    "attach!(doublependulum, world, upperlink, shoulder,\n",
    "        joint_pose = before_shoulder_to_world)"
   ]
  },
  {
   "cell_type": "code",
   "execution_count": 22,
   "metadata": {},
   "outputs": [
    {
     "data": {
      "text/plain": [
       "Spanning tree:\n",
       "Vertex: world (root)\n",
       "  Vertex: upper_link, Edge: shoulder\n",
       "    Vertex: lower_link, Edge: elbow\n",
       "No non-tree joints."
      ]
     },
     "execution_count": 22,
     "metadata": {},
     "output_type": "execute_result"
    }
   ],
   "source": [
    "l_1 = -1; \n",
    "I_2 = 0.333; \n",
    "c_2 = -0.5; \n",
    "m_2 = 1.; \n",
    "\n",
    "inertia2 = SpatialInertia(CartesianFrame3D(\"lower_link\"), \n",
    "            moment=I_2 * axis * axis', \n",
    "            com=SVector(0, 0, c_2), \n",
    "            mass=m_2)\n",
    "lowerlink = RigidBody(inertia2)\n",
    "elbow = Joint(\"elbow\", Revolute(axis))\n",
    "before_elbow_to_after_shoulder = Transform3D(\n",
    "    frame_before(elbow), frame_after(shoulder), SVector(0, 0, l_1))\n",
    "attach!(doublependulum, upperlink, lowerlink, elbow,\n",
    "    joint_pose = before_elbow_to_after_shoulder)"
   ]
  },
  {
   "cell_type": "code",
   "execution_count": 23,
   "metadata": {},
   "outputs": [
    {
     "data": {
      "text/plain": [
       "MechanismState{Float64, Float64, Float64, …}(…)"
      ]
     },
     "execution_count": 23,
     "metadata": {},
     "output_type": "execute_result"
    }
   ],
   "source": [
    "state = MechanismState(doublependulum)"
   ]
  },
  {
   "cell_type": "code",
   "execution_count": 24,
   "metadata": {},
   "outputs": [],
   "source": [
    "set_configuration!(state, shoulder, 0.3);\n",
    "set_configuration!(state, elbow, 0.4);\n",
    "set_velocity!(state, shoulder, 1.);\n",
    "set_velocity!(state, elbow, 2.);\n"
   ]
  },
  {
   "cell_type": "code",
   "execution_count": 25,
   "metadata": {},
   "outputs": [
    {
     "data": {
      "text/plain": [
       "2-element SegmentedVector{JointID,Float64,Base.OneTo{JointID},Array{Float64,1}}:\n",
       " 0.0\n",
       " 0.0"
      ]
     },
     "execution_count": 25,
     "metadata": {},
     "output_type": "execute_result"
    }
   ],
   "source": [
    "q = configuration(state)\n",
    "v = velocity(state)"
   ]
  },
  {
   "cell_type": "code",
   "execution_count": 27,
   "metadata": {},
   "outputs": [
    {
     "data": {
      "text/plain": [
       "Point3D in \"world\": [-0.29552020666133955, 0.0, -0.955336489125606]"
      ]
     },
     "execution_count": 27,
     "metadata": {},
     "output_type": "execute_result"
    }
   ],
   "source": [
    "transform(state, Point3D(frame_after(elbow), zero(SVector{3})), \n",
    "        default_frame(world))"
   ]
  },
  {
   "cell_type": "code",
   "execution_count": 28,
   "metadata": {},
   "outputs": [
    {
     "data": {
      "text/plain": [
       "Transform3D from \"after_elbow\" to \"world\":\n",
       "rotation: 0.3 rad about [1.6266700491214728e-62, 1.0, 0.0], translation: [-0.29552020666133955, 0.0, -0.955336489125606]"
      ]
     },
     "execution_count": 28,
     "metadata": {},
     "output_type": "execute_result"
    }
   ],
   "source": [
    "transform_to_root(state, frame_after(elbow))"
   ]
  },
  {
   "cell_type": "code",
   "execution_count": 29,
   "metadata": {},
   "outputs": [
    {
     "data": {
      "text/plain": [
       "Transform3D from \"after_elbow\" to \"after_shoulder\":\n",
       "rotation: 0.0 rad about [1.0, 0.0, 0.0], translation: [9.370825333944079e-18, 0.0, -0.9999999999999999]"
      ]
     },
     "execution_count": 29,
     "metadata": {},
     "output_type": "execute_result"
    }
   ],
   "source": [
    "relative_transform(state, frame_after(elbow), frame_after(shoulder))"
   ]
  },
  {
   "cell_type": "code",
   "execution_count": 30,
   "metadata": {},
   "outputs": [
    {
     "data": {
      "text/plain": [
       "Point3D in \"world\": [-0.29552020666133955, 0.0, -0.955336489125606]"
      ]
     },
     "execution_count": 30,
     "metadata": {},
     "output_type": "execute_result"
    }
   ],
   "source": [
    "center_of_mass(state)"
   ]
  },
  {
   "cell_type": "code",
   "execution_count": 31,
   "metadata": {},
   "outputs": [
    {
     "data": {
      "text/plain": [
       "2×2 Symmetric{Float64,Array{Float64,2}}:\n",
       " 2.666  0.833\n",
       " 0.833  0.333"
      ]
     },
     "execution_count": 31,
     "metadata": {},
     "output_type": "execute_result"
    }
   ],
   "source": [
    "mass_matrix(state)"
   ]
  },
  {
   "cell_type": "markdown",
   "metadata": {},
   "source": [
    "**useful info:** the `!` at the end of a method is a Julia convention signifying that the function is 'in-place', i.e. modifies its input data)."
   ]
  },
  {
   "cell_type": "code",
   "execution_count": 32,
   "metadata": {},
   "outputs": [
    {
     "data": {
      "text/plain": [
       "2-element SegmentedVector{JointID,Float64,Base.OneTo{JointID},Array{Float64,1}}:\n",
       " 10.130106454695483\n",
       "  2.948526613673872"
      ]
     },
     "execution_count": 32,
     "metadata": {},
     "output_type": "execute_result"
    }
   ],
   "source": [
    "v = similar(velocity(state))\n",
    "v[shoulder][1] = 1; \n",
    "v[elbow][1] = 2; \n",
    "inverse_dynamics(state, v)"
   ]
  },
  {
   "cell_type": "code",
   "execution_count": 33,
   "metadata": {},
   "outputs": [
    {
     "data": {
      "text/plain": [
       "([0.0, 0.001, 0.002, 0.003, 0.004, 0.005, 0.006, 0.007, 0.008, 0.009000000000000001  …  4.991000000000001, 4.992000000000002, 4.993000000000002, 4.994000000000002, 4.995000000000003, 4.996000000000003, 4.997000000000003, 4.998000000000004, 4.999000000000004, 5.000000000000004], SegmentedVector{JointID,Float64,Base.OneTo{JointID},Array{Float64,1}}[[0.3, 0.0], [0.29999813472636105, 2.4895176895441913e-6], [0.2999925389580227, 9.95793044882661e-6], [0.2999832128527186, 2.240481735426898e-5], [0.2999701566733337, 3.982947687952129e-5], [0.2999533707878971, 6.223092691488781e-5], [0.2999328556695723, 8.960790479453432e-5], [0.299908611896645, 0.00012195886733148753], [0.2998806401525076, 0.00015928199086044035], [0.299848941225641, 0.00020157517128838013]  …  [0.18550788378260852, 0.1174340494638931], [0.18522041147134746, 0.11664513582384438], [0.18493216193826076, 0.11585376482264699], [0.18464312954071993, 0.11505996583140063], [0.18435330859267104, 0.11426376838142359], [0.1840626933649771, 0.1134652021630983], [0.18377127808576837, 0.11266429702469423], [0.18347905694080083, 0.11186108297116809], [0.1831860240738225, 0.1110555901629415], [0.182892173586948, 0.11024784891465585]], SegmentedVector{JointID,Float64,Base.OneTo{JointID},Array{Float64,1}}[[0.0, 0.0], [-0.0037305385147319756, 0.004979011994077363], [-0.007460971872970646, 0.009957743370494019], [-0.011191194920998258, 0.014935913519356867], [-0.014921102510649093, 0.019913241846311058], [-0.018650589502087818, 0.024889447780316824], [-0.022379550766590716, 0.02986425078143565], [-0.026107881189330627, 0.0348373703486288], [-0.029835475672166614, 0.0398085260275712], [-0.03356222913643929, 0.044777437418483966]  …  [-0.2870855702975243, -0.787675209400858], [-0.28785998536801866, -0.7901472024091246], [-0.2886400212421698, -0.7925899048062296], [-0.2894257215139182, -0.7950031558038133], [-0.2902171294388536, -0.7973867957567274], [-0.291014287926211, -0.7997406661856251], [-0.29181723953085303, -0.8020646097995836], [-0.2926260264452398, -0.8043584705187518], [-0.2934406904913891, -0.8066220934970185], [-0.2942612731128296, -0.808855325144695]])"
      ]
     },
     "execution_count": 33,
     "metadata": {},
     "output_type": "execute_result"
    }
   ],
   "source": [
    "ts, qs, vs = simulate(state, 5., Δt = 1e-3)"
   ]
  },
  {
   "cell_type": "code",
   "execution_count": 37,
   "metadata": {},
   "outputs": [
    {
     "name": "stderr",
     "output_type": "stream",
     "text": [
      "\u001b[32m\u001b[1m  Resolving\u001b[22m\u001b[39m package versions...\n",
      "\u001b[32m\u001b[1m   Updating\u001b[22m\u001b[39m `~/.julia/environments/v1.4/Project.toml`\n",
      "\u001b[90m [no changes]\u001b[39m\n",
      "\u001b[32m\u001b[1m   Updating\u001b[22m\u001b[39m `~/.julia/environments/v1.4/Manifest.toml`\n",
      "\u001b[90m [no changes]\u001b[39m\n",
      "\u001b[32m\u001b[1m  Resolving\u001b[22m\u001b[39m package versions...\n",
      "\u001b[32m\u001b[1m   Updating\u001b[22m\u001b[39m `~/.julia/environments/v1.4/Project.toml`\n",
      " \u001b[90m [283c5d60]\u001b[39m\u001b[92m + MeshCat v0.13.2\u001b[39m\n",
      "\u001b[32m\u001b[1m   Updating\u001b[22m\u001b[39m `~/.julia/environments/v1.4/Manifest.toml`\n",
      "\u001b[90m [no changes]\u001b[39m\n",
      "┌ Info: Precompiling MeshCat [283c5d60-a78f-5afe-a0af-af636b173e11]\n",
      "└ @ Base loading.jl:1260\n",
      "WARNING: Rotations.UnitQuaternion is deprecated, use QuatRotation instead.\n",
      "  likely near /home/zozan/.julia/packages/MeshCat/GlCMx/src/MeshCat.jl:31\n",
      "WARNING: importing deprecated binding Rotations.UnitQuaternion into MeshCat.\n",
      "WARNING: could not import CoreLogging._invoked_shouldlog into WebSockets\n",
      "WARNING: Rotations.UnitQuaternion is deprecated, use QuatRotation instead.\n",
      "  likely near /home/zozan/.julia/packages/MeshCat/GlCMx/src/atframe.jl:33\n",
      "┌ Info: Precompiling MeshCatMechanisms [6ad125db-dd91-5488-b820-c1df6aab299d]\n",
      "└ @ Base loading.jl:1260\n"
     ]
    },
    {
     "data": {
      "application/vnd.webio.node+json": {
       "children": [],
       "instanceArgs": {
        "namespace": "html",
        "tag": "div"
       },
       "nodeType": "DOM",
       "props": {},
       "type": "node"
      },
      "text/html": [
       "<div style=\"padding: 1em; background-color: #f8d6da; border: 1px solid #f5c6cb; font-weight: bold;\">\n",
       "<p>The WebIO Jupyter extension was not detected. See the\n",
       "<a href=\"https://juliagizmos.github.io/WebIO.jl/latest/providers/ijulia/\" target=\"_blank\">\n",
       "    WebIO Jupyter integration documentation\n",
       "</a>\n",
       "for more information.\n",
       "</div>\n"
      ],
      "text/plain": [
       "WebIO._IJuliaInit()"
      ]
     },
     "metadata": {},
     "output_type": "display_data"
    }
   ],
   "source": [
    "Pkg.add(\"MeshCatMechanisms\"); \n",
    "Pkg.add(\"MeshCat\")\n",
    "\n",
    "# Use packages\n",
    "using MeshCat\n",
    "using RigidBodyDynamics\n",
    "using MeshCatMechanisms"
   ]
  },
  {
   "cell_type": "markdown",
   "metadata": {},
   "source": [
    "### ATLAS paper\n",
    "\n",
    "[Planning for atlas](https://link.springer.com/content/pdf/10.1007/s10514-015-9479-3.pdf)"
   ]
  },
  {
   "cell_type": "code",
   "execution_count": 39,
   "metadata": {},
   "outputs": [],
   "source": [
    "URDF.write_urdf(\"double_pendulum\", doublependulum)"
   ]
  },
  {
   "cell_type": "markdown",
   "metadata": {},
   "source": [
    "## Plotting example\n",
    "\n",
    "Plotting example can be found [here](https://github.com/JuliaRobotics/MeshCatMechanisms.jl/blob/master/examples/demo.ipynb). "
   ]
  },
  {
   "cell_type": "code",
   "execution_count": null,
   "metadata": {},
   "outputs": [],
   "source": []
  }
 ],
 "metadata": {
  "kernelspec": {
   "display_name": "Julia 1.4.1",
   "language": "julia",
   "name": "julia-1.4"
  },
  "language_info": {
   "file_extension": ".jl",
   "mimetype": "application/julia",
   "name": "julia",
   "version": "1.4.1"
  }
 },
 "nbformat": 4,
 "nbformat_minor": 4
}
