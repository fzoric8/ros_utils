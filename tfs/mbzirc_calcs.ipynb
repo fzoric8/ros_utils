{
 "cells": [
  {
   "cell_type": "code",
   "execution_count": 1,
   "metadata": {},
   "outputs": [],
   "source": [
    "import numpy as np\n",
    "\n",
    "\n",
    "# L1\n",
    "I_u = np.array([[0.025 , 0 , 0], \n",
    "                [0, 0.009, 0], \n",
    "                [0, 0, 0.033]])\n",
    "# L2\n",
    "I_g = np.array([[0.01667, 0, 0], \n",
    "                [0, 0.01667, 0], \n",
    "                [0, 0, 0.01667]])\n",
    "# displacement from L1 to L2\n",
    "R = np.array([0, 0, -0.015])"
   ]
  },
  {
   "cell_type": "markdown",
   "metadata": {},
   "source": [
    "## Rotational dynamics and tensor of inertia explained\n",
    "\n",
    "https://physics.stackexchange.com/questions/509979/combined-inertia-tensor-of-combined-shapes \n",
    "\n",
    "Formula used: \n",
    "$$ \\mathbf{I} = \\mathbf{I_0} + m[(\\mathbf{r} \\cdot {\\mathbf{r}}) \\mathbf{E_3} + \\mathbf{r} \\times \\mathbf{r}] $$\n",
    "\n",
    "where $$ \\mathbf{r} $$ is a displacement vector from UAV coordinate system, to the gripper coordinate system. \n",
    "\n",
    "$$ r = [0, 0, -0.015] $$"
   ]
  },
  {
   "cell_type": "code",
   "execution_count": 3,
   "metadata": {},
   "outputs": [],
   "source": [
    "I_gu = I_g + 1 * (np.dot(R, R)*np.eye(3) + np.cross(R, R))"
   ]
  },
  {
   "cell_type": "code",
   "execution_count": 5,
   "metadata": {},
   "outputs": [
    {
     "data": {
      "text/plain": [
       "array([[0.016895, 0.      , 0.      ],\n",
       "       [0.      , 0.016895, 0.      ],\n",
       "       [0.      , 0.      , 0.016895]])"
      ]
     },
     "execution_count": 5,
     "metadata": {},
     "output_type": "execute_result"
    }
   ],
   "source": [
    "I_gu"
   ]
  },
  {
   "cell_type": "code",
   "execution_count": 6,
   "metadata": {},
   "outputs": [],
   "source": [
    "I_complete = I_u + I_gu"
   ]
  },
  {
   "cell_type": "code",
   "execution_count": 7,
   "metadata": {},
   "outputs": [
    {
     "name": "stdout",
     "output_type": "stream",
     "text": [
      "[[0.041895 0.       0.      ]\n",
      " [0.       0.025895 0.      ]\n",
      " [0.       0.       0.049895]]\n"
     ]
    }
   ],
   "source": [
    "print(I_complete)"
   ]
  },
  {
   "cell_type": "code",
   "execution_count": null,
   "metadata": {},
   "outputs": [],
   "source": []
  }
 ],
 "metadata": {
  "kernelspec": {
   "display_name": "Python 3 (ipykernel)",
   "language": "python",
   "name": "python3"
  },
  "language_info": {
   "codemirror_mode": {
    "name": "ipython",
    "version": 3
   },
   "file_extension": ".py",
   "mimetype": "text/x-python",
   "name": "python",
   "nbconvert_exporter": "python",
   "pygments_lexer": "ipython3",
   "version": "3.8.5"
  }
 },
 "nbformat": 4,
 "nbformat_minor": 4
}
