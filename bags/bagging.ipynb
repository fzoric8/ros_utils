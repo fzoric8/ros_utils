{
 "cells": [
  {
   "cell_type": "markdown",
   "metadata": {},
   "source": [
    "## Used resources for Schunk development"
   ]
  },
  {
   "cell_type": "markdown",
   "metadata": {},
   "source": [
    "### CAN resources "
   ]
  },
  {
   "cell_type": "markdown",
   "metadata": {},
   "source": [
    "* [How to use ros-canopen](https://answers.ros.org/question/233735/how-to-used-ros_canopen/)   \n",
    "* [canopen_test_utils](https://github.com/ipa320/canopen_test_utils)     \n",
    "* [schunk_lwa4p_canopen](https://github.com/jlarraez/schunk_lwa4p)    \n",
    "* [ros_canopen overview](http://wiki.ros.org/ros_canopen)  \n",
    "* [canopenchain_node_overview](http://wiki.ros.org/canopen_chain_node)   \n",
    "* [CanOpenBUSLayer](http://wiki.ros.org/canopen_chain_node#Configuration)\n",
    "* [CANOpen ROS package getting started](https://community.husarion.com/t/canopen-ros-package-getting-started/475/2) \n",
    "\n",
    "#### TODO: \n",
    " - [ ] Add special CAN primer on github page"
   ]
  },
  {
   "cell_type": "markdown",
   "metadata": {},
   "source": [
    "Very good presentation about rosbag api can be found [here](https://www.fer.unizg.hr/_download/repository/lec08-rosbag-ipython.pdf)."
   ]
  },
  {
   "cell_type": "code",
   "execution_count": 9,
   "metadata": {},
   "outputs": [],
   "source": [
    "import bagpy\n",
    "from bagpy import bagreader\n",
    "import matplotlib.pyplot as plt\n",
    "import pandas as pd"
   ]
  },
  {
   "cell_type": "markdown",
   "metadata": {},
   "source": [
    "## How to setup virtual environment? \n",
    "\n",
    "You can setup `virtualenv` quite easily by following instructions on following [link](https://uoa-eresearch.github.io/eresearch-cookbook/recipe/2014/11/26/python-virtual-env/) "
   ]
  },
  {
   "cell_type": "markdown",
   "metadata": {},
   "source": [
    "### How to activate virtual environment? \n",
    "\n",
    "Run following command inside folder in which you have created virtual environment as follows: `source <virtualenv_name>/bin/activate` "
   ]
  },
  {
   "cell_type": "markdown",
   "metadata": {},
   "source": [
    "After that you can use `pip3 install <package_name>` to install neccessary python packages. "
   ]
  },
  {
   "cell_type": "markdown",
   "metadata": {},
   "source": [
    "## Read bag"
   ]
  },
  {
   "cell_type": "code",
   "execution_count": 8,
   "metadata": {},
   "outputs": [
    {
     "name": "stdout",
     "output_type": "stream",
     "text": [
      "[INFO]  Successfully created the data folder 2021-07-21-14-23-43.\n"
     ]
    }
   ],
   "source": [
    "bag_name = \"2021-07-21-14-23-43.bag\"\n",
    "\n",
    "b = bagreader(bag_name)"
   ]
  },
  {
   "cell_type": "markdown",
   "metadata": {},
   "source": [
    "### Insert data into csv_files"
   ]
  },
  {
   "cell_type": "code",
   "execution_count": 265,
   "metadata": {},
   "outputs": [],
   "source": [
    "csv_files = []\n",
    "for topic in b.topics:\n",
    "    #print(topic)\n",
    "    data = b.message_by_topic(topic)\n",
    "    csv_files.append(data)"
   ]
  },
  {
   "cell_type": "code",
   "execution_count": 254,
   "metadata": {},
   "outputs": [],
   "source": [
    "joint_group_position_ctl_cmd = pd.read_csv(csv_files[0])\n",
    "joint_states = pd.read_csv(csv_files[1])"
   ]
  },
  {
   "cell_type": "markdown",
   "metadata": {},
   "source": [
    "### How to plot pandas dataframe with matpotlib? "
   ]
  },
  {
   "cell_type": "markdown",
   "metadata": {},
   "source": [
    "Instructions for plotting pandas dataframe with matplotlib can be found [here](https://pandas.pydata.org/pandas-docs/version/0.13/visualization.html)\n",
    "\n",
    "More documentation about plotting matplolib can be found [here](https://matplotlib.org/stable/api/_as_gen/matplotlib.pyplot.html) "
   ]
  },
  {
   "cell_type": "code",
   "execution_count": 266,
   "metadata": {},
   "outputs": [],
   "source": [
    "#methods for exploring dataframe\n",
    "#print(type(joint_states))\n",
    "#print(joint_states)\n",
    "#print(dir(joint_states))\n",
    "#print(joint_states['position_0'])\n",
    "#print(type(joint_states['position_0'])) # Just one column is Series which is quite suitable for plotting"
   ]
  },
  {
   "cell_type": "code",
   "execution_count": 267,
   "metadata": {},
   "outputs": [],
   "source": [
    "#print(joint_group_position_ctl_cmd)\n",
    "#print(dir(joint_group_position_ctl_cmd))"
   ]
  },
  {
   "cell_type": "markdown",
   "metadata": {},
   "source": [
    "# Development ideas: \n",
    "- [x] simple plot series method \n",
    "- [ ] complicated plot series metod (assertions, legend, grid, time plotting)\n",
    "- [ ] plot multiple series method \n",
    "- [ ] align two measurements taken time in cosideration (added start_truncation, but end doesn't work) "
   ]
  },
  {
   "cell_type": "code",
   "execution_count": 268,
   "metadata": {},
   "outputs": [],
   "source": [
    "def plot_series(time, series, scale_time=False):\n",
    "    plt.figure()\n",
    "    assert(len(time) == len(series)), \"Please check your data lengths\"        \n",
    "    \n",
    "    #if use_sim_time = False \n",
    "    if scale_time:\n",
    "        time = [t - time[0] for t in time]\n",
    "        \n",
    "    plt.plot(time, series)\n",
    "    plt.grid(color='0.95')\n",
    "    plt.title('{}'.format(series.name))\n",
    "    plt.show()\n",
    "    \n",
    "        \n",
    "    "
   ]
  },
  {
   "cell_type": "code",
   "execution_count": 269,
   "metadata": {},
   "outputs": [
    {
     "data": {
      "image/png": "[encoded data removed]",
      "text/plain": [
       "<Figure size 432x288 with 1 Axes>"
      ]
     },
     "metadata": {
      "needs_background": "light"
     },
     "output_type": "display_data"
    }
   ],
   "source": [
    "plot_series(joint_group_position_ctl_cmd[\"Time\"], joint_group_position_ctl_cmd['data_0'], scale_time=True)"
   ]
  },
  {
   "cell_type": "code",
   "execution_count": 270,
   "metadata": {},
   "outputs": [],
   "source": [
    "def get_series_by_key_from_df(dataframe, key):\n",
    "    series_list = []\n",
    "    for column in dataframe.columns:\n",
    "        if key in str(column): \n",
    "            series_list.append(dataframe[\"{}\".format(column)])\n",
    "    return series_list"
   ]
  },
  {
   "cell_type": "code",
   "execution_count": 271,
   "metadata": {},
   "outputs": [],
   "source": [
    "#print(dir(joint_group_position_ctl_cmd))\n",
    "#print(joint_group_position_ctl_cmd.info())\n",
    "#print(joint_group_position_ctl_cmd.columns)"
   ]
  },
  {
   "cell_type": "code",
   "execution_count": 272,
   "metadata": {},
   "outputs": [],
   "source": [
    "config_dict = {\"title\":\"graph\",\n",
    "               \"x_label\":\"t [s]\",\n",
    "               \"y_label\": \"joint_cmd [rad]\",\n",
    "               \"w\": 7,\n",
    "               \"h\": 6,\n",
    "               \"grid\": True,\n",
    "               \"use_legend\":True}\n",
    "\n",
    "def plot_multiple_series(time, series_list, series_names = None, config_dict = None, scale_time=False):\n",
    "    \"\"\"\n",
    "        time: pandas series for time \n",
    "        series_list: list containing pandas series\n",
    "        series_names: list containing names for each series that's going to be plotted\n",
    "        config_dict: dictionary containing config params\n",
    "        scale_time: boolean for scaling time to 0-duration scale (if not use_sim_time active)\n",
    "    \n",
    "    \"\"\"\n",
    "    \n",
    "    if config_dict: \n",
    "        title = config_dict['title']\n",
    "        x_label = config_dict['x_label']\n",
    "        y_label = config_dict['y_label']\n",
    "        width, height = config_dict['w'], config_dict['h']\n",
    "        use_legend = config_dict['use_legend']\n",
    "        grid = config_dict['grid']\n",
    "        f_size = config_dict['font_size']\n",
    "        \n",
    "    else:\n",
    "        title=\"graph\"\n",
    "        x_label = \"t\"\n",
    "        y_label = \"data\"\n",
    "        width, height = 5, 5\n",
    "        use_legend = False\n",
    "        grid = False\n",
    "    \n",
    "    # Create figure\n",
    "    plt.figure(figsize=(width, height))\n",
    "    # Check if len of time is same as len of series (plotting condition)\n",
    "    for series in series_list:\n",
    "        assert(len(time) == len(series)), \"Please check one of your series from series list\"\n",
    "    \n",
    "    # Scale time to secs if use_sim_time=False (e.g. real_robot)\n",
    "    if scale_time:\n",
    "        time = [t - time[0] for t in time]    \n",
    "        \n",
    "    # Plot series \n",
    "    # https://www.geeksforgeeks.org/matplotlib-pyplot-legend-in-python/\n",
    "    if use_legend: \n",
    "        for series_name, series_value in zip(series_names, series_list):\n",
    "            plt.plot(time, series_value, label=series_name)\n",
    "    else:\n",
    "        for series_value in series_list:\n",
    "            plt.plot(time, series_value)\n",
    "    \n",
    "    if grid: \n",
    "        plt.grid(color=\"0.95\")\n",
    "    if use_legend: \n",
    "        plt.legend(loc =\"best\")\n",
    "        \n",
    "    plt.title(title, fontsize=round(1.2*f_size))\n",
    "    plt.xlabel(x_label, fontsize=f_size)\n",
    "    plt.ylabel(y_label, fontsize=f_size)\n",
    "        \n",
    "    plt.show()"
   ]
  },
  {
   "cell_type": "markdown",
   "metadata": {},
   "source": [
    "### Plot joint cmd positions"
   ]
  },
  {
   "cell_type": "code",
   "execution_count": 262,
   "metadata": {},
   "outputs": [
    {
     "data": {
      "image/png": "[encoded data removed]",
      "text/plain": [
       "<Figure size 1080x720 with 1 Axes>"
      ]
     },
     "metadata": {
      "needs_background": "light"
     },
     "output_type": "display_data"
    }
   ],
   "source": [
    "time = joint_group_position_ctl_cmd[\"Time\"]\n",
    "series_names = ['cmd1', 'cmd2', 'cmd3', 'cmd4', 'cmd5', 'cmd6']\n",
    "series_list = get_series_by_key_from_df(joint_group_position_ctl_cmd, \"data\")\n",
    "\n",
    "config_dict = {\n",
    "               \"title\":\"Joint cmd position\", \n",
    "               \"x_label\":\"t [s]\",\n",
    "               \"y_label\": \"position [rad]\",\n",
    "               \"w\": 15,\n",
    "               \"h\": 10,\n",
    "               \"use_legend\":True,\n",
    "               \"font_size\": 14, \n",
    "               \"grid\":True, \n",
    "               \"grid_x\":True, \n",
    "                \n",
    "              }\n",
    "\n",
    "plot_multiple_series(time, series_list, series_names, config_dict, scale_time=True)"
   ]
  },
  {
   "cell_type": "markdown",
   "metadata": {},
   "source": [
    "### Plot joint states positions"
   ]
  },
  {
   "cell_type": "code",
   "execution_count": 273,
   "metadata": {},
   "outputs": [
    {
     "data": {
      "image/png": "[encoded data removed]",
      "text/plain": [
       "<Figure size 1080x720 with 1 Axes>"
      ]
     },
     "metadata": {
      "needs_background": "light"
     },
     "output_type": "display_data"
    }
   ],
   "source": [
    "joint_states = pd.read_csv(csv_files[1])\n",
    "time = joint_states['Time']\n",
    "series_list = get_series_by_key_from_df(joint_states, \"position\")\n",
    "\n",
    "config_dict = {\n",
    "               \"title\":\"Joint position\", \n",
    "               \"x_label\":\"t [s]\",\n",
    "               \"y_label\": \"position [rad]\",\n",
    "               \"w\": 15,\n",
    "               \"h\": 10,\n",
    "               \"use_legend\":True,\n",
    "               \"font_size\": 14, \n",
    "               \"grid\":True, \n",
    "              }\n",
    "\n",
    "plot_multiple_series(time, series_list, series_names, config_dict, scale_time=True)\n"
   ]
  },
  {
   "cell_type": "markdown",
   "metadata": {},
   "source": [
    "## Crop one list to another\n",
    "\n",
    "Idea is to check how does manipulation servoing follows reference. Servoing reference lasts only when action server is active, \n",
    "therefore it's not possible to correctly compare joint states."
   ]
  },
  {
   "cell_type": "code",
   "execution_count": 406,
   "metadata": {},
   "outputs": [],
   "source": [
    "def scale_time(time):    \n",
    "    scaled_time = pd.Series([t - time[0] for t in time])    \n",
    "    return scaled_time\n",
    "\n",
    "# They're not subset because time is not so correct\n",
    "def check_if_subset(s1, s2):\n",
    "    res = s1.isin(pd.to_numeric(s2, errors='coerce')).all()\n",
    "    return res\n",
    "\n",
    "# Get servoing start time\n",
    "def get_start_end_time(time):\n",
    "    start_time, end_time = time.values[0], time.values[-1]\n",
    "    return start_time, end_time\n",
    "\n",
    "def get_frequency(time):\n",
    "    \n",
    "    time = [t - t[0] for t in time]\n",
    "    frequency = max(time)/len(time)\n",
    "    return frequency\n",
    "    \n",
    "    "
   ]
  },
  {
   "cell_type": "code",
   "execution_count": 317,
   "metadata": {},
   "outputs": [],
   "source": [
    "time_s = joint_states['Time']\n",
    "time_s_cmd = joint_group_position_ctl_cmd['Time']"
   ]
  },
  {
   "cell_type": "code",
   "execution_count": 348,
   "metadata": {},
   "outputs": [
    {
     "name": "stdout",
     "output_type": "stream",
     "text": [
      "Start index is: 948\n",
      "Servoing length is: 494\n",
      "Measurement length is: 1462\n"
     ]
    }
   ],
   "source": [
    "# Scale time to 0 to duration \n",
    "scaled_time_s = scale_time(time_1)\n",
    "scaled_time_s_cmd = scale_time(time_2)\n",
    "\n",
    "# Get start and end in cmd \n",
    "start_t_cmd, end_t_cmd = get_start_end_time(time_s_cmd)\n",
    "\n",
    "# Get start :) \n",
    "diff_list = [t - start_t_cmd for t in time_s]\n",
    "\n",
    "closest_element = min([t if t > 0 else 1000 for t in diff_list])\n",
    "\n",
    "# Find out closest element in mesurements \n",
    "index_ = list(time_s).index(closest_element + start_t_cmd)\n",
    "print(\"Start index is: {}\".format(index_))\n",
    "print(\"Servoing length is: {}\".format(len(scaled_time_s_cmd)))\n",
    "print(\"Measurement length is: {}\".format(len(scaled_time_s)))"
   ]
  },
  {
   "cell_type": "code",
   "execution_count": 322,
   "metadata": {},
   "outputs": [
    {
     "name": "stdout",
     "output_type": "stream",
     "text": [
      "0.024976015090942383\n",
      "0.5508368015289307\n"
     ]
    }
   ],
   "source": [
    "print(scaled_time_1[1])\n",
    "print(scaled_time_2[1])"
   ]
  },
  {
   "cell_type": "code",
   "execution_count": 403,
   "metadata": {},
   "outputs": [],
   "source": [
    "def crop_dfs(t_s1, t_s2, df_1, df_2):\n",
    "    \"\"\"\n",
    "        t_s1: pd Series of longer time \n",
    "        t_s2: pd Series of shorter time\n",
    "        df_1: dataframe of longer time\n",
    "        df_2: dataframe of shorter time\n",
    "        \n",
    "        Condition is that both measurements are in same frequency. \n",
    "    \n",
    "    \"\"\"\n",
    "    \n",
    "    debug_info = True\n",
    "    if debug_info:\n",
    "        print(\"t1 len: {}\".format(len(t_s1)))\n",
    "        print(\"df1 len: {}\".format(len(df_1)))\n",
    "        print(\"t2 len: {}\".format(len(t_s2)))\n",
    "        print(\"df2 len: {}\".format(len(df_2)))\n",
    "    \n",
    "    # Get start and end time\n",
    "    start_t_cmd, end_t_cmd = get_start_end_time(t_s2)\n",
    "    \n",
    "    print(end_t_cmd, print(t_s2.values[-1]))\n",
    "    \n",
    "    # Get times in relation to start time and end_time of servoing\n",
    "    start_diff_list = [t - start_t_cmd for t in t_s1]\n",
    "    end_diff_list = [t - end_t_cmd for t in t_s1]\n",
    "          \n",
    "    print(end_diff_list)\n",
    "    \n",
    "    # Find closest start element\n",
    "    closest_start_element = min([t if t > 0 else 1000 for t in start_diff_list])\n",
    "    \n",
    "    # Find closest end element\n",
    "    closest_end_element = min([t if t > 0 else 1000 for t in end_diff_list])\n",
    "    \n",
    "    # Find out index of a closest element\n",
    "    start_index_ = list(time_s).index(closest_start_element + start_t_cmd)    \n",
    "    end_index_ = list(time_s).index(closest_end_element + end_t_cmd)\n",
    "    \n",
    "    print(\"Closest start index is: {}\".format(start_index_))\n",
    "    print(\"Closest end index is: {}\".format(end_index_))\n",
    "    \n",
    "    # Truncate https://pandas.pydata.org/docs/reference/api/pandas.DataFrame.truncate.html\n",
    "    t_s1 = t_s1.truncate(before = start_index_)\n",
    "    df_1 = df_1.truncate(before = start_index_)\n",
    "    \n",
    "    return t_s1, t_s2, df_1, df_2"
   ]
  },
  {
   "cell_type": "code",
   "execution_count": 407,
   "metadata": {},
   "outputs": [
    {
     "name": "stdout",
     "output_type": "stream",
     "text": [
      "t1 len: 1462\n",
      "df1 len: 1462\n",
      "t2 len: 494\n",
      "df2 len: 494\n",
      "1626870260.5753016\n",
      "1626870260.5753016 None\n",
      "[-36.52592372894287, -36.50094771385193, -36.47608780860901, -36.45095205307007, -36.42568612098694, -36.40075206756592, -36.37583303451538, -36.35091853141785, -36.325955629348755, -36.300716400146484, -36.27557063102722, -36.25062012672424, -36.22559356689453, -36.201042890548706, -36.175623178482056, -36.1507728099823, -36.125988483428955, -36.10082674026489, -36.0758376121521, -36.05114769935608, -36.02574014663696, -36.000739336013794, -35.97573661804199, -35.95070195198059, -35.925846338272095, -35.9009792804718, -35.876107931137085, -35.851094484329224, -35.82598686218262, -35.8009991645813, -35.77600407600403, -35.75099539756775, -35.72572302818298, -35.70063376426697, -35.67611050605774, -35.65058493614197, -35.62600755691528, -35.601014375686646, -35.57562875747681, -35.55070090293884, -35.525702476501465, -35.500752687454224, -35.476003885269165, -35.45110058784485, -35.42595171928406, -35.40104913711548, -35.37591743469238, -35.3506178855896, -35.32573580741882, -35.300565004348755, -35.27564764022827, -35.25062108039856, -35.2257866859436, -35.20075535774231, -35.17604184150696, -35.1510546207428, -35.12582015991211, -35.10050010681152, -35.0758798122406, -35.05095410346985, -35.02572441101074, -35.000925064086914, -34.97577476501465, -34.95068836212158, -34.92599964141846, -34.900891065597534, -34.87574601173401, -34.85060238838196, -34.82607674598694, -34.80062747001648, -34.775838136672974, -34.7508339881897, -34.725762605667114, -34.70096445083618, -34.67607879638672, -34.65066957473755, -34.625739336013794, -34.60090255737305, -34.575502157211304, -34.550665616989136, -34.52577614784241, -34.50083780288696, -34.47588133811951, -34.45059013366699, -34.426023721694946, -34.401026248931885, -34.37565565109253, -34.3509521484375, -34.325743436813354, -34.3008987903595, -34.27611255645752, -34.25113344192505, -34.22582459449768, -34.200756549835205, -34.17599296569824, -34.15058469772339, -34.12568259239197, -34.10080027580261, -34.07584285736084, -34.05091166496277, -34.02591896057129, -34.0010404586792, -33.975584506988525, -33.950623750686646, -33.92607069015503, -33.900959491729736, -33.876009702682495, -33.85112953186035, -33.82573175430298, -33.80072331428528, -33.77579879760742, -33.75097322463989, -33.72590088844299, -33.70081090927124, -33.67601466178894, -33.65059304237366, -33.62608003616333, -33.600584745407104, -33.575568437576294, -33.55075478553772, -33.5255970954895, -33.501049280166626, -33.47554397583008, -33.45089268684387, -33.42592668533325, -33.401057720184326, -33.37555527687073, -33.35101842880249, -33.32618188858032, -33.30067682266235, -33.27602195739746, -33.250532388687134, -33.225860834121704, -33.200742959976196, -33.17605376243591, -33.1510705947876, -33.1259229183197, -33.10098838806152, -33.076077938079834, -33.051058530807495, -33.025649309158325, -33.001006841659546, -32.9757354259491, -32.951016426086426, -32.92560935020447, -32.901044607162476, -32.8756902217865, -32.8506293296814, -32.82565712928772, -32.8007287979126, -32.7760968208313, -32.75092029571533, -32.725881576538086, -32.700798749923706, -32.675808906555176, -32.6509051322937, -32.625749349594116, -32.6007981300354, -32.575873136520386, -32.55100655555725, -32.525922536849976, -32.50066304206848, -32.475791692733765, -32.450783491134644, -32.426002740859985, -32.40083932876587, -32.37604475021362, -32.35101103782654, -32.32611966133118, -32.30104732513428, -32.276066064834595, -32.25105571746826, -32.225664138793945, -32.2007999420166, -32.17568325996399, -32.15112519264221, -32.1257905960083, -32.100621461868286, -32.07581853866577, -32.050729274749756, -32.02581715583801, -32.00090479850769, -31.97604513168335, -31.951094388961792, -31.925894498825073, -31.900913953781128, -31.87578272819519, -31.850788593292236, -31.826009035110474, -31.801027059555054, -31.77584409713745, -31.750797986984253, -31.72609853744507, -31.700667142868042, -31.675917148590088, -31.650850534439087, -31.625874757766724, -31.60086727142334, -31.575927019119263, -31.55095601081848, -31.525678634643555, -31.50070023536682, -31.475807189941406, -31.450844764709473, -31.425784826278687, -31.401055812835693, -31.375778436660767, -31.351019144058228, -31.325598001480103, -31.300658226013184, -31.27565884590149, -31.250853538513184, -31.22600793838501, -31.20108652114868, -31.175631046295166, -31.15066361427307, -31.125754833221436, -31.101106643676758, -31.075504541397095, -31.05073356628418, -31.025941610336304, -31.00078010559082, -30.976064205169678, -30.95093035697937, -30.925660848617554, -30.90090560913086, -30.875571966171265, -30.850784063339233, -30.82576584815979, -30.80069327354431, -30.776020288467407, -30.75065851211548, -30.725767612457275, -30.700807094573975, -30.675638437271118, -30.650794744491577, -30.62595558166504, -30.600712776184082, -30.575947284698486, -30.550875425338745, -30.526041984558105, -30.500999450683594, -30.476033210754395, -30.451048612594604, -30.425716876983643, -30.400678157806396, -30.375746965408325, -30.350847244262695, -30.325870752334595, -30.300925254821777, -30.275821208953857, -30.25079846382141, -30.22562050819397, -30.200825929641724, -30.175957202911377, -30.151090621948242, -30.12571883201599, -30.100911855697632, -30.07595133781433, -30.05100917816162, -30.025930166244507, -30.001006364822388, -29.97562289237976, -29.950687408447266, -29.925886631011963, -29.900999546051025, -29.876054286956787, -29.850971460342407, -29.826119661331177, -29.800771474838257, -29.77585244178772, -29.750879764556885, -29.7258038520813, -29.7006254196167, -29.675737619400024, -29.650532960891724, -29.625604152679443, -29.60106921195984, -29.575517892837524, -29.55069088935852, -29.525831937789917, -29.500903129577637, -29.47592568397522, -29.450700044631958, -29.425613164901733, -29.40069079399109, -29.375766277313232, -29.350830078125, -29.32571816444397, -29.300819158554077, -29.27596426010132, -29.25056028366089, -29.22593665122986, -29.200989961624146, -29.17596411705017, -29.15074634552002, -29.126043558120728, -29.101086139678955, -29.075637817382812, -29.0509934425354, -29.025848150253296, -29.000738382339478, -28.975642919540405, -28.950742959976196, -28.925711154937744, -28.90065860748291, -28.87571144104004, -28.850775003433228, -28.825836658477783, -28.8010516166687, -28.77583932876587, -28.750946044921875, -28.725887537002563, -28.701094150543213, -28.67610812187195, -28.650693655014038, -28.62583088874817, -28.600772380828857, -28.57569694519043, -28.55088448524475, -28.52600383758545, -28.50065517425537, -28.47567892074585, -28.45040535926819, -28.42610001564026, -28.401130437850952, -28.375683307647705, -28.350745677947998, -28.32594394683838, -28.300670623779297, -28.27578353881836, -28.250810623168945, -28.22587513923645, -28.2009916305542, -28.17604422569275, -28.151130199432373, -28.12569546699524, -28.10075569152832, -28.07588005065918, -28.050667762756348, -28.025758504867554, -28.000927209854126, -27.97597312927246, -27.951033353805542, -27.926166772842407, -27.900537490844727, -27.87579655647278, -27.850927591323853, -27.82585120201111, -27.800910711288452, -27.775900840759277, -27.750916004180908, -27.72577214241028, -27.70084547996521, -27.67562174797058, -27.650726556777954, -27.62580370903015, -27.600885152816772, -27.575628519058228, -27.551047563552856, -27.52571749687195, -27.500875234603882, -27.47587275505066, -27.45099115371704, -27.425562143325806, -27.400606155395508, -27.37564992904663, -27.351022481918335, -27.32599687576294, -27.300718545913696, -27.276126861572266, -27.250543355941772, -27.22600269317627, -27.20104455947876, -27.17558765411377, -27.150695085525513, -27.125704526901245, -27.100759744644165, -27.07594323158264, -27.051005840301514, -27.026106357574463, -27.000916242599487, -26.976051092147827, -26.950698137283325, -26.925881147384644, -26.90099287033081, -26.876124620437622, -26.85067081451416, -26.82580065727234, -26.800906658172607, -26.77600073814392, -26.750845432281494, -26.725707530975342, -26.70075535774231, -26.675743579864502, -26.650743007659912, -26.625744819641113, -26.60069227218628, -26.576029300689697, -26.55103302001953, -26.525879859924316, -26.500942707061768, -26.47565245628357, -26.450732469558716, -26.42590045928955, -26.400723218917847, -26.37612271308899, -26.350621223449707, -26.325730562210083, -26.30074644088745, -26.276004552841187, -26.251111268997192, -26.2256121635437, -26.20099186897278, -26.176135063171387, -26.150567531585693, -26.12612557411194, -26.10094380378723, -26.07596182823181, -26.051020860671997, -26.02589774131775, -26.00098490715027, -25.976059436798096, -25.951143264770508, -25.925700664520264, -25.90078639984131, -25.875941038131714, -25.851056814193726, -25.825717210769653, -25.80100107192993, -25.775569677352905, -25.750793933868408, -25.72598886489868, -25.700698137283325, -25.675677061080933, -25.650648832321167, -25.625601530075073, -25.600549459457397, -25.575621128082275, -25.550740003585815, -25.525837182998657, -25.500993490219116, -25.47562313079834, -25.45075249671936, -25.425631761550903, -25.400742292404175, -25.375816583633423, -25.350889205932617, -25.325852870941162, -25.300742626190186, -25.276131629943848, -25.251070022583008, -25.225625038146973, -25.201005935668945, -25.175764560699463, -25.150843143463135, -25.12590718269348, -25.100992918014526, -25.075966119766235, -25.051032543182373, -25.025558948516846, -25.000515937805176, -24.97576069831848, -24.95081090927124, -24.926040410995483, -24.901065349578857, -24.87596845626831, -24.850894451141357, -24.825963973999023, -24.800797939300537, -24.775874376296997, -24.750812292099, -24.725855588912964, -24.700987815856934, -24.676029682159424, -24.650994539260864, -24.626062393188477, -24.601027011871338, -24.576081037521362, -24.55111026763916, -24.52564764022827, -24.50092625617981, -24.475914001464844, -24.451008558273315, -24.425514459609985, -24.40063452720642, -24.375690698623657, -24.350677013397217, -24.32586145401001, -24.30095100402832, -24.275935411453247, -24.250999212265015, -24.225611448287964, -24.200794219970703, -24.1756432056427, -24.15082359313965, -24.125916481018066, -24.10052800178528, -24.075589895248413, -24.050544023513794, -24.02593183517456, -24.001026153564453, -23.97610116004944, -23.950248956680298, -23.926061630249023, -23.90062141418457, -23.87567448616028, -23.850559949874878, -23.825605154037476, -23.800716876983643, -23.775994062423706, -23.7511146068573, -23.725559949874878, -23.70101237297058, -23.675891399383545, -23.650880575180054, -23.625921964645386, -23.601011037826538, -23.575570344924927, -23.55068826675415, -23.52578043937683, -23.50091314315796, -23.475874423980713, -23.45066237449646, -23.426031351089478, -23.400876998901367, -23.37611985206604, -23.351056337356567, -23.325643062591553, -23.30074954032898, -23.27592921257019, -23.250975847244263, -23.226078033447266, -23.20060443878174, -23.17568016052246, -23.150490522384644, -23.12593674659729, -23.10078001022339, -23.076056241989136, -23.050942420959473, -23.026007413864136, -23.000622034072876, -22.97579836845398, -22.95105504989624, -22.925807237625122, -22.901071548461914, -22.87564516067505, -22.851046562194824, -22.826112508773804, -22.801145553588867, -22.775660753250122, -22.750695943832397, -22.72589683532715, -22.701006650924683, -22.67566204071045, -22.6507351398468, -22.625627040863037, -22.600844144821167, -22.57545804977417, -22.550853490829468, -22.525962829589844, -22.50099468231201, -22.4758780002594, -22.450639963150024, -22.425572633743286, -22.40092396736145, -22.376081228256226, -22.35108256340027, -22.325750589370728, -22.30077075958252, -22.27581524848938, -22.25101947784424, -22.225590467453003, -22.200637817382812, -22.175876140594482, -22.15099787712097, -22.12589120864868, -22.1009738445282, -22.075589418411255, -22.051093816757202, -22.025676250457764, -22.00098943710327, -21.976030111312866, -21.950610876083374, -21.925610542297363, -21.900629997253418, -21.875791311264038, -21.850820541381836, -21.82556438446045, -21.8011531829834, -21.775604248046875, -21.75070881843567, -21.725677728652954, -21.700738668441772, -21.67584204673767, -21.6508526802063, -21.6258647441864, -21.600855827331543, -21.575602054595947, -21.55085325241089, -21.52576518058777, -21.500568151474, -21.47580051422119, -21.45083451271057, -21.425902843475342, -21.400911331176758, -21.37612771987915, -21.350887298583984, -21.32612681388855, -21.301075220108032, -21.275813341140747, -21.250865697860718, -21.22570562362671, -21.2007737159729, -21.175849676132202, -21.15089464187622, -21.125953674316406, -21.10066556930542, -21.07576608657837, -21.05075478553772, -21.026081800460815, -21.00108528137207, -20.975990295410156, -20.951035022735596, -20.92593741416931, -20.901057243347168, -20.875670433044434, -20.850809812545776, -20.826011657714844, -20.800673723220825, -20.77576494216919, -20.750850677490234, -20.725947856903076, -20.70068645477295, -20.67563247680664, -20.650736093521118, -20.625561952590942, -20.601046562194824, -20.576037645339966, -20.550594329833984, -20.526010751724243, -20.500665426254272, -20.475616455078125, -20.450822353363037, -20.425881147384644, -20.401015758514404, -20.376057624816895, -20.350797176361084, -20.325708866119385, -20.30094289779663, -20.27601647377014, -20.251035928726196, -20.225690603256226, -20.200940370559692, -20.175889492034912, -20.15092921257019, -20.126091957092285, -20.100995540618896, -20.0760498046875, -20.051090240478516, -20.02562427520752, -20.000790119171143, -19.97593402862549, -19.951010942459106, -19.926043033599854, -19.90110683441162, -19.875685930252075, -19.850811004638672, -19.82596206665039, -19.801108360290527, -19.775994062423706, -19.75112295150757, -19.72566270828247, -19.70108914375305, -19.67594289779663, -19.651121616363525, -19.625890731811523, -19.601006746292114, -19.57594108581543, -19.550835132598877, -19.525875091552734, -19.501031398773193, -19.476067543029785, -19.450706958770752, -19.425859928131104, -19.400933027267456, -19.37566375732422, -19.35084629058838, -19.32583713531494, -19.30066442489624, -19.275829076766968, -19.250839948654175, -19.22597575187683, -19.201046228408813, -19.175618886947632, -19.15073871612549, -19.12580966949463, -19.10100483894348, -19.075992822647095, -19.05105233192444, -19.026122570037842, -19.001129150390625, -18.975677967071533, -18.950634241104126, -18.925718545913696, -18.90078353881836, -18.875927209854126, -18.850958585739136, -18.826014757156372, -18.80062460899353, -18.775810718536377, -18.750999689102173, -18.726139545440674, -18.700572729110718, -18.6757972240448, -18.650771141052246, -18.625720739364624, -18.600830554962158, -18.575921058654785, -18.55099081993103, -18.526129961013794, -18.50078582763672, -18.4756281375885, -18.450717210769653, -18.425602436065674, -18.40072774887085, -18.375847816467285, -18.350991010665894, -18.326157808303833, -18.300625801086426, -18.275822162628174, -18.25092315673828, -18.22590208053589, -18.200859308242798, -18.176092863082886, -18.150639533996582, -18.125659942626953, -18.100386142730713, -18.075545072555542, -18.050667762756348, -18.025757312774658, -18.000983953475952, -17.97555446624756, -17.951003551483154, -17.92564368247986, -17.900716066360474, -17.875879049301147, -17.850945949554443, -17.82586121559143, -17.80090045928955, -17.776034832000732, -17.75068426132202, -17.726144790649414, -17.700841665267944, -17.67600989341736, -17.65111541748047, -17.6257381439209, -17.600664615631104, -17.57575035095215, -17.55109691619873, -17.525587558746338, -17.500876665115356, -17.475800275802612, -17.450626134872437, -17.42596411705017, -17.401145458221436, -17.37581491470337, -17.350962162017822, -17.325750589370728, -17.300793409347534, -17.276120901107788, -17.251060485839844, -17.225642442703247, -17.200717449188232, -17.17572045326233, -17.151100873947144, -17.126079082489014, -17.100589275360107, -17.07584047317505, -17.05091643333435, -17.025911808013916, -17.000935554504395, -16.97601842880249, -16.95059323310852, -16.92564344406128, -16.90068793296814, -16.875797271728516, -16.850709676742554, -16.82577109336853, -16.801140069961548, -16.77563500404358, -16.751057147979736, -16.72598958015442, -16.701094150543213, -16.675645351409912, -16.65102195739746, -16.62552571296692, -16.600473642349243, -16.575780630111694, -16.550678253173828, -16.525768280029297, -16.500930547714233, -16.475653648376465, -16.45085597038269, -16.425862550735474, -16.40089774131775, -16.375750064849854, -16.350821018218994, -16.325605869293213, -16.300524473190308, -16.275733947753906, -16.250616788864136, -16.22573447227478, -16.20097255706787, -16.176041841506958, -16.150678157806396, -16.125670671463013, -16.10108518600464, -16.07557487487793, -16.050913095474243, -16.025891542434692, -16.000720024108887, -15.975796222686768, -15.950953483581543, -15.926064729690552, -15.901070356369019, -15.875651359558105, -15.850630044937134, -15.82560682296753, -15.800958633422852, -15.775769233703613, -15.750819683074951, -15.725806713104248, -15.70060133934021, -15.675687074661255, -15.650836706161499, -15.625965595245361, -15.601042747497559, -15.576152801513672, -15.550639867782593, -15.525714635848999, -15.500708103179932, -15.475919961929321, -15.450990200042725, -15.426090955734253, -15.400959014892578, -15.375614166259766, -15.350828647613525, -15.325706005096436, -15.301032781600952, -15.275810241699219, -15.25078535079956, -15.22562313079834, -15.201098203659058, -15.175735235214233, -15.150708436965942, -15.125854730606079, -15.101009130477905, -15.075557470321655, -15.050810813903809, -15.025858163833618, -15.000759601593018, -14.975695133209229, -14.951019048690796, -14.92610478401184, -14.900668144226074, -14.875821352005005, -14.850964784622192, -14.826107740402222, -14.801103353500366, -14.776005268096924, -14.750637531280518, -14.72580862045288, -14.701103687286377, -14.676063537597656, -14.651095867156982, -14.626013994216919, -14.600977659225464, -14.576132535934448, -14.550636053085327, -14.525983810424805, -14.500865459442139, -14.475897312164307, -14.450654745101929, -14.42587399482727, -14.401026964187622, -14.375796556472778, -14.35090160369873, -14.325934648513794, -14.301049947738647, -14.275527715682983, -14.250908136367798, -14.225559949874878, -14.200741052627563, -14.175548791885376, -14.15066123008728, -14.12576174736023, -14.100850820541382, -14.075851202011108, -14.05080246925354, -14.025909662246704, -14.000611543655396, -13.975696563720703, -13.950660228729248, -13.925759553909302, -13.9009428024292, -13.87574028968811, -13.8507399559021, -13.825567483901978, -13.800693988800049, -13.776023864746094, -13.750574588775635, -13.725542068481445, -13.700571537017822, -13.67551851272583, -13.651008129119873, -13.625518560409546, -13.592138767242432, -13.57553219795227, -13.551000356674194, -13.52579116821289, -13.50098729133606, -13.47604775428772, -13.450682401657104, -13.42602801322937, -13.400651693344116, -13.37563943862915, -13.350615978240967, -13.325822353363037, -13.300645351409912, -13.276074647903442, -13.250679969787598, -13.226048707962036, -13.200758457183838, -13.175856113433838, -13.150625705718994, -13.1257483959198, -13.100537538528442, -13.075801610946655, -13.051055669784546, -13.025845289230347, -13.000887870788574, -12.975867748260498, -12.951049089431763, -12.925835847854614, -12.900882720947266, -12.876139879226685, -12.850595235824585, -12.825697660446167, -12.801002740859985, -12.776132583618164, -12.750672101974487, -12.725852251052856, -12.70089077949524, -12.675758600234985, -12.651013851165771, -12.625762462615967, -12.600998163223267, -12.575966835021973, -12.550595760345459, -12.526066541671753, -12.500754117965698, -12.475654363632202, -12.45079755783081, -12.426007986068726, -12.400952577590942, -12.375781536102295, -12.350890159606934, -12.326089143753052, -12.300993204116821, -12.275590896606445, -12.250997543334961, -12.226073265075684, -12.200709342956543, -12.175740242004395, -12.150943040847778, -12.125924348831177, -12.100745677947998, -12.075968503952026, -12.051026582717896, -12.02610445022583, -12.000845432281494, -11.975636959075928, -11.951048135757446, -11.92581844329834, -11.900816202163696, -11.875641584396362, -11.85076379776001, -11.825671195983887, -11.801074743270874, -11.775656938552856, -11.750699996948242, -11.726027250289917, -11.701076745986938, -11.675843238830566, -11.650792837142944, -11.625948429107666, -11.600915670394897, -11.576094388961792, -11.551066160202026, -11.525631189346313, -11.501020431518555, -11.476008892059326, -11.450900077819824, -11.425704717636108, -11.400867938995361, -11.376053094863892, -11.350507020950317, -11.325533866882324, -11.301031351089478, -11.275741338729858, -11.250572443008423, -11.225703001022339, -11.200708150863647, -11.175811290740967, -11.150872707366943, -11.126109600067139, -11.100681066513062, -11.075911283493042, -11.050634860992432, -11.025956153869629, -11.000916481018066, -10.97603988647461, -10.951109170913696, -10.926167726516724, -10.900675058364868, -10.87568974494934, -10.850799560546875, -10.826040267944336, -10.800664901733398, -10.775532960891724, -10.750627040863037, -10.725768804550171, -10.700631618499756, -10.675711870193481, -10.650770664215088, -10.625916242599487, -10.600824356079102, -10.575839281082153, -10.55080246925354, -10.525849342346191, -10.500937223434448, -10.476021528244019, -10.45073914527893, -10.425942420959473, -10.400763034820557, -10.375950336456299, -10.350973844528198, -10.32549500465393, -10.3006751537323, -10.276035070419312, -10.25057315826416, -10.225568532943726, -10.200682163238525, -10.175901889801025, -10.150446891784668, -10.126067161560059, -10.10056471824646, -10.075655221939087, -10.050814151763916, -10.025822162628174, -10.000634908676147, -9.975904703140259, -9.950993537902832, -9.925687551498413, -9.900946378707886, -9.876125812530518, -9.850644588470459, -9.825610160827637, -9.800972938537598, -9.775545358657837, -9.750728130340576, -9.72595477104187, -9.700824737548828, -9.676021814346313, -9.650987148284912, -9.62597918510437, -9.601135969161987, -9.575724124908447, -9.550891160964966, -9.525710582733154, -9.500809669494629, -9.476006746292114, -9.450472831726074, -9.425527572631836, -9.400615453720093, -9.375638008117676, -9.35094428062439, -9.325852155685425, -9.300902128219604, -9.27583909034729, -9.250995635986328, -9.225733041763306, -9.200831413269043, -9.175939559936523, -9.151057004928589, -9.126053094863892, -9.100576162338257, -9.075684785842896, -9.050933361053467, -9.025686264038086, -9.000885486602783, -8.975863695144653, -8.950866937637329, -8.926095962524414, -8.90107774734497, -8.87611985206604, -8.850664138793945, -8.825600385665894, -8.801048517227173, -8.77596402168274, -8.750741004943848, -8.72583293914795, -8.700928449630737, -8.676034927368164, -8.650737047195435, -8.625555276870728, -8.601045846939087, -8.576053619384766, -8.550860404968262, -8.525940656661987, -8.501003742218018, -8.47590947151184, -8.450985431671143, -8.425454139709473, -8.400533676147461, -8.375605344772339, -8.350525140762329, -8.325583934783936, -8.300742149353027, -8.275838375091553, -8.250981569290161, -8.225708484649658, -8.200791358947754, -8.175878763198853, -8.150898933410645, -8.125741243362427, -8.100857973098755, -8.075368881225586, -8.050781726837158, -8.025827884674072, -8.0009925365448, -7.9761457443237305, -7.950716257095337, -7.926040887832642, -7.900607585906982, -7.876023530960083, -7.850797653198242, -7.825916528701782, -7.800978660583496, -7.776090621948242, -7.750594854354858, -7.725539445877075, -7.700471639633179, -7.675996780395508, -7.650790452957153, -7.625805139541626, -7.600805759429932, -7.575598478317261, -7.5506227016448975, -7.525998830795288, -7.501023292541504, -7.475593090057373, -7.450868844985962, -7.425700426101685, -7.400722503662109, -7.375814914703369, -7.350578784942627, -7.32565975189209, -7.300621032714844, -7.27588963508606, -7.250867128372192, -7.225933313369751, -7.2009992599487305, -7.175915241241455, -7.151102781295776, -7.126075744628906, -7.101086616516113, -7.076109886169434, -7.050685405731201, -7.025620937347412, -7.0010459423065186, -6.975986003875732, -6.950892448425293, -6.925870656967163, -6.900840759277344, -6.875475168228149, -6.850963592529297, -6.825763702392578, -6.800766706466675, -6.775634527206421, -6.751038551330566, -6.725551128387451, -6.7008726596832275, -6.67594575881958, -6.650640487670898, -6.625812292098999, -6.601096153259277, -6.575574159622192, -6.550635814666748, -6.525689363479614, -6.500741958618164, -6.476026296615601, -6.450481653213501, -6.425669193267822, -6.4006547927856445, -6.375776052474976, -6.351048707962036, -6.325516223907471, -6.3011085987091064, -6.275588750839233, -6.250901699066162, -6.225801944732666, -6.200760126113892, -6.175940036773682, -6.151106357574463, -6.126030683517456, -6.1005754470825195, -6.075950384140015, -6.051024675369263, -6.026021957397461, -6.000736951828003, -5.9757795333862305, -5.950794458389282, -5.9258928298950195, -5.901061058044434, -5.87593412399292, -5.850992441177368, -5.826080083847046, -5.800713300704956, -5.775866746902466, -5.750678539276123, -5.725914239883423, -5.700521230697632, -5.675769567489624, -5.6506736278533936, -5.62572979927063, -5.600768566131592, -5.575915575027466, -5.550976753234863, -5.526083707809448, -5.500748157501221, -5.47583270072937, -5.45087456703186, -5.425939321517944, -5.401145935058594, -5.375723361968994, -5.3506786823272705, -5.326081037521362, -5.30072283744812, -5.276097059249878, -5.251004934310913, -5.2260026931762695, -5.20109486579895, -5.175944089889526, -5.15109920501709, -5.125563859939575, -5.1007068157196045, -5.075695753097534, -5.050914525985718, -5.0259575843811035, -5.000981330871582, -4.975705146789551, -4.9507896900177, -4.925535440444946, -4.900835990905762, -4.875952959060669, -4.851054430007935, -4.825642347335815, -4.800743341445923, -4.775937557220459, -4.751065731048584, -4.726104021072388, -4.700658798217773, -4.676071405410767, -4.650605201721191, -4.625706911087036, -4.600879669189453, -4.575950860977173, -4.551065683364868, -4.525670766830444, -4.500683069229126, -4.475710153579712, -4.450813293457031, -4.42555832862854, -4.4010255336761475, -4.376107692718506, -4.350635290145874, -4.32557225227356, -4.300708293914795, -4.275540590286255, -4.250486373901367, -4.2259368896484375, -4.200919151306152, -4.175980091094971, -4.150811195373535, -4.125839710235596, -4.100870370864868, -4.0757527351379395, -4.0508105754852295, -4.026030540466309, -4.001057147979736, -3.9759607315063477, -3.9505410194396973, -3.9258227348327637, -3.9009103775024414, -3.875974655151367, -3.8509061336517334, -3.8255021572113037, -3.8009419441223145, -3.7758030891418457, -3.7506284713745117, -3.726069211959839, -3.7008817195892334, -3.6758744716644287, -3.65065336227417, -3.6256721019744873, -3.6009750366210938, -3.5756733417510986, -3.5507898330688477, -3.525651216506958, -3.5008914470672607, -3.4760587215423584, -3.450775146484375, -3.4256434440612793, -3.40093994140625, -3.3755598068237305, -3.35089373588562, -3.325904369354248, -3.3010213375091553, -3.2755093574523926, -3.250558376312256, -3.2259414196014404, -3.2006962299346924, -3.1757843494415283, -3.150932550430298, -3.125908613204956, -3.100626230239868, -3.0756468772888184, -3.050455093383789, -3.0255372524261475, -3.0010924339294434, -2.9758694171905518, -2.9507832527160645, -2.925736427307129, -2.90067458152771, -2.875851631164551, -2.850764274597168, -2.8260245323181152, -2.800816059112549, -2.775972366333008, -2.7510197162628174, -2.725682020187378, -2.700617551803589, -2.6759090423583984, -2.650639533996582, -2.6256682872772217, -2.600686550140381, -2.575899362564087, -2.551020383834839, -2.5261166095733643, -2.501134157180786, -2.4755468368530273, -2.4510350227355957, -2.425642728805542, -2.4007513523101807, -2.37602162361145, -2.350492238998413, -2.3258743286132812, -2.3011064529418945, -2.275858163833618, -2.2509682178497314, -2.2259206771850586, -2.2009763717651367, -2.175722599029541, -2.1507675647735596, -2.1257846355438232, -2.1008591651916504, -2.0759105682373047, -2.051060438156128, -2.026049852371216, -2.0007007122039795, -1.975719690322876, -1.9507899284362793, -1.925553560256958, -1.9008853435516357, -1.8756732940673828, -1.850672960281372, -1.825775146484375, -1.8011326789855957, -1.7757062911987305, -1.7508609294891357, -1.7258014678955078, -1.7009334564208984, -1.6758384704589844, -1.6509346961975098, -1.6259186267852783, -1.600726842880249, -1.575608491897583, -1.5506329536437988, -1.5257649421691895, -1.501007318496704, -1.475879192352295, -1.4509108066558838, -1.425999641418457, -1.4009921550750732, -1.3760666847229004, -1.3508508205413818, -1.3259270191192627, -1.300929307937622, -1.2760231494903564, -1.251081943511963, -1.2257671356201172, -1.200981616973877, -1.1757235527038574, -1.1509342193603516, -1.12569260597229, -1.1009347438812256, -1.0756499767303467, -1.0508143901824951, -1.0258347988128662, -1.0006859302520752, -0.975787878036499, -0.9507005214691162, -0.925957202911377, -0.9007365703582764, -0.8759732246398926, -0.8507802486419678, -0.8257958889007568, -0.8007674217224121, -0.7758750915527344, -0.7508945465087891, -0.7258284091949463, -0.7009716033935547, -0.675931453704834, -0.6510107517242432, -0.6260535717010498, -0.6006157398223877, -0.5758030414581299, -0.5508339405059814, -0.5259499549865723, -0.5008351802825928, -0.4758596420288086, -0.4508817195892334, -0.42593932151794434, -0.4008827209472656, -0.37592124938964844, -0.3506126403808594, -0.3257710933685303, -0.3009486198425293, -0.27603936195373535, -0.25055623054504395, -0.22590923309326172, -0.2006232738494873, -0.17572975158691406, -0.1507711410522461, -0.1256699562072754, -0.10074329376220703, -0.07586026191711426, -0.050855159759521484, -0.026047468185424805, -0.0010874271392822266]\n"
     ]
    },
    {
     "ename": "ValueError",
     "evalue": "1626871260.5753016 is not in list",
     "output_type": "error",
     "traceback": [
      "\u001b[0;31m---------------------------------------------------------------------------\u001b[0m",
      "\u001b[0;31mValueError\u001b[0m                                Traceback (most recent call last)",
      "\u001b[0;32m/tmp/ipykernel_12704/1619189386.py\u001b[0m in \u001b[0;36m<module>\u001b[0;34m\u001b[0m\n\u001b[1;32m      3\u001b[0m \u001b[0mjoint_group_position_ctl_cmd\u001b[0m \u001b[0;34m=\u001b[0m \u001b[0mpd\u001b[0m\u001b[0;34m.\u001b[0m\u001b[0mread_csv\u001b[0m\u001b[0;34m(\u001b[0m\u001b[0mcsv_files\u001b[0m\u001b[0;34m[\u001b[0m\u001b[0;36m0\u001b[0m\u001b[0;34m]\u001b[0m\u001b[0;34m)\u001b[0m\u001b[0;34m\u001b[0m\u001b[0;34m\u001b[0m\u001b[0m\n\u001b[1;32m      4\u001b[0m \u001b[0mjoint_states\u001b[0m \u001b[0;34m=\u001b[0m \u001b[0mpd\u001b[0m\u001b[0;34m.\u001b[0m\u001b[0mread_csv\u001b[0m\u001b[0;34m(\u001b[0m\u001b[0mcsv_files\u001b[0m\u001b[0;34m[\u001b[0m\u001b[0;36m1\u001b[0m\u001b[0;34m]\u001b[0m\u001b[0;34m)\u001b[0m\u001b[0;34m\u001b[0m\u001b[0;34m\u001b[0m\u001b[0m\n\u001b[0;32m----> 5\u001b[0;31m time_s, time_s_cmd, joint_states, joint_group_position_ctl_cmd = crop_dfs(time_s,\n\u001b[0m\u001b[1;32m      6\u001b[0m                                                                           \u001b[0mtime_s_cmd\u001b[0m\u001b[0;34m,\u001b[0m\u001b[0;34m\u001b[0m\u001b[0;34m\u001b[0m\u001b[0m\n\u001b[1;32m      7\u001b[0m                                                                           \u001b[0mjoint_states\u001b[0m\u001b[0;34m,\u001b[0m\u001b[0;34m\u001b[0m\u001b[0;34m\u001b[0m\u001b[0m\n",
      "\u001b[0;32m/tmp/ipykernel_12704/111179832.py\u001b[0m in \u001b[0;36mcrop_dfs\u001b[0;34m(t_s1, t_s2, df_1, df_2)\u001b[0m\n\u001b[1;32m     34\u001b[0m     \u001b[0;31m# Find out index of a closest element\u001b[0m\u001b[0;34m\u001b[0m\u001b[0;34m\u001b[0m\u001b[0;34m\u001b[0m\u001b[0m\n\u001b[1;32m     35\u001b[0m     \u001b[0mstart_index_\u001b[0m \u001b[0;34m=\u001b[0m \u001b[0mlist\u001b[0m\u001b[0;34m(\u001b[0m\u001b[0mtime_s\u001b[0m\u001b[0;34m)\u001b[0m\u001b[0;34m.\u001b[0m\u001b[0mindex\u001b[0m\u001b[0;34m(\u001b[0m\u001b[0mclosest_start_element\u001b[0m \u001b[0;34m+\u001b[0m \u001b[0mstart_t_cmd\u001b[0m\u001b[0;34m)\u001b[0m\u001b[0;34m\u001b[0m\u001b[0;34m\u001b[0m\u001b[0m\n\u001b[0;32m---> 36\u001b[0;31m     \u001b[0mend_index_\u001b[0m \u001b[0;34m=\u001b[0m \u001b[0mlist\u001b[0m\u001b[0;34m(\u001b[0m\u001b[0mtime_s\u001b[0m\u001b[0;34m)\u001b[0m\u001b[0;34m.\u001b[0m\u001b[0mindex\u001b[0m\u001b[0;34m(\u001b[0m\u001b[0mclosest_end_element\u001b[0m \u001b[0;34m+\u001b[0m \u001b[0mend_t_cmd\u001b[0m\u001b[0;34m)\u001b[0m\u001b[0;34m\u001b[0m\u001b[0;34m\u001b[0m\u001b[0m\n\u001b[0m\u001b[1;32m     37\u001b[0m \u001b[0;34m\u001b[0m\u001b[0m\n\u001b[1;32m     38\u001b[0m     \u001b[0mprint\u001b[0m\u001b[0;34m(\u001b[0m\u001b[0;34m\"Closest start index is: {}\"\u001b[0m\u001b[0;34m.\u001b[0m\u001b[0mformat\u001b[0m\u001b[0;34m(\u001b[0m\u001b[0mstart_index_\u001b[0m\u001b[0;34m)\u001b[0m\u001b[0;34m)\u001b[0m\u001b[0;34m\u001b[0m\u001b[0;34m\u001b[0m\u001b[0m\n",
      "\u001b[0;31mValueError\u001b[0m: 1626871260.5753016 is not in list"
     ]
    }
   ],
   "source": [
    "time_s = joint_states['Time']\n",
    "time_s_cmd = joint_group_position_ctl_cmd['Time']\n",
    "joint_group_position_ctl_cmd = pd.read_csv(csv_files[0])\n",
    "joint_states = pd.read_csv(csv_files[1])\n",
    "time_s, time_s_cmd, joint_states, joint_group_position_ctl_cmd = crop_dfs(time_s,\n",
    "                                                                          time_s_cmd,\n",
    "                                                                          joint_states,\n",
    "                                                                          joint_group_position_ctl_cmd)\n",
    "\n",
    "print(\"cmd freq is: {}\".format(time_s_cmd))\n",
    "print(\"meas freq is: {}\".format(time_s))"
   ]
  },
  {
   "cell_type": "code",
   "execution_count": 405,
   "metadata": {},
   "outputs": [
    {
     "name": "stdout",
     "output_type": "stream",
     "text": [
      "1462\n",
      "494\n",
      "1462\n"
     ]
    }
   ],
   "source": [
    "print(len(time_s))\n",
    "print(len(time_s_cmd))\n",
    "print(len(joint_states))"
   ]
  },
  {
   "cell_type": "code",
   "execution_count": null,
   "metadata": {},
   "outputs": [],
   "source": []
  }
 ],
 "metadata": {
  "kernelspec": {
   "display_name": "bags",
   "language": "python",
   "name": "bags"
  },
  "language_info": {
   "codemirror_mode": {
    "name": "ipython",
    "version": 3
   },
   "file_extension": ".py",
   "mimetype": "text/x-python",
   "name": "python",
   "nbconvert_exporter": "python",
   "pygments_lexer": "ipython3",
   "version": "3.8.10"
  }
 },
 "nbformat": 4,
 "nbformat_minor": 4
}
