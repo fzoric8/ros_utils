{
 "cells": [
  {
   "cell_type": "markdown",
   "metadata": {},
   "source": [
    "## Used resources for Schunk development"
   ]
  },
  {
   "cell_type": "markdown",
   "metadata": {},
   "source": [
    "### CAN resources "
   ]
  },
  {
   "cell_type": "markdown",
   "metadata": {},
   "source": [
    "* [How to use ros-canopen](https://answers.ros.org/question/233735/how-to-used-ros_canopen/)   \n",
    "* [canopen_test_utils](https://github.com/ipa320/canopen_test_utils)     \n",
    "* [schunk_lwa4p_canopen](https://github.com/jlarraez/schunk_lwa4p)    \n",
    "* [ros_canopen overview](http://wiki.ros.org/ros_canopen)  \n",
    "* [canopenchain_node_overview](http://wiki.ros.org/canopen_chain_node)   \n",
    "* [CanOpenBUSLayer](http://wiki.ros.org/canopen_chain_node#Configuration)\n",
    "* [CANOpen ROS package getting started](https://community.husarion.com/t/canopen-ros-package-getting-started/475/2) \n",
    "\n",
    "#### TODO: \n",
    " - [ ] Add special CAN primer on github page"
   ]
  },
  {
   "cell_type": "markdown",
   "metadata": {},
   "source": [
    "Very good presentation about rosbag api can be found [here](https://www.fer.unizg.hr/_download/repository/lec08-rosbag-ipython.pdf)."
   ]
  },
  {
   "cell_type": "code",
   "execution_count": 2,
   "metadata": {},
   "outputs": [],
   "source": [
    "import bagpy\n",
    "from bagpy import bagreader\n",
    "import matplotlib.pyplot as plt\n",
    "import pandas as pd"
   ]
  },
  {
   "cell_type": "markdown",
   "metadata": {},
   "source": [
    "## How to setup virtual environment? \n",
    "\n",
    "You can setup `virtualenv` quite easily by following instructions on following [link](https://uoa-eresearch.github.io/eresearch-cookbook/recipe/2014/11/26/python-virtual-env/) "
   ]
  },
  {
   "cell_type": "markdown",
   "metadata": {},
   "source": [
    "### How to activate virtual environment? \n",
    "\n",
    "Run following command inside folder in which you have created virtual environment as follows: `source <virtualenv_name>/bin/activate` "
   ]
  },
  {
   "cell_type": "markdown",
   "metadata": {},
   "source": [
    "After that you can use `pip3 install <package_name>` to install neccessary python packages. "
   ]
  },
  {
   "cell_type": "markdown",
   "metadata": {},
   "source": [
    "## Read bag"
   ]
  },
  {
   "cell_type": "code",
   "execution_count": 126,
   "metadata": {},
   "outputs": [
    {
     "name": "stdout",
     "output_type": "stream",
     "text": [
      "[INFO]  Data folder servo_bag_0209 already exists. Not creating.\n"
     ]
    }
   ],
   "source": [
    "bag_name = \"servo_bag_0209.bag\"\n",
    "\n",
    "b = bagreader(bag_name)"
   ]
  },
  {
   "cell_type": "markdown",
   "metadata": {},
   "source": [
    "### Insert data into csv_files"
   ]
  },
  {
   "cell_type": "code",
   "execution_count": 145,
   "metadata": {},
   "outputs": [],
   "source": [
    "csv_files = []\n",
    "for topic in b.topics:\n",
    "    #print(topic)\n",
    "    data = b.message_by_topic(topic)\n",
    "    csv_files.append(data)\n",
    "    "
   ]
  },
  {
   "cell_type": "code",
   "execution_count": 146,
   "metadata": {},
   "outputs": [
    {
     "name": "stdout",
     "output_type": "stream",
     "text": [
      "['servo_bag_0209/lwa4p-joint_group_position_controller-command.csv', 'servo_bag_0209/lwa4p-joint_states.csv', 'servo_bag_0209/move_group-goal.csv', 'servo_bag_0209/pose_error.csv', 'servo_bag_0209/servo_server-delta_twist_cmds.csv', 'servo_bag_0209/servo_server-status.csv', 'servo_bag_0209/servo_server-target_pose.csv']\n"
     ]
    }
   ],
   "source": [
    "print(csv_files)"
   ]
  },
  {
   "cell_type": "code",
   "execution_count": 164,
   "metadata": {},
   "outputs": [],
   "source": [
    "servo_joint_cmds = pd.read_csv(csv_files[0])\n",
    "joint_states = pd.read_csv(csv_files[1])\n",
    "move_group_goal = pd.read_csv(csv_files[2])\n",
    "pose_error = pd.read_csv(csv_files[3])\n",
    "delta_twist_cmds = pd.read_csv(csv_files[4])\n",
    "servo_status = pd.read_csv(csv_files[5])\n",
    "target_pose = pd.read_csv(csv_files[6])\n"
   ]
  },
  {
   "cell_type": "markdown",
   "metadata": {},
   "source": [
    "### How to plot pandas dataframe with matpotlib? "
   ]
  },
  {
   "cell_type": "markdown",
   "metadata": {},
   "source": [
    "Instructions for plotting pandas dataframe with matplotlib can be found [here](https://pandas.pydata.org/pandas-docs/version/0.13/visualization.html)\n",
    "\n",
    "More documentation about plotting matplolib can be found [here](https://matplotlib.org/stable/api/_as_gen/matplotlib.pyplot.html) "
   ]
  },
  {
   "cell_type": "code",
   "execution_count": 130,
   "metadata": {},
   "outputs": [],
   "source": [
    "#methods for exploring dataframe\n",
    "#print(type(joint_states))\n",
    "#print(joint_states)\n",
    "#print(dir(joint_states))\n",
    "#print(joint_states['position_0'])\n",
    "#print(type(joint_states['position_0'])) # Just one column is Series which is quite suitable for plotting"
   ]
  },
  {
   "cell_type": "code",
   "execution_count": 131,
   "metadata": {},
   "outputs": [],
   "source": [
    "#print(joint_group_position_ctl_cmd)\n",
    "#print(dir(joint_group_position_ctl_cmd))"
   ]
  },
  {
   "cell_type": "markdown",
   "metadata": {},
   "source": [
    "# Development ideas: \n",
    "- [x] simple plot series method \n",
    "- [x] complicated plot series metod (assertions, legend, grid, time plotting)\n",
    "- [x] plot multiple series method \n",
    "- [x] align two measurements taken time in cosideration (added start_truncation, but end doesn't work) \n",
    "- [ ] add subplot plotting method"
   ]
  },
  {
   "cell_type": "code",
   "execution_count": 151,
   "metadata": {},
   "outputs": [],
   "source": [
    "def get_series_by_key_from_df(dataframe, key):\n",
    "    \"\"\"\n",
    "         dataframe: pandas dataframe that contains measurements \n",
    "         key: key by which we extract dataseries\n",
    "    \"\"\"\n",
    "    series_list = []\n",
    "    for column in dataframe.columns:\n",
    "        if key in str(column): \n",
    "            series_list.append(dataframe[\"{}\".format(column)])\n",
    "    return series_list\n",
    "\n",
    "def plot_series(time, series, scale_time=False):\n",
    "    \"\"\"\n",
    "        time: pandas series for time \n",
    "        series: pandas series for measurement \n",
    "        scale_time: boolean for scaling time to 0-duration scale (if not use_sim_time active)\n",
    "    \"\"\"\n",
    "    plt.figure()\n",
    "    assert(len(time) == len(series)), \"Please check your data lengths\"        \n",
    "    \n",
    "    #if use_sim_time = False \n",
    "    if scale_time:\n",
    "        time = [t - time[0] for t in time]\n",
    "        \n",
    "    plt.plot(time, series)\n",
    "    plt.grid(color='0.95')\n",
    "    plt.title('{}'.format(series.name))\n",
    "    plt.show()  \n",
    "\n",
    "\n",
    "def plot_multiple_series(time, series_list, series_names = None, config_dict = None, scale_time=False):\n",
    "    \"\"\"\n",
    "        time: pandas series for time \n",
    "        series_list: list containing pandas series\n",
    "        series_names: list containing names for each series that's going to be plotted\n",
    "        config_dict: dictionary containing config params\n",
    "        scale_time: boolean for scaling time to 0-duration scale (if not use_sim_time active)\n",
    "    \n",
    "    \"\"\"\n",
    "    \n",
    "    if config_dict: \n",
    "        title = config_dict['title']\n",
    "        x_label = config_dict['x_label']\n",
    "        y_label = config_dict['y_label']\n",
    "        width, height = config_dict['w'], config_dict['h']\n",
    "        use_legend = config_dict['use_legend']\n",
    "        grid = config_dict['grid']\n",
    "        f_size = config_dict['font_size']\n",
    "        #ref_plot = True\n",
    "        \n",
    "    else:\n",
    "        title=\"graph\"\n",
    "        x_label = \"t\"\n",
    "        y_label = \"data\"\n",
    "        width, height = 5, 5\n",
    "        use_legend = False\n",
    "        grid = False\n",
    "        ref_plot = False\n",
    "    \n",
    "    # Create figure\n",
    "    plt.figure(figsize=(width, height))\n",
    "    # Check if len of time is same as len of series (plotting condition)\n",
    "    for series in series_list:\n",
    "        assert(len(time) == len(series)), \"Please check one of your series from series list\"\n",
    "    \n",
    "    # Scale time to secs if use_sim_time=False (e.g. real_robot)\n",
    "    if scale_time:\n",
    "        time = [t - time[0] for t in time]    \n",
    "        \n",
    "    # Plot series \n",
    "    # https://www.geeksforgeeks.org/matplotlib-pyplot-legend-in-python/\n",
    "    if use_legend: \n",
    "        for series_name, series_value in zip(series_names, series_list):\n",
    "            # Condition for setpoint plotting\n",
    "            if \"sp\" in series_name:\n",
    "                plt.plot(time, series_value, label=series_name, linestyle=\"-.\")\n",
    "            else:\n",
    "                plt.plot(time, series_value, label=series_name)\n",
    "    else:\n",
    "        for series_value in series_list:\n",
    "            if \"sp\" in series_name:\n",
    "                plt.plot(time, series_value,label=series_name, linestyle=\"-.\")\n",
    "            else: \n",
    "                plt.plot(time, series_value, label=series_name)\n",
    "    \n",
    "    if grid: \n",
    "        plt.grid(color=\"grey\")\n",
    "    if use_legend: \n",
    "        plt.legend(loc =\"best\")\n",
    "        \n",
    "    plt.title(title, fontsize=round(1.2*f_size))\n",
    "    plt.xlabel(x_label, fontsize=f_size)\n",
    "    plt.ylabel(y_label, fontsize=f_size)\n",
    "        \n",
    "    plt.show()\n",
    "    \n",
    "# Mostly neccessary for exploring setpoint and measurement relation                          \n",
    "def plot_multiple_series_wth_subplotting(time, series_list, n_rows, n_columns, plt_format=\"grid\", reference=False):\n",
    "    \"\"\"\n",
    "        time: \n",
    "        series_list: \n",
    "        nrows, ncol: \n",
    "    \n",
    "    \"\"\"\n",
    "    \n",
    "    if reference:\n",
    "        num_plots = len(series_list)/2\n",
    "    else:\n",
    "        num_plots = series_list            \n",
    "    \n",
    "    \n",
    "    if plt_format == \"grid\":\n",
    "        plt.figure()\n",
    "        i, j, n = 0, 0, 0; \n",
    "        for i in n_rows: \n",
    "            for j in n_columns:                \n",
    "                plt.subplot(n_rows * n_columns, i, j)\n",
    "                if reference: \n",
    "                    n+=2\n",
    "                    plt.plot(time, series_list[n-1])\n",
    "                    plt.plot(time, series_list[n])\n",
    "                else: \n",
    "                    n+=1\n",
    "                    plt.plot(time, series_list[n])\n",
    "                    \n",
    "                j+=1\n",
    "            i+=1\n",
    "            \n",
    "    plt.show()                           \n",
    "                         \n",
    "                        \n",
    "                         \n",
    "    \n",
    "        \n",
    "    "
   ]
  },
  {
   "cell_type": "markdown",
   "metadata": {},
   "source": [
    "### Plot joint cmd positions"
   ]
  },
  {
   "cell_type": "code",
   "execution_count": 152,
   "metadata": {},
   "outputs": [
    {
     "data": {
      "image/png": "[encoded data removed]",
      "text/plain": [
       "<Figure size 1080x720 with 1 Axes>"
      ]
     },
     "metadata": {
      "needs_background": "light"
     },
     "output_type": "display_data"
    }
   ],
   "source": [
    "time_servo = servo_joint_cmds[\"Time\"]\n",
    "series_names = ['q1', 'q2', 'q3', 'q4', 'q5', 'q6']\n",
    "series_list = get_series_by_key_from_df(servo_joint_cmds, \"data\")\n",
    "\n",
    "config_dict = {\n",
    "               \"title\":\"Joint cmd position\", \n",
    "               \"x_label\":\"t [s]\",\n",
    "               \"y_label\": \"Joint position [rad]\",\n",
    "               \"w\": 15,\n",
    "               \"h\": 10,\n",
    "               \"use_legend\":True,\n",
    "               \"font_size\": 14, \n",
    "               \"grid\":True                \n",
    "              }\n",
    "\n",
    "plot_multiple_series(time_servo, series_list, series_names, config_dict, scale_time=True)"
   ]
  },
  {
   "cell_type": "markdown",
   "metadata": {},
   "source": [
    "### Plot joint states positions"
   ]
  },
  {
   "cell_type": "code",
   "execution_count": 153,
   "metadata": {},
   "outputs": [
    {
     "data": {
      "image/png": "[encoded data removed]",
      "text/plain": [
       "<Figure size 1080x720 with 1 Axes>"
      ]
     },
     "metadata": {
      "needs_background": "light"
     },
     "output_type": "display_data"
    }
   ],
   "source": [
    "joint_states = pd.read_csv(csv_files[1])\n",
    "time_full = joint_states['Time']\n",
    "series_list = get_series_by_key_from_df(joint_states, \"position\")\n",
    "\n",
    "\n",
    "config_dict = {\n",
    "               \"title\":\"Joint position\", \n",
    "               \"x_label\":\"t [s]\",\n",
    "               \"y_label\": \"position [rad]\",\n",
    "               \"w\": 15,\n",
    "               \"h\": 10,\n",
    "               \"use_legend\":True,\n",
    "               \"font_size\": 14, \n",
    "               \"grid\":True, \n",
    "              }\n",
    "\n",
    "plot_multiple_series(time_full, series_list, series_names, config_dict, scale_time=True)\n"
   ]
  },
  {
   "cell_type": "markdown",
   "metadata": {},
   "source": [
    "## Crop one list to another\n",
    "\n",
    "Idea is to check how does manipulation servoing follows reference. Servoing reference lasts only when action server is active, \n",
    "therefore it's not possible to correctly compare joint states."
   ]
  },
  {
   "cell_type": "code",
   "execution_count": 157,
   "metadata": {},
   "outputs": [],
   "source": [
    "def scale_any_time(time):    \n",
    "    scaled_time = pd.Series([t - time[0] for t in time])    \n",
    "    return scaled_time\n",
    "\n",
    "# They're not subset because time is not so correct\n",
    "def check_if_subset(s1, s2):\n",
    "    res = s1.isin(pd.to_numeric(s2, errors='coerce')).all()\n",
    "    return res\n",
    "\n",
    "# Get servoing start time\n",
    "def get_start_end_time(time):\n",
    "    start_time, end_time = time.values[0], time.values[-1]\n",
    "    return start_time, end_time\n",
    "\n",
    "def get_frequency(time):\n",
    "    \n",
    "    print(type(time))\n",
    "    start_time = time.values[0]\n",
    "    time = [t - start_time for t in time.values]\n",
    "    frequency = 1/(max(time)/len(time))\n",
    "    return frequency\n",
    "\n",
    "# Crop dataframe from whole joint states to catch part where we have servoing \n",
    "def crop_dfs(t_s1, t_s2, df_1, df_2):\n",
    "    \"\"\"\n",
    "        t_s1: pd Series of longer time \n",
    "        t_s2: pd Series of shorter time\n",
    "        df_1: dataframe of longer time\n",
    "        df_2: dataframe of shorter time\n",
    "        \n",
    "        Condition is that both measurements are in same frequency. That's current implementation, but it could be scaled to some degree. \n",
    "        Currently such situation is not neccessary because I want to use same frequency for stuff like that. \n",
    "        \n",
    "        returns: cropped longer dataframe!\n",
    "    \n",
    "    \"\"\"\n",
    "    \n",
    "    debug_info = False\n",
    "    if debug_info:\n",
    "        print(\"t1 len: {}\".format(len(t_s1)))\n",
    "        print(\"df1 len: {}\".format(len(df_1)))\n",
    "        print(\"t2 len: {}\".format(len(t_s2)))\n",
    "        print(\"df2 len: {}\".format(len(df_2)))\n",
    "    \n",
    "    # Get relative start and end time \n",
    "    start_t_cmd, end_t_cmd = get_start_end_time(t_s2)    \n",
    "        \n",
    "    \n",
    "    # Get times in relation to start time and end_time of servoing\n",
    "    start_diff_list = [t - start_t_cmd for t in t_s1]\n",
    "    end_diff_list = [t - end_t_cmd for t in t_s1]\n",
    "              \n",
    "    # Find closest start element\n",
    "    closest_start_element = min([t if t > 0 else 1000 for t in start_diff_list])\n",
    "    \n",
    "    # Find closest end element\n",
    "    closest_end_element = min([t if t > 0 else 1000 for t in end_diff_list])\n",
    "    \n",
    "    # Find out index of a closest element\n",
    "    start_index_ = list(time_s).index(closest_start_element + start_t_cmd)        \n",
    "    end_index_ = list(time_s).index(closest_end_element + end_t_cmd)\n",
    "    \n",
    "    if debug_info: \n",
    "        print(\"Closest start index is: {}\".format(start_index_))\n",
    "        print(\"Closest end index is: {}\".format(end_index_))\n",
    "    \n",
    "    # Truncate https://pandas.pydata.org/docs/reference/api/pandas.DataFrame.truncate.html\n",
    "    df_1 = df_1.truncate(before = start_index_)\n",
    "    df_1 = df_1.truncate(after=end_index_ + 1)   \n",
    "    \n",
    "    \n",
    "    return df_1    \n",
    "    "
   ]
  },
  {
   "cell_type": "code",
   "execution_count": 165,
   "metadata": {},
   "outputs": [
    {
     "name": "stdout",
     "output_type": "stream",
     "text": [
      "              Time  header.seq  header.stamp.secs  header.stamp.nsecs  \\\n",
      "0     1.630585e+09       16657                333           465000000   \n",
      "1     1.630585e+09       16658                333           485000000   \n",
      "2     1.630585e+09       16659                333           505000000   \n",
      "3     1.630585e+09       16660                333           525000000   \n",
      "4     1.630585e+09       16661                333           545000000   \n",
      "...            ...         ...                ...                 ...   \n",
      "2165  1.630585e+09       18822                376           765000000   \n",
      "2166  1.630585e+09       18823                376           785000000   \n",
      "2167  1.630585e+09       18824                376           805000000   \n",
      "2168  1.630585e+09       18825                376           825000000   \n",
      "2169  1.630585e+09       18826                376           845000000   \n",
      "\n",
      "      header.frame_id                                               name  \\\n",
      "0                 NaN  ['lwa4p_joint1', 'lwa4p_joint2', 'lwa4p_joint3...   \n",
      "1                 NaN  ['lwa4p_joint1', 'lwa4p_joint2', 'lwa4p_joint3...   \n",
      "2                 NaN  ['lwa4p_joint1', 'lwa4p_joint2', 'lwa4p_joint3...   \n",
      "3                 NaN  ['lwa4p_joint1', 'lwa4p_joint2', 'lwa4p_joint3...   \n",
      "4                 NaN  ['lwa4p_joint1', 'lwa4p_joint2', 'lwa4p_joint3...   \n",
      "...               ...                                                ...   \n",
      "2165              NaN  ['lwa4p_joint1', 'lwa4p_joint2', 'lwa4p_joint3...   \n",
      "2166              NaN  ['lwa4p_joint1', 'lwa4p_joint2', 'lwa4p_joint3...   \n",
      "2167              NaN  ['lwa4p_joint1', 'lwa4p_joint2', 'lwa4p_joint3...   \n",
      "2168              NaN  ['lwa4p_joint1', 'lwa4p_joint2', 'lwa4p_joint3...   \n",
      "2169              NaN  ['lwa4p_joint1', 'lwa4p_joint2', 'lwa4p_joint3...   \n",
      "\n",
      "      position_0  position_1  position_2  position_3  ...  effort_2  effort_3  \\\n",
      "0       0.000003    0.000006    0.000006   -0.000006  ...       0.0       0.0   \n",
      "1      -0.000003    0.000006    0.000006   -0.000006  ...       0.0       0.0   \n",
      "2       0.000003    0.000006    0.000006   -0.000006  ...       0.0       0.0   \n",
      "3      -0.000003    0.000006    0.000006   -0.000006  ...       0.0       0.0   \n",
      "4       0.000003    0.000006    0.000006   -0.000007  ...       0.0       0.0   \n",
      "...          ...         ...         ...         ...  ...       ...       ...   \n",
      "2165   -2.946999   -0.891619   -0.242443   -0.000449  ...       0.0       0.0   \n",
      "2166   -2.946999   -0.891619   -0.242443   -0.000449  ...       0.0       0.0   \n",
      "2167   -2.946999   -0.891619   -0.242443   -0.000449  ...       0.0       0.0   \n",
      "2168   -2.946999   -0.891619   -0.242443   -0.000449  ...       0.0       0.0   \n",
      "2169   -2.946999   -0.891619   -0.242443   -0.000449  ...       0.0       0.0   \n",
      "\n",
      "      effort_4  effort_5  effort_6  effort_7      effort_8      effort_9  \\\n",
      "0          0.0       0.0  0.002361  0.002361  9.214073e-08  3.148692e-07   \n",
      "1          0.0       0.0  0.002603  0.002603  9.065113e-08  3.277501e-07   \n",
      "2          0.0       0.0  0.002802  0.002803  8.874359e-08  3.392664e-07   \n",
      "3          0.0       0.0  0.002959  0.002959  8.639709e-08  3.493434e-07   \n",
      "4          0.0       0.0  0.003072  0.003072  8.358486e-08  3.579046e-07   \n",
      "...        ...       ...       ...       ...           ...           ...   \n",
      "2165       0.0       0.0 -0.019845 -0.019866 -2.096917e-05  1.946714e-07   \n",
      "2166       0.0       0.0 -0.019225 -0.019250 -2.042579e-05  2.791547e-07   \n",
      "2167       0.0       0.0 -0.018571 -0.018600 -1.979655e-05  3.667444e-07   \n",
      "2168       0.0       0.0 -0.017887 -0.017920 -1.907701e-05  4.640100e-07   \n",
      "2169       0.0       0.0 -0.017175 -0.017212 -1.826027e-05  5.803501e-07   \n",
      "\n",
      "      effort_10  effort_11  \n",
      "0     -0.002849  -0.002849  \n",
      "1     -0.003068  -0.003068  \n",
      "2     -0.003243  -0.003243  \n",
      "3     -0.003373  -0.003373  \n",
      "4     -0.003459  -0.003459  \n",
      "...         ...        ...  \n",
      "2165   0.012660   0.013300  \n",
      "2166   0.012070   0.012734  \n",
      "2167   0.011451   0.012135  \n",
      "2168   0.010805   0.011507  \n",
      "2169   0.010135   0.010853  \n",
      "\n",
      "[2170 rows x 42 columns]\n"
     ]
    }
   ],
   "source": []
  },
  {
   "cell_type": "code",
   "execution_count": 177,
   "metadata": {},
   "outputs": [
    {
     "name": "stdout",
     "output_type": "stream",
     "text": [
      "1432\n",
      "2170\n"
     ]
    }
   ],
   "source": [
    "time_s =  joint_states[\"Time\"]\n",
    "time_s_cmd = servo_joint_cmds[\"Time\"]\n",
    "series_cmd_list = get_series_by_key_from_df(servo_joint_cmds, \"data\")\n",
    "series_list = get_series_by_key_from_df(joint_states, \"position\")\n",
    "\n",
    "###################################\n",
    "# Wrong joint states is recorded! #\n",
    "###################################\n",
    "\n",
    "q1 = series_list[0]\n",
    "q2 = series_list[1]\n",
    "q3 = series_list[2]\n",
    "q4 = series_list[3]\n",
    "#pos_5 = series_list[4]\n",
    "#pos_6 = series_list[5]\n",
    "\n",
    "q1_sp = series_cmd_list[0] \n",
    "q2_sp = series_cmd_list[1]\n",
    "q3_sp = series_cmd_list[2]\n",
    "q4_sp = series_cmd_list[3]\n",
    "#cmd_pos_5 = series_cmd_list[4]\n",
    "#cmd_pos_6 = series_cmd_list[5]\n",
    "\n",
    "q1 = crop_dfs(time_s, time_s_cmd, q1, q1_sp) \n",
    "q2_sp = crop_dfs(time_s, time_s_cmd, q2, q2_sp)\n",
    "q3_sp = crop_dfs(time_s, time_s_cmd, q3, q3_sp)\n",
    "q4_sp = crop_dfs(time_s, time_s_cmd, q4, q4_sp)\n",
    "#crop_pos_5 = crop_dfs(time_s, time_s_cmd, pos_4, cmd_pos_4)\n",
    "#crop_pos_6 = crop_dfs(time_s, time_s_cmd, pos_5, cmd_pos_5)\n",
    "\n",
    "pos_list = [q1_sp, q1,\n",
    "            q2_sp, q2,\n",
    "            q3_sp, q3, \n",
    "            q4_sp, q4\n",
    "           ]\n",
    "\n",
    "names = [\"q1_sp\", \"q1\", \"q2_sp\", \"q2\", \"q3_sp\", \"q3\"]# \"q3\", \"q3_cmd\"]\n",
    "\n",
    "config_dict = {\n",
    "               \"title\":\"Joint position\", \n",
    "               \"x_label\":\"t [s]\",\n",
    "               \"y_label\": \"position [rad]\",\n",
    "               \"w\": 15,\n",
    "               \"h\": 10,\n",
    "               \"use_legend\":True,\n",
    "               \"font_size\": 14, \n",
    "               \"grid\":True, \n",
    "              }\n",
    "\n",
    "\n",
    "print(len(time_s_cmd))\n",
    "print(len(q4))\n",
    "\n",
    "#plot_multiple_series(time_s_cmd, pos_list, names, config_dict)\n",
    "\n",
    "\n",
    "#plot_multiple_series_wth_subplotting(time, series_list, n_rows, n_columns, plt_format=\"grid\", reference=False)\n"
   ]
  },
  {
   "cell_type": "code",
   "execution_count": 50,
   "metadata": {
    "scrolled": true
   },
   "outputs": [
    {
     "name": "stdout",
     "output_type": "stream",
     "text": [
      "Start index is: 508\n",
      "Servoing length is: 1432\n",
      "Measurement length is: 2170\n"
     ]
    }
   ],
   "source": [
    "# Get start :) \n",
    "diff_list = [t - start_t_cmd for t in time_s]\n",
    "\n",
    "closest_element = min([t if t > 0 else 1000 for t in diff_list])\n",
    "\n",
    "# Find out closest element in mesurements \n",
    "index_ = list(time_s).index(closest_element + start_t_cmd)\n",
    "print(\"Start index is: {}\".format(index_))\n",
    "print(\"Servoing length is: {}\".format(len(scaled_time_s_cmd)))\n",
    "print(\"Measurement length is: {}\".format(len(scaled_time_s)))"
   ]
  },
  {
   "cell_type": "code",
   "execution_count": 58,
   "metadata": {},
   "outputs": [
    {
     "name": "stdout",
     "output_type": "stream",
     "text": [
      "0.06026887893676758\n",
      "0.05975198745727539\n"
     ]
    }
   ],
   "source": [
    "crop_dfs()"
   ]
  },
  {
   "cell_type": "code",
   "execution_count": 425,
   "metadata": {},
   "outputs": [
    {
     "name": "stdout",
     "output_type": "stream",
     "text": [
      "<class 'pandas.core.series.Series'>\n",
      "cmd freq is: 38.442286916479254\n",
      "<class 'pandas.core.series.Series'>\n",
      "meas freq is: 40.027557903875035\n"
     ]
    }
   ],
   "source": [
    "time_s = joint_states['Time']\n",
    "time_s_cmd = joint_group_position_ctl_cmd['Time']\n",
    "joint_group_position_ctl_cmd = pd.read_csv(csv_files[0])\n",
    "joint_states = pd.read_csv(csv_files[1])\n",
    "#time_s, time_s_cmd, joint_states, joint_group_position_ctl_cmd = crop_dfs(time_s, time_s_cmd, joint_states, joint_group_position_ctl_cmd)\n",
    "\n",
    "print(\"cmd freq is: {}\".format(get_frequency(time_s_cmd)))\n",
    "print(\"meas freq is: {}\".format(get_frequency(time_s)))"
   ]
  },
  {
   "cell_type": "markdown",
   "metadata": {},
   "source": [
    "## Experiments"
   ]
  },
  {
   "cell_type": "markdown",
   "metadata": {},
   "source": [
    "#### Load bag\n"
   ]
  },
  {
   "cell_type": "code",
   "execution_count": 45,
   "metadata": {},
   "outputs": [
    {
     "name": "stdout",
     "output_type": "stream",
     "text": [
      "[INFO]  Data folder 2021-08-09-16-15-28 already exists. Not creating.\n",
      "['2021-08-09-16-15-28/control_arm_node-tool-current_pose.csv', '2021-08-09-16-15-28/lwa4p-joint_group_position_controller-command.csv', '2021-08-09-16-15-28/lwa4p-joint_states.csv', '2021-08-09-16-15-28/servo_server-delta_twist_cmds.csv', '2021-08-09-16-15-28/servo_server-target_pose.csv']\n"
     ]
    }
   ],
   "source": [
    "bag_name = \"2021-08-09-16-15-28.bag\"\n",
    "\n",
    "b = bagreader(bag_name)\n",
    "\n",
    "csv_files = []\n",
    "for topic in b.topics:\n",
    "    #print(topic)\n",
    "    data = b.message_by_topic(topic)\n",
    "    csv_files.append(data)\n",
    "\n",
    "current_pose = pd.read_csv(csv_files[0])\n",
    "joint_group_position_cmd = pd.read_csv(csv_files[1])\n",
    "joint_states = pd.read_csv(csv_files[2])\n",
    "delta_twist_cmds = pd.read_csv(csv_files[3])\n",
    "target_pose = pd.read_csv(csv_files[4])\n",
    "\n",
    "print(csv_files)\n"
   ]
  },
  {
   "cell_type": "code",
   "execution_count": 42,
   "metadata": {},
   "outputs": [
    {
     "ename": "NameError",
     "evalue": "name 'current_pose' is not defined",
     "output_type": "error",
     "traceback": [
      "\u001b[0;31m---------------------------------------------------------------------------\u001b[0m",
      "\u001b[0;31mNameError\u001b[0m                                 Traceback (most recent call last)",
      "\u001b[0;32m/tmp/ipykernel_144412/1466047934.py\u001b[0m in \u001b[0;36m<module>\u001b[0;34m\u001b[0m\n\u001b[1;32m     19\u001b[0m \u001b[0;34m\u001b[0m\u001b[0m\n\u001b[1;32m     20\u001b[0m \u001b[0;31m#print(current_pose)\u001b[0m\u001b[0;34m\u001b[0m\u001b[0;34m\u001b[0m\u001b[0;34m\u001b[0m\u001b[0m\n\u001b[0;32m---> 21\u001b[0;31m \u001b[0mplot_series\u001b[0m\u001b[0;34m(\u001b[0m\u001b[0mcurrent_pose\u001b[0m\u001b[0;34m[\u001b[0m\u001b[0;34m\"Time\"\u001b[0m\u001b[0;34m]\u001b[0m\u001b[0;34m,\u001b[0m \u001b[0mcurrent_pose\u001b[0m\u001b[0;34m[\u001b[0m\u001b[0;34m'position.x'\u001b[0m\u001b[0;34m]\u001b[0m\u001b[0;34m,\u001b[0m \u001b[0;32mTrue\u001b[0m\u001b[0;34m)\u001b[0m\u001b[0;34m\u001b[0m\u001b[0;34m\u001b[0m\u001b[0m\n\u001b[0m\u001b[1;32m     22\u001b[0m \u001b[0mplot_series\u001b[0m\u001b[0;34m(\u001b[0m\u001b[0mcurrent_pose\u001b[0m\u001b[0;34m[\u001b[0m\u001b[0;34m\"Time\"\u001b[0m\u001b[0;34m]\u001b[0m\u001b[0;34m,\u001b[0m \u001b[0mcurrent_pose\u001b[0m\u001b[0;34m[\u001b[0m\u001b[0;34m'position.y'\u001b[0m\u001b[0;34m]\u001b[0m\u001b[0;34m,\u001b[0m \u001b[0;32mTrue\u001b[0m\u001b[0;34m)\u001b[0m\u001b[0;34m\u001b[0m\u001b[0;34m\u001b[0m\u001b[0m\n\u001b[1;32m     23\u001b[0m \u001b[0mplot_series\u001b[0m\u001b[0;34m(\u001b[0m\u001b[0mcurrent_pose\u001b[0m\u001b[0;34m[\u001b[0m\u001b[0;34m\"Time\"\u001b[0m\u001b[0;34m]\u001b[0m\u001b[0;34m,\u001b[0m \u001b[0mcurrent_pose\u001b[0m\u001b[0;34m[\u001b[0m\u001b[0;34m'position.z'\u001b[0m\u001b[0;34m]\u001b[0m\u001b[0;34m,\u001b[0m \u001b[0;32mTrue\u001b[0m\u001b[0;34m)\u001b[0m\u001b[0;34m\u001b[0m\u001b[0;34m\u001b[0m\u001b[0m\n",
      "\u001b[0;31mNameError\u001b[0m: name 'current_pose' is not defined"
     ]
    }
   ],
   "source": [
    "# Plot delta_twist_cmds \n",
    "\n",
    "show = False\n",
    "# Plot cmd for tool speed\n",
    "if show: \n",
    "    \n",
    "    plot_series(delta_twist_cmds[\"Time\"], delta_twist_cmds['twist.linear.x'], True)\n",
    "    plot_series(delta_twist_cmds[\"Time\"], delta_twist_cmds['twist.linear.y'], True)\n",
    "    plot_series(delta_twist_cmds[\"Time\"], delta_twist_cmds['twist.linear.z'], True)\n",
    "    plot_series(delta_twist_cmds[\"Time\"], delta_twist_cmds['twist.angular.x'], True)\n",
    "    plot_series(delta_twist_cmds[\"Time\"], delta_twist_cmds['twist.angular.y'], True)\n",
    "    plot_series(delta_twist_cmds[\"Time\"], delta_twist_cmds['twist.angular.z'], True)\n",
    "\n",
    "\n",
    "    # Plot target pose from action server \n",
    "    plot_series(target_pose[\"Time\"], target_pose['pose.position.x'], True)\n",
    "    plot_series(target_pose[\"Time\"], target_pose['pose.position.y'], True)\n",
    "    plot_series(target_pose[\"Time\"], target_pose['pose.position.z'], True)\n",
    "    \n",
    "#print(current_pose)\n",
    "plot_series(current_pose[\"Time\"], current_pose['position.x'], True)\n",
    "plot_series(current_pose[\"Time\"], current_pose['position.y'], True)\n",
    "plot_series(current_pose[\"Time\"], current_pose['position.z'], True)\n",
    "\n",
    "config_dict = {\n",
    "               \"title\":\"Joint position\", \n",
    "               \"x_label\":\"t [s]\",\n",
    "               \"y_label\": \"position [rad]\",\n",
    "               \"w\": 15,\n",
    "               \"h\": 10,\n",
    "               \"use_legend\":True,\n",
    "               \"font_size\": 14, \n",
    "               \"grid\":True, \n",
    "              }\n",
    "\n",
    "plot_multiple_series(target_pose[\"Time\"], target_pose)"
   ]
  },
  {
   "cell_type": "code",
   "execution_count": 43,
   "metadata": {},
   "outputs": [
    {
     "ename": "NameError",
     "evalue": "name 'joint_group_position_cmd' is not defined",
     "output_type": "error",
     "traceback": [
      "\u001b[0;31m---------------------------------------------------------------------------\u001b[0m",
      "\u001b[0;31mNameError\u001b[0m                                 Traceback (most recent call last)",
      "\u001b[0;32m/tmp/ipykernel_144412/2147848046.py\u001b[0m in \u001b[0;36m<module>\u001b[0;34m\u001b[0m\n\u001b[0;32m----> 1\u001b[0;31m \u001b[0mseries_list\u001b[0m \u001b[0;34m=\u001b[0m \u001b[0;34m[\u001b[0m\u001b[0mjoint_states\u001b[0m\u001b[0;34m,\u001b[0m \u001b[0mjoint_group_position_cmd\u001b[0m\u001b[0;34m]\u001b[0m\u001b[0;34m\u001b[0m\u001b[0;34m\u001b[0m\u001b[0m\n\u001b[0m\u001b[1;32m      2\u001b[0m \u001b[0;34m\u001b[0m\u001b[0m\n\u001b[1;32m      3\u001b[0m \u001b[0mtime_s\u001b[0m \u001b[0;34m=\u001b[0m \u001b[0mjoint_states\u001b[0m\u001b[0;34m[\u001b[0m\u001b[0;34m'Time'\u001b[0m\u001b[0;34m]\u001b[0m\u001b[0;34m\u001b[0m\u001b[0;34m\u001b[0m\u001b[0m\n\u001b[1;32m      4\u001b[0m \u001b[0mtime_s_cmd\u001b[0m \u001b[0;34m=\u001b[0m \u001b[0mjoint_group_position_cmd\u001b[0m\u001b[0;34m[\u001b[0m\u001b[0;34m'Time'\u001b[0m\u001b[0;34m]\u001b[0m\u001b[0;34m\u001b[0m\u001b[0;34m\u001b[0m\u001b[0m\n\u001b[1;32m      5\u001b[0m \u001b[0;34m\u001b[0m\u001b[0m\n",
      "\u001b[0;31mNameError\u001b[0m: name 'joint_group_position_cmd' is not defined"
     ]
    }
   ],
   "source": [
    "series_list = [joint_states, joint_group_position_cmd]\n",
    "\n",
    "time_s = joint_states['Time']\n",
    "time_s_cmd = joint_group_position_cmd['Time']\n",
    "\n",
    "joint_state_t, joint_cmd_t, joint_state, joint_cmd = crop_dfs(time_s, time_s_cmd, joint_states, joint_group_position_cmd)"
   ]
  },
  {
   "cell_type": "code",
   "execution_count": 142,
   "metadata": {},
   "outputs": [
    {
     "name": "stderr",
     "output_type": "stream",
     "text": [
      "No handles with labels found to put in legend.\n"
     ]
    },
    {
     "data": {
      "image/png": "[encoded data removed]",
      "text/plain": [
       "<Figure size 1080x720 with 1 Axes>"
      ]
     },
     "metadata": {
      "needs_background": "light"
     },
     "output_type": "display_data"
    }
   ],
   "source": [
    "time = joint_states['Time']\n",
    "series_list = get_series_by_key_from_df(joint_states, \"position\")\n",
    "series_names = ['pos1', 'pos2', 'pos3', 'pos4', 'pos5', 'pos6']\n",
    "\n",
    "\n",
    "config_dict = {\n",
    "               \"title\":\"Joint position\", \n",
    "               \"x_label\":\"t [s]\",\n",
    "               \"y_label\": \"position [rad]\",\n",
    "               \"w\": 15,\n",
    "               \"h\": 10,\n",
    "               \"use_legend\":True,\n",
    "               \"font_size\": 14, \n",
    "               \"grid\":True, \n",
    "              }\n",
    "\n",
    "plot_multiple_series(time, series_list, series_names, config_dict, scale_time=True)"
   ]
  },
  {
   "cell_type": "code",
   "execution_count": 92,
   "metadata": {},
   "outputs": [
    {
     "ename": "NameError",
     "evalue": "name 'joint_group_position_cmd' is not defined",
     "output_type": "error",
     "traceback": [
      "\u001b[0;31m---------------------------------------------------------------------------\u001b[0m",
      "\u001b[0;31mNameError\u001b[0m                                 Traceback (most recent call last)",
      "\u001b[0;32m/tmp/ipykernel_144412/1937323720.py\u001b[0m in \u001b[0;36m<module>\u001b[0;34m\u001b[0m\n\u001b[0;32m----> 1\u001b[0;31m \u001b[0mtime\u001b[0m \u001b[0;34m=\u001b[0m \u001b[0mjoint_group_position_cmd\u001b[0m\u001b[0;34m[\u001b[0m\u001b[0;34m'Time'\u001b[0m\u001b[0;34m]\u001b[0m\u001b[0;34m\u001b[0m\u001b[0;34m\u001b[0m\u001b[0m\n\u001b[0m\u001b[1;32m      2\u001b[0m \u001b[0mseries_list\u001b[0m \u001b[0;34m=\u001b[0m \u001b[0mget_series_by_key_from_df\u001b[0m\u001b[0;34m(\u001b[0m\u001b[0mjoint_group_position_cmd\u001b[0m\u001b[0;34m,\u001b[0m \u001b[0;34m\"data\"\u001b[0m\u001b[0;34m)\u001b[0m\u001b[0;34m\u001b[0m\u001b[0;34m\u001b[0m\u001b[0m\n\u001b[1;32m      3\u001b[0m \u001b[0mseries_names\u001b[0m \u001b[0;34m=\u001b[0m \u001b[0;34m[\u001b[0m\u001b[0;34m'cmd1'\u001b[0m\u001b[0;34m,\u001b[0m \u001b[0;34m'cmd2'\u001b[0m\u001b[0;34m,\u001b[0m \u001b[0;34m'cmd3'\u001b[0m\u001b[0;34m,\u001b[0m \u001b[0;34m'cmd4'\u001b[0m\u001b[0;34m,\u001b[0m \u001b[0;34m'cmd5'\u001b[0m\u001b[0;34m,\u001b[0m \u001b[0;34m'cmd6'\u001b[0m\u001b[0;34m]\u001b[0m\u001b[0;34m\u001b[0m\u001b[0;34m\u001b[0m\u001b[0m\n\u001b[1;32m      4\u001b[0m \u001b[0;34m\u001b[0m\u001b[0m\n\u001b[1;32m      5\u001b[0m \u001b[0;34m\u001b[0m\u001b[0m\n",
      "\u001b[0;31mNameError\u001b[0m: name 'joint_group_position_cmd' is not defined"
     ]
    }
   ],
   "source": [
    "time = joint_group_position_cmd['Time']\n",
    "series_list = get_series_by_key_from_df(joint_group_position_cmd, \"data\")\n",
    "series_names = ['cmd1', 'cmd2', 'cmd3', 'cmd4', 'cmd5', 'cmd6']\n",
    "\n",
    "\n",
    "config_dict = {\n",
    "               \"title\":\"Joint position\", \n",
    "               \"x_label\":\"t [s]\",\n",
    "               \"y_label\": \"position [rad]\",\n",
    "               \"w\": 15,\n",
    "               \"h\": 10,\n",
    "               \"use_legend\":True,\n",
    "               \"font_size\": 14, \n",
    "               \"grid\":True, \n",
    "              }\n",
    "\n",
    "plot_multiple_series(time, series_list, series_names, config_dict, scale_time=True)"
   ]
  },
  {
   "cell_type": "code",
   "execution_count": 1,
   "metadata": {},
   "outputs": [
    {
     "ename": "NameError",
     "evalue": "name 'bagreader' is not defined",
     "output_type": "error",
     "traceback": [
      "\u001b[0;31m---------------------------------------------------------------------------\u001b[0m",
      "\u001b[0;31mNameError\u001b[0m                                 Traceback (most recent call last)",
      "\u001b[0;32m/tmp/ipykernel_144412/1388056582.py\u001b[0m in \u001b[0;36m<module>\u001b[0;34m\u001b[0m\n\u001b[1;32m      1\u001b[0m \u001b[0mbag_name\u001b[0m \u001b[0;34m=\u001b[0m \u001b[0;34m\"2021-08-09-16-15-28.bag\"\u001b[0m\u001b[0;34m\u001b[0m\u001b[0;34m\u001b[0m\u001b[0m\n\u001b[1;32m      2\u001b[0m \u001b[0;34m\u001b[0m\u001b[0m\n\u001b[0;32m----> 3\u001b[0;31m \u001b[0mb\u001b[0m \u001b[0;34m=\u001b[0m \u001b[0mbagreader\u001b[0m\u001b[0;34m(\u001b[0m\u001b[0mbag_name\u001b[0m\u001b[0;34m)\u001b[0m\u001b[0;34m\u001b[0m\u001b[0;34m\u001b[0m\u001b[0m\n\u001b[0m\u001b[1;32m      4\u001b[0m \u001b[0;34m\u001b[0m\u001b[0m\n\u001b[1;32m      5\u001b[0m \u001b[0mcsv_files\u001b[0m \u001b[0;34m=\u001b[0m \u001b[0;34m[\u001b[0m\u001b[0;34m]\u001b[0m\u001b[0;34m\u001b[0m\u001b[0;34m\u001b[0m\u001b[0m\n",
      "\u001b[0;31mNameError\u001b[0m: name 'bagreader' is not defined"
     ]
    }
   ],
   "source": [
    "bag_name = \"2021-08-09-16-15-28.bag\"\n",
    "\n",
    "b = bagreader(bag_name)\n",
    "\n",
    "csv_files = []\n",
    "for topic in b.topics:\n",
    "    #print(topic)\n",
    "    data = b.message_by_topic(topic)\n",
    "    csv_files.append(data)\n",
    "\n",
    "current_pose = pd.read_csv(csv_files[0])\n",
    "joint_group_position_cmd = pd.read_csv(csv_files[1])\n",
    "joint_states = pd.read_csv(csv_files[2])\n",
    "delta_twist_cmds = pd.read_csv(csv_files[3])\n",
    "target_pose = pd.read_csv(csv_files[4])\n",
    "\n",
    "print(csv_files)\n",
    "\n",
    "plot_series(delta_twist_cmds[\"Time\"], delta_twist_cmds[\"twist.linear.x\"], True)\n",
    "plot_series(joint_group_position_cmd[\"Time\"], joint_group_position_cmd[\"data_0\"], True)"
   ]
  },
  {
   "cell_type": "code",
   "execution_count": null,
   "metadata": {},
   "outputs": [],
   "source": []
  },
  {
   "cell_type": "code",
   "execution_count": null,
   "metadata": {},
   "outputs": [],
   "source": []
  }
 ],
 "metadata": {
  "kernelspec": {
   "display_name": "bags",
   "language": "python",
   "name": "bags"
  },
  "language_info": {
   "codemirror_mode": {
    "name": "ipython",
    "version": 3
   },
   "file_extension": ".py",
   "mimetype": "text/x-python",
   "name": "python",
   "nbconvert_exporter": "python",
   "pygments_lexer": "ipython3",
   "version": "3.8.10"
  }
 },
 "nbformat": 4,
 "nbformat_minor": 4
}
