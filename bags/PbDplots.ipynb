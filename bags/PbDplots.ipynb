{
 "cells": [
  {
   "cell_type": "code",
   "execution_count": 1,
   "metadata": {},
   "outputs": [
    {
     "name": "stderr",
     "output_type": "stream",
     "text": [
      "/home/zozan/.local/lib/python3.8/site-packages/scipy/__init__.py:146: UserWarning: A NumPy version >=1.16.5 and <1.23.0 is required for this version of SciPy (detected version 1.24.4\n",
      "  warnings.warn(f\"A NumPy version >={np_minversion} and <{np_maxversion}\"\n"
     ]
    }
   ],
   "source": [
    "import os\n",
    "from bagpy import bagreader\n",
    "import matplotlib.pyplot as plt\n",
    "import pandas as pd\n",
    "import numpy as np\n",
    "from scipy.spatial.transform import Rotation as R"
   ]
  },
  {
   "cell_type": "code",
   "execution_count": 2,
   "metadata": {},
   "outputs": [],
   "source": [
    "def list_files_with_full_path(folder_path):\n",
    "    try:\n",
    "        # Get the list of files in the folder with full paths\n",
    "        files = [os.path.join(folder_path, f) for f in os.listdir(folder_path) if os.path.isfile(os.path.join(folder_path, f))]\n",
    "        return files\n",
    "    except OSError as e:\n",
    "        print(f\"Error reading files in {folder_path}: {e}\")\n",
    "        return None\n",
    "    \n",
    "def get_csv(bag_name):\n",
    "    \n",
    "    data_dict = {}\n",
    "    \n",
    "    # Read bag\n",
    "    b = bagreader(bag_name)\n",
    "    \n",
    "    for topic in b.topics: \n",
    "        data = b.message_by_topic(topic)\n",
    "        data_dict['{}'.format(topic)] = pd.read_csv(data)\n",
    "        \n",
    "    return data_dict\n",
    "\n",
    "def get_name(search, list_of_names): \n",
    "    \n",
    "    for i, name in enumerate(list_of_names): \n",
    "        if search in name: \n",
    "            return name\n",
    "\n",
    "# Transform stuff\n",
    "def create_T(p, q): \n",
    "    \n",
    "    r = R.from_quat([q[0], q[1], q[2], q[3]])\n",
    "    r = r.as_matrix()\n",
    "                     \n",
    "    T = np.matrix([[r[0, 0], r[0, 1], r[0, 2], p[0]], \n",
    "                   [r[1, 0], r[1, 1], r[1, 2], p[1]],\n",
    "                   [r[2, 0], r[2, 1], r[2, 2], p[2]], \n",
    "                   [0, 0, 0, 1]])\n",
    "    return T\n",
    "                 \n",
    "def get_p_from_T(T_0P):\n",
    "    \n",
    "    x = [T_0P_[0, 3] for T_0P_ in T_0P]\n",
    "    y = [T_0P_[1, 3] for T_0P_ in T_0P]\n",
    "    z = [T_0P_[2, 3] for T_0P_ in T_0P]\n",
    "    \n",
    "    return(x, y, z)\n",
    "\n",
    "def transform_to_marker_tip(x, y, z, qx, qy, qz, qw, T_TP): \n",
    "    \n",
    "    T_0T = [create_T((x_, y_, z_), (qx_, qy_, qz_, qw_)) for x_, y_, z_, qx_, qy_, qz_, qw_ in zip(x, y, z, qx, qy, qz, qw)]\n",
    "    T_0P = [np.dot(T_0T_, T_TP) for T_0T_ in T_0T]\n",
    "    \n",
    "    x, y, z = get_p_from_T(T_0P)\n",
    "    \n",
    "    return x, y, z \n",
    "\n",
    "def extract_kalipen(csv, trace):\n",
    "    if trace: \n",
    "        topic_name = '/kdno/MARKER_COLOR'\n",
    "    else: \n",
    "        topic_name = '/kdno/MARKER_BW'\n",
    "        \n",
    "    t = csv[topic_name]['Time']\n",
    "    x = csv[topic_name]['pose.position.x']\n",
    "    y = csv[topic_name]['pose.position.y']\n",
    "    z = csv[topic_name]['pose.position.z']\n",
    "    \n",
    "    return (x, y, z)\n",
    "\n",
    "def extract_robot(csv, T_TP):\n",
    "    # Same topic name for both recordings\n",
    "    x = csv['/franka_state_controller/O_T_EE']['pose.position.x'] \n",
    "    y = csv['/franka_state_controller/O_T_EE']['pose.position.y']\n",
    "    z = csv['/franka_state_controller/O_T_EE']['pose.position.z'] \n",
    "    qx = csv['/franka_state_controller/O_T_EE']['pose.orientation.x']\n",
    "    qy = csv['/franka_state_controller/O_T_EE']['pose.orientation.y']\n",
    "    qz = csv['/franka_state_controller/O_T_EE']['pose.orientation.z']\n",
    "    qw = csv['/franka_state_controller/O_T_EE']['pose.orientation.w']\n",
    "    \n",
    "    x_, y_, z_ = transform_to_marker_tip(x, y, z, qx, qy, qz, qw, T_TP)\n",
    "    \n",
    "    return (x_, y_, z_)\n",
    "\n",
    "\n",
    "def plot_results(p_mc, p_mnc, p_rc, p_rnc, save_=False):\n",
    "    # Create a subplot with a 1x2 grid\n",
    "    fig, axes = plt.subplots(nrows=1, ncols=2, figsize=(10, 4))\n",
    "    \n",
    "    # Get data from position vectors\n",
    "    x_mc, y_mc, z_mc = p_mc[0], p_mc[1], p_mc[2]\n",
    "    x_mnc, y_mnc, z_mnc = p_mnc[0], p_mnc[1], p_mnc[2]\n",
    "    x_rc, y_rc, z_rc = p_rc[0], p_rc[1], p_rc[2]\n",
    "    x_rnc, y_rnc, z_rnc = p_rnc[0], p_rnc[1], p_rnc[2]\n",
    "\n",
    "    # Plot the first graph on the left\n",
    "    axes[0].plot(x_mc, z_mc, color='red', label='Kalipen trace')\n",
    "    axes[0].plot(x_mnc, z_mnc, color='green', label='Kalipen no trace')\n",
    "    axes[0].set_title('Kalipen results')\n",
    "    axes[0].set_xlabel('X [m]')\n",
    "    axes[0].set_ylabel('Z [m]')\n",
    "    axes[0].legend()\n",
    "    axes[0].grid()\n",
    "\n",
    "    # Plot the second graph on the right\n",
    "    axes[1].plot(y_rc, z_rc, color='yellow', label='Robot trace')\n",
    "    axes[1].plot(y_rnc, z_rnc, color='orange', label='Robot no trace')\n",
    "    axes[1].set_title('Robot marker results')\n",
    "    axes[1].set_xlabel('X [m]')\n",
    "    axes[1].set_ylabel('Z [m]')\n",
    "    axes[1].legend()\n",
    "    axes[1].grid()\n",
    "\n",
    "    # Adjust layout for better spacing\n",
    "    plt.tight_layout()\n",
    "    # Show the plot\n",
    "    plt.show()\n",
    "    \n",
    "    if save_:\n",
    "        plt.savefig('./myresults.png')\n",
    "        \n",
    "def plot_blackboard(p_mc, p_nc, p_rc, p_rnc, save_=False):\n",
    "    \n",
    "    # Get data from position vectors\n",
    "    x_mc, y_mc, z_mc = p_mc[0], p_mc[1], p_mc[2]\n",
    "    x_mnc, y_mnc, z_mnc = p_mnc[0], p_mnc[1], p_mnc[2]\n",
    "    x_rc, y_rc, z_rc = p_rc[0], p_rc[1], p_rc[2]\n",
    "    x_rnc, y_rnc, z_rnc = p_rnc[0], p_rnc[1], p_rnc[2]\n",
    "    \n",
    "    plt.figure(figsize=(15, 10))\n",
    "    plt.plot(x_mc, z_mc, label='Kalipen TRACE')\n",
    "    plt.plot(x_mnc, z_mnc, label='Kalipen NO TRACE')\n",
    "    plt.plot(y_rc, z_rc, label=\"Robot TRACE\")\n",
    "    plt.plot(y_rnc, z_rnc, label=\"Robot NO TRACE\")\n",
    "    plt.xlabel('X [m]')\n",
    "    plt.ylabel('Z [m]')\n",
    "    plt.title('Blackboard of the experiment')\n",
    "    plt.legend()\n",
    "    plt.grid()\n",
    "    \n",
    "    if save_: \n",
    "        plt.savefig('./myblackboard')\n",
    "\n",
    "\n",
    "    \n",
    "\n",
    "T_TP = np.matrix([[1, 0, 0, 0.0015946], \n",
    "                  [0, 1, 0, -0.00069987], \n",
    "                  [0, 0, 1, 0.14166], \n",
    "                  [0, 0, 0, 1]])\n",
    "\n",
    "\n"
   ]
  },
  {
   "cell_type": "code",
   "execution_count": 3,
   "metadata": {},
   "outputs": [],
   "source": [
    "list_of_bags1 = list_files_with_full_path(\"./pbd_bags/student11\")\n",
    "list_of_bags2 = list_files_with_full_path(\"./pbd_bags/student12\")\n",
    "list_of_bags3 = list_files_with_full_path(\"./pbd_bags/student13\")"
   ]
  },
  {
   "cell_type": "code",
   "execution_count": 4,
   "metadata": {},
   "outputs": [
    {
     "name": "stdout",
     "output_type": "stream",
     "text": [
      "[INFO]  Data folder ./pbd_bags/student13/student_91_MARKER_BW already exists. Not creating.\n",
      "[INFO]  Data folder ./pbd_bags/student13/student_91_color_robot already exists. Not creating.\n",
      "[INFO]  Data folder ./pbd_bags/student13/student_91_bw_robot already exists. Not creating.\n",
      "[INFO]  Data folder ./pbd_bags/student13/student_91_MARKER_COLOR already exists. Not creating.\n"
     ]
    }
   ],
   "source": [
    "bags = [bagreader(bag) for bag in list_of_bags3]"
   ]
  },
  {
   "cell_type": "code",
   "execution_count": 5,
   "metadata": {},
   "outputs": [
    {
     "name": "stdout",
     "output_type": "stream",
     "text": [
      "[INFO]  Data folder ./pbd_bags/student11/student_11_MARKER_COLOR already exists. Not creating.\n",
      "[INFO]  Data folder ./pbd_bags/student11/student_11_MARKER_BW already exists. Not creating.\n",
      "[INFO]  Data folder ./pbd_bags/student11/student_11_color_robot already exists. Not creating.\n",
      "[INFO]  Data folder ./pbd_bags/student11/student_11_bw_robot already exists. Not creating.\n"
     ]
    }
   ],
   "source": [
    "# Plots marker movement in space\n",
    "csv_k_trace = get_csv(get_name('MARKER_COLOR', list_of_bags1))\n",
    "csv_k_ntrace = get_csv(get_name('MARKER_BW', list_of_bags1))\n",
    "csv_r_trace = get_csv(get_name('color_robot', list_of_bags1))\n",
    "csv_r_ntrace = get_csv(get_name('bw_robot', list_of_bags1))\n",
    "\n",
    "p_mc = extract_kalipen(csv_k_trace, trace=True)\n",
    "p_mnc = extract_kalipen(csv_k_ntrace, trace=False)\n",
    "\n",
    "p_rc = extract_robot(csv_r_trace, T_TP)\n",
    "p_rnc =  extract_robot(csv_r_ntrace, T_TP)"
   ]
  },
  {
   "cell_type": "code",
   "execution_count": 6,
   "metadata": {},
   "outputs": [
    {
     "data": {
      "image/png": "[encoded data removed]",
      "text/plain": [
       "<Figure size 720x288 with 2 Axes>"
      ]
     },
     "metadata": {
      "needs_background": "light"
     },
     "output_type": "display_data"
    }
   ],
   "source": [
    "plot_results(p_mc, p_mnc, p_rc, p_rnc)"
   ]
  },
  {
   "cell_type": "code",
   "execution_count": 7,
   "metadata": {},
   "outputs": [
    {
     "data": {
      "image/png": "[encoded data removed]",
      "text/plain": [
       "<Figure size 1080x720 with 1 Axes>"
      ]
     },
     "metadata": {
      "needs_background": "light"
     },
     "output_type": "display_data"
    }
   ],
   "source": [
    "plot_blackboard(p_mc, p_mnc, p_rc, p_rnc, save_=True)"
   ]
  },
  {
   "cell_type": "code",
   "execution_count": 8,
   "metadata": {},
   "outputs": [],
   "source": [
    "def extract_joint_pos(csv, topic): \n",
    "    t = csv[topic]['Time'] - min(csv[topic]['Time'])\n",
    "    q0 = csv[topic]['position_0']\n",
    "    q1 = csv[topic]['position_1']\n",
    "    q2 = csv[topic]['position_2']\n",
    "    q3 = csv[topic]['position_3']\n",
    "    q4 = csv[topic]['position_4']\n",
    "    q5 = csv[topic]['position_5']\n",
    "    q6 = csv[topic]['position_6']\n",
    "    q = [q0, q1, q2, q3, q4, q5, q6]\n",
    "    return t, q\n"
   ]
  },
  {
   "cell_type": "code",
   "execution_count": 9,
   "metadata": {},
   "outputs": [],
   "source": [
    "t, q = extract_joint_pos(csv_r_trace, '/joint_states')"
   ]
  },
  {
   "cell_type": "code",
   "execution_count": 10,
   "metadata": {},
   "outputs": [
    {
     "data": {
      "image/png": "[encoded data removed]",
      "text/plain": [
       "<Figure size 720x288 with 2 Axes>"
      ]
     },
     "metadata": {
      "needs_background": "light"
     },
     "output_type": "display_data"
    }
   ],
   "source": [
    "# Create a subplot with a 1x2 grid\n",
    "fig, axes = plt.subplots(nrows=1, ncols=2, figsize=(10, 4), gridspec_kw={'width_ratios': [1, 2]})\n",
    "    \n",
    "x_rc, y_rc, z_rc = p_rc[0], p_rc[1], p_rc[2]\n",
    "x_rnc, y_rnc, z_rnc = p_rnc[0], p_rnc[1], p_rnc[2]\n",
    "\n",
    "# Plot the first graph on the left\n",
    "axes[0].plot(y_rc, z_rc, color='red', label='Kalipen trace')\n",
    "axes[0].plot(y_rnc, z_rnc, color='green', label='Kalipen no trace')\n",
    "axes[0].set_title('Kalipen results')\n",
    "axes[0].set_xlabel('X [m]')\n",
    "axes[0].set_ylabel('Z [m]')\n",
    "axes[0].legend()\n",
    "axes[0].grid()\n",
    "\n",
    "# Plot the second graph on the right\n",
    "axes[1].plot(t, q[0], label='q0')\n",
    "axes[1].plot(t, q[1], label='q1')\n",
    "axes[1].plot(t, q[2], label='q2')\n",
    "axes[1].plot(t, q[3], label='q3')\n",
    "axes[1].plot(t, q[4], label='q4')\n",
    "axes[1].plot(t, q[5], label='q5')\n",
    "axes[1].plot(t, q[5], label='q6')\n",
    "axes[1].set_title('Joint movement')\n",
    "axes[1].set_xlabel('X [m]')\n",
    "axes[1].set_ylabel('Z [m]')\n",
    "axes[1].legend()\n",
    "axes[1].grid()\n",
    "\n",
    "# Adjust layout for better spacing\n",
    "plt.tight_layout()\n",
    "# Show the plot\n",
    "plt.show()"
   ]
  },
  {
   "cell_type": "markdown",
   "metadata": {},
   "source": [
    "## TODO: \n",
    "\n",
    "- [x] Read bags \n",
    "- [x] Plot first house\n",
    "- [x] Plot second house\n",
    "- [x] Add TF flandza-pen\n",
    "- [x] Making house plotting autonomous\n",
    "- [ ] Add in one script for autonomous plot\n",
    "- [ ] Add plotting of the joint states"
   ]
  },
  {
   "cell_type": "markdown",
   "metadata": {},
   "source": [
    "## User study plots\n"
   ]
  },
  {
   "cell_type": "markdown",
   "metadata": {},
   "source": [
    " ### TODO: \n",
    " - [x] Import CSV data\n",
    " - [x] Plot polar \n",
    " - [ ] Plot bar plot \n",
    " - [ ] Calculate std dev\n",
    " - [ ] Read all bags and extract times for each student \n",
    " - [ ] Maybe compare temporal demand and times\n",
    " - [ ] Plot initial CSV data \n",
    " - [ ] Sort data based on the task"
   ]
  },
  {
   "cell_type": "code",
   "execution_count": 11,
   "metadata": {},
   "outputs": [],
   "source": [
    "import pandas as pd\n",
    "\n",
    "# Replace 'your_file.csv' with the actual path to your CSV file\n",
    "sus_pbd = './sus_data.csv'\n",
    "nasa_tlx_pbd = './nasa_rtlx_data.csv'\n",
    "\n",
    "# Load the CSV file into a pandas DataFrame\n",
    "sus_pbd_data = pd.read_csv(sus_pbd)\n",
    "nasa_tlx_pbd_data = pd.read_csv(nasa_tlx_pbd)"
   ]
  },
  {
   "cell_type": "code",
   "execution_count": 44,
   "metadata": {},
   "outputs": [],
   "source": [
    "k_trace_ntlx = nasa_tlx_pbd_data[nasa_tlx_pbd_data['Task'].str.contains('Calipen - Trace')]\n",
    "k_ntrace_ntlx = nasa_tlx_pbd_data[nasa_tlx_pbd_data['Task'].str.contains('Calipen - No Trace')]\n",
    "r_trace_ntlx = nasa_tlx_pbd_data[nasa_tlx_pbd_data['Task'].str.contains('Robot - Trace')]\n",
    "r_ntrace_ntlx = nasa_tlx_pbd_data[nasa_tlx_pbd_data['Task'].str.contains('Robot - No Trace')]"
   ]
  },
  {
   "cell_type": "code",
   "execution_count": 69,
   "metadata": {},
   "outputs": [
    {
     "data": {
      "text/plain": [
       "44"
      ]
     },
     "execution_count": 69,
     "metadata": {},
     "output_type": "execute_result"
    }
   ],
   "source": [
    "k_trace_ntlx[k_trace_ntlx['Task'].str.contains('Calipen - Trace')]\n",
    "#k_trace_ntlx.drop('Timestamp')\n",
    "k_trace_ntlx['MD'].sum()"
   ]
  },
  {
   "cell_type": "code",
   "execution_count": 100,
   "metadata": {},
   "outputs": [
    {
     "data": {
      "text/plain": [
       "0      1\n",
       "4      1\n",
       "8      2\n",
       "14     2\n",
       "18     1\n",
       "22     2\n",
       "23     1\n",
       "27     2\n",
       "32     3\n",
       "36     2\n",
       "40     1\n",
       "44     3\n",
       "49     1\n",
       "53     2\n",
       "58     1\n",
       "62     1\n",
       "66     1\n",
       "68     1\n",
       "73     1\n",
       "77     3\n",
       "81     3\n",
       "84     1\n",
       "88     1\n",
       "92     2\n",
       "95     3\n",
       "101    2\n",
       "Name: MD, dtype: int64"
      ]
     },
     "execution_count": 100,
     "metadata": {},
     "output_type": "execute_result"
    }
   ],
   "source": []
  },
  {
   "cell_type": "markdown",
   "metadata": {},
   "source": [
    "## NASA rTLX comparison"
   ]
  },
  {
   "cell_type": "code",
   "execution_count": 70,
   "metadata": {},
   "outputs": [],
   "source": [
    "def extract_categories(sum_): \n",
    "    return {\"e\": sum_.E, \"f\": sum_.F, \"p\": sum_.P, \"pd\": sum_.PD, \"td\": sum_.TD, \"md\": sum_.MD}\n",
    "\n",
    "def divide_dict_values(sum_, N):\n",
    "    dct_ = extract_categories(sum_)\n",
    "    return {key: value / N for key, value in dct_.items()}\n",
    "\n",
    "def get_avg(df): \n",
    "    return [df[\"MD\"].sum()/len(df[\"MD\"]), \n",
    "            df[\"PD\"].sum()/len(df[\"PD\"]), \n",
    "            df[\"TD\"].sum()/len(df[\"TD\"]), \n",
    "            df[\"F\"].sum()/len(df[\"F\"]), \n",
    "            df[\"P\"].sum()/len(df[\"P\"]), \n",
    "            df[\"E\"].sum()/len(df[\"E\"])]"
   ]
  },
  {
   "cell_type": "code",
   "execution_count": 77,
   "metadata": {},
   "outputs": [],
   "source": [
    "avg_ktrace = get_avg(k_trace_ntlx)\n",
    "avg_nktrace = get_avg(k_ntrace_ntlx)\n",
    "avg_rtrace = get_avg(r_trace_ntlx)\n",
    "avg_nrtrace = get_avg(r_ntrace_ntlx)"
   ]
  },
  {
   "cell_type": "code",
   "execution_count": 99,
   "metadata": {},
   "outputs": [
    {
     "data": {
      "application/vnd.plotly.v1+json": {
       "config": {
        "plotlyServerURL": "https://plot.ly"
       },
       "data": [
        {
         "fill": "toself",
         "marker": {
          "symbol": "square"
         },
         "name": "kalipen trace",
         "r": [
          1.6923076923076923,
          1.5384615384615385,
          1.7692307692307692,
          1.3076923076923077,
          4.384615384615385,
          1.9230769230769231
         ],
         "subplot": "polar",
         "theta": [
          "MD",
          "PD",
          "TD",
          "F",
          "P",
          "E"
         ],
         "type": "scatterpolar"
        },
        {
         "fill": "toself",
         "marker": {
          "symbol": "square"
         },
         "name": "kalipen no trace",
         "r": [
          2.24,
          1.64,
          1.8,
          1.6,
          3.68,
          2.12
         ],
         "subplot": "polar",
         "theta": [
          "MD",
          "PD",
          "TD",
          "F",
          "P",
          "E"
         ],
         "type": "scatterpolar"
        },
        {
         "fill": "toself",
         "marker": {
          "symbol": "square"
         },
         "name": "robot trace",
         "r": [
          3.6538461538461537,
          4.038461538461538,
          3.423076923076923,
          3.1153846153846154,
          4.076923076923077,
          4.576923076923077
         ],
         "subplot": "polar2",
         "theta": [
          "MD",
          "PD",
          "TD",
          "F",
          "P",
          "E"
         ],
         "type": "scatterpolar"
        },
        {
         "fill": "toself",
         "marker": {
          "symbol": "square"
         },
         "name": "robot no trace",
         "r": [
          3.923076923076923,
          3.6538461538461537,
          3.3076923076923075,
          3.076923076923077,
          4.5,
          4.3076923076923075
         ],
         "subplot": "polar2",
         "theta": [
          "MD",
          "PD",
          "TD",
          "F",
          "P",
          "E"
         ],
         "type": "scatterpolar"
        }
       ],
       "layout": {
        "font": {
         "size": 12
        },
        "polar": {
         "domain": {
          "x": [
           0,
           0.45
          ],
          "y": [
           0,
           1
          ]
         }
        },
        "polar2": {
         "domain": {
          "x": [
           0.55,
           1
          ],
          "y": [
           0,
           1
          ]
         }
        },
        "showlegend": true,
        "template": {
         "data": {
          "bar": [
           {
            "error_x": {
             "color": "#2a3f5f"
            },
            "error_y": {
             "color": "#2a3f5f"
            },
            "marker": {
             "line": {
              "color": "#E5ECF6",
              "width": 0.5
             },
             "pattern": {
              "fillmode": "overlay",
              "size": 10,
              "solidity": 0.2
             }
            },
            "type": "bar"
           }
          ],
          "barpolar": [
           {
            "marker": {
             "line": {
              "color": "#E5ECF6",
              "width": 0.5
             },
             "pattern": {
              "fillmode": "overlay",
              "size": 10,
              "solidity": 0.2
             }
            },
            "type": "barpolar"
           }
          ],
          "carpet": [
           {
            "aaxis": {
             "endlinecolor": "#2a3f5f",
             "gridcolor": "white",
             "linecolor": "white",
             "minorgridcolor": "white",
             "startlinecolor": "#2a3f5f"
            },
            "baxis": {
             "endlinecolor": "#2a3f5f",
             "gridcolor": "white",
             "linecolor": "white",
             "minorgridcolor": "white",
             "startlinecolor": "#2a3f5f"
            },
            "type": "carpet"
           }
          ],
          "choropleth": [
           {
            "colorbar": {
             "outlinewidth": 0,
             "ticks": ""
            },
            "type": "choropleth"
           }
          ],
          "contour": [
           {
            "colorbar": {
             "outlinewidth": 0,
             "ticks": ""
            },
            "colorscale": [
             [
              0,
              "#0d0887"
             ],
             [
              0.1111111111111111,
              "#46039f"
             ],
             [
              0.2222222222222222,
              "#7201a8"
             ],
             [
              0.3333333333333333,
              "#9c179e"
             ],
             [
              0.4444444444444444,
              "#bd3786"
             ],
             [
              0.5555555555555556,
              "#d8576b"
             ],
             [
              0.6666666666666666,
              "#ed7953"
             ],
             [
              0.7777777777777778,
              "#fb9f3a"
             ],
             [
              0.8888888888888888,
              "#fdca26"
             ],
             [
              1,
              "#f0f921"
             ]
            ],
            "type": "contour"
           }
          ],
          "contourcarpet": [
           {
            "colorbar": {
             "outlinewidth": 0,
             "ticks": ""
            },
            "type": "contourcarpet"
           }
          ],
          "heatmap": [
           {
            "colorbar": {
             "outlinewidth": 0,
             "ticks": ""
            },
            "colorscale": [
             [
              0,
              "#0d0887"
             ],
             [
              0.1111111111111111,
              "#46039f"
             ],
             [
              0.2222222222222222,
              "#7201a8"
             ],
             [
              0.3333333333333333,
              "#9c179e"
             ],
             [
              0.4444444444444444,
              "#bd3786"
             ],
             [
              0.5555555555555556,
              "#d8576b"
             ],
             [
              0.6666666666666666,
              "#ed7953"
             ],
             [
              0.7777777777777778,
              "#fb9f3a"
             ],
             [
              0.8888888888888888,
              "#fdca26"
             ],
             [
              1,
              "#f0f921"
             ]
            ],
            "type": "heatmap"
           }
          ],
          "heatmapgl": [
           {
            "colorbar": {
             "outlinewidth": 0,
             "ticks": ""
            },
            "colorscale": [
             [
              0,
              "#0d0887"
             ],
             [
              0.1111111111111111,
              "#46039f"
             ],
             [
              0.2222222222222222,
              "#7201a8"
             ],
             [
              0.3333333333333333,
              "#9c179e"
             ],
             [
              0.4444444444444444,
              "#bd3786"
             ],
             [
              0.5555555555555556,
              "#d8576b"
             ],
             [
              0.6666666666666666,
              "#ed7953"
             ],
             [
              0.7777777777777778,
              "#fb9f3a"
             ],
             [
              0.8888888888888888,
              "#fdca26"
             ],
             [
              1,
              "#f0f921"
             ]
            ],
            "type": "heatmapgl"
           }
          ],
          "histogram": [
           {
            "marker": {
             "pattern": {
              "fillmode": "overlay",
              "size": 10,
              "solidity": 0.2
             }
            },
            "type": "histogram"
           }
          ],
          "histogram2d": [
           {
            "colorbar": {
             "outlinewidth": 0,
             "ticks": ""
            },
            "colorscale": [
             [
              0,
              "#0d0887"
             ],
             [
              0.1111111111111111,
              "#46039f"
             ],
             [
              0.2222222222222222,
              "#7201a8"
             ],
             [
              0.3333333333333333,
              "#9c179e"
             ],
             [
              0.4444444444444444,
              "#bd3786"
             ],
             [
              0.5555555555555556,
              "#d8576b"
             ],
             [
              0.6666666666666666,
              "#ed7953"
             ],
             [
              0.7777777777777778,
              "#fb9f3a"
             ],
             [
              0.8888888888888888,
              "#fdca26"
             ],
             [
              1,
              "#f0f921"
             ]
            ],
            "type": "histogram2d"
           }
          ],
          "histogram2dcontour": [
           {
            "colorbar": {
             "outlinewidth": 0,
             "ticks": ""
            },
            "colorscale": [
             [
              0,
              "#0d0887"
             ],
             [
              0.1111111111111111,
              "#46039f"
             ],
             [
              0.2222222222222222,
              "#7201a8"
             ],
             [
              0.3333333333333333,
              "#9c179e"
             ],
             [
              0.4444444444444444,
              "#bd3786"
             ],
             [
              0.5555555555555556,
              "#d8576b"
             ],
             [
              0.6666666666666666,
              "#ed7953"
             ],
             [
              0.7777777777777778,
              "#fb9f3a"
             ],
             [
              0.8888888888888888,
              "#fdca26"
             ],
             [
              1,
              "#f0f921"
             ]
            ],
            "type": "histogram2dcontour"
           }
          ],
          "mesh3d": [
           {
            "colorbar": {
             "outlinewidth": 0,
             "ticks": ""
            },
            "type": "mesh3d"
           }
          ],
          "parcoords": [
           {
            "line": {
             "colorbar": {
              "outlinewidth": 0,
              "ticks": ""
             }
            },
            "type": "parcoords"
           }
          ],
          "pie": [
           {
            "automargin": true,
            "type": "pie"
           }
          ],
          "scatter": [
           {
            "fillpattern": {
             "fillmode": "overlay",
             "size": 10,
             "solidity": 0.2
            },
            "type": "scatter"
           }
          ],
          "scatter3d": [
           {
            "line": {
             "colorbar": {
              "outlinewidth": 0,
              "ticks": ""
             }
            },
            "marker": {
             "colorbar": {
              "outlinewidth": 0,
              "ticks": ""
             }
            },
            "type": "scatter3d"
           }
          ],
          "scattercarpet": [
           {
            "marker": {
             "colorbar": {
              "outlinewidth": 0,
              "ticks": ""
             }
            },
            "type": "scattercarpet"
           }
          ],
          "scattergeo": [
           {
            "marker": {
             "colorbar": {
              "outlinewidth": 0,
              "ticks": ""
             }
            },
            "type": "scattergeo"
           }
          ],
          "scattergl": [
           {
            "marker": {
             "colorbar": {
              "outlinewidth": 0,
              "ticks": ""
             }
            },
            "type": "scattergl"
           }
          ],
          "scattermapbox": [
           {
            "marker": {
             "colorbar": {
              "outlinewidth": 0,
              "ticks": ""
             }
            },
            "type": "scattermapbox"
           }
          ],
          "scatterpolar": [
           {
            "marker": {
             "colorbar": {
              "outlinewidth": 0,
              "ticks": ""
             }
            },
            "type": "scatterpolar"
           }
          ],
          "scatterpolargl": [
           {
            "marker": {
             "colorbar": {
              "outlinewidth": 0,
              "ticks": ""
             }
            },
            "type": "scatterpolargl"
           }
          ],
          "scatterternary": [
           {
            "marker": {
             "colorbar": {
              "outlinewidth": 0,
              "ticks": ""
             }
            },
            "type": "scatterternary"
           }
          ],
          "surface": [
           {
            "colorbar": {
             "outlinewidth": 0,
             "ticks": ""
            },
            "colorscale": [
             [
              0,
              "#0d0887"
             ],
             [
              0.1111111111111111,
              "#46039f"
             ],
             [
              0.2222222222222222,
              "#7201a8"
             ],
             [
              0.3333333333333333,
              "#9c179e"
             ],
             [
              0.4444444444444444,
              "#bd3786"
             ],
             [
              0.5555555555555556,
              "#d8576b"
             ],
             [
              0.6666666666666666,
              "#ed7953"
             ],
             [
              0.7777777777777778,
              "#fb9f3a"
             ],
             [
              0.8888888888888888,
              "#fdca26"
             ],
             [
              1,
              "#f0f921"
             ]
            ],
            "type": "surface"
           }
          ],
          "table": [
           {
            "cells": {
             "fill": {
              "color": "#EBF0F8"
             },
             "line": {
              "color": "white"
             }
            },
            "header": {
             "fill": {
              "color": "#C8D4E3"
             },
             "line": {
              "color": "white"
             }
            },
            "type": "table"
           }
          ]
         },
         "layout": {
          "annotationdefaults": {
           "arrowcolor": "#2a3f5f",
           "arrowhead": 0,
           "arrowwidth": 1
          },
          "autotypenumbers": "strict",
          "coloraxis": {
           "colorbar": {
            "outlinewidth": 0,
            "ticks": ""
           }
          },
          "colorscale": {
           "diverging": [
            [
             0,
             "#8e0152"
            ],
            [
             0.1,
             "#c51b7d"
            ],
            [
             0.2,
             "#de77ae"
            ],
            [
             0.3,
             "#f1b6da"
            ],
            [
             0.4,
             "#fde0ef"
            ],
            [
             0.5,
             "#f7f7f7"
            ],
            [
             0.6,
             "#e6f5d0"
            ],
            [
             0.7,
             "#b8e186"
            ],
            [
             0.8,
             "#7fbc41"
            ],
            [
             0.9,
             "#4d9221"
            ],
            [
             1,
             "#276419"
            ]
           ],
           "sequential": [
            [
             0,
             "#0d0887"
            ],
            [
             0.1111111111111111,
             "#46039f"
            ],
            [
             0.2222222222222222,
             "#7201a8"
            ],
            [
             0.3333333333333333,
             "#9c179e"
            ],
            [
             0.4444444444444444,
             "#bd3786"
            ],
            [
             0.5555555555555556,
             "#d8576b"
            ],
            [
             0.6666666666666666,
             "#ed7953"
            ],
            [
             0.7777777777777778,
             "#fb9f3a"
            ],
            [
             0.8888888888888888,
             "#fdca26"
            ],
            [
             1,
             "#f0f921"
            ]
           ],
           "sequentialminus": [
            [
             0,
             "#0d0887"
            ],
            [
             0.1111111111111111,
             "#46039f"
            ],
            [
             0.2222222222222222,
             "#7201a8"
            ],
            [
             0.3333333333333333,
             "#9c179e"
            ],
            [
             0.4444444444444444,
             "#bd3786"
            ],
            [
             0.5555555555555556,
             "#d8576b"
            ],
            [
             0.6666666666666666,
             "#ed7953"
            ],
            [
             0.7777777777777778,
             "#fb9f3a"
            ],
            [
             0.8888888888888888,
             "#fdca26"
            ],
            [
             1,
             "#f0f921"
            ]
           ]
          },
          "colorway": [
           "#636efa",
           "#EF553B",
           "#00cc96",
           "#ab63fa",
           "#FFA15A",
           "#19d3f3",
           "#FF6692",
           "#B6E880",
           "#FF97FF",
           "#FECB52"
          ],
          "font": {
           "color": "#2a3f5f"
          },
          "geo": {
           "bgcolor": "white",
           "lakecolor": "white",
           "landcolor": "#E5ECF6",
           "showlakes": true,
           "showland": true,
           "subunitcolor": "white"
          },
          "hoverlabel": {
           "align": "left"
          },
          "hovermode": "closest",
          "mapbox": {
           "style": "light"
          },
          "paper_bgcolor": "white",
          "plot_bgcolor": "#E5ECF6",
          "polar": {
           "angularaxis": {
            "gridcolor": "white",
            "linecolor": "white",
            "ticks": ""
           },
           "bgcolor": "#E5ECF6",
           "radialaxis": {
            "gridcolor": "white",
            "linecolor": "white",
            "ticks": ""
           }
          },
          "scene": {
           "xaxis": {
            "backgroundcolor": "#E5ECF6",
            "gridcolor": "white",
            "gridwidth": 2,
            "linecolor": "white",
            "showbackground": true,
            "ticks": "",
            "zerolinecolor": "white"
           },
           "yaxis": {
            "backgroundcolor": "#E5ECF6",
            "gridcolor": "white",
            "gridwidth": 2,
            "linecolor": "white",
            "showbackground": true,
            "ticks": "",
            "zerolinecolor": "white"
           },
           "zaxis": {
            "backgroundcolor": "#E5ECF6",
            "gridcolor": "white",
            "gridwidth": 2,
            "linecolor": "white",
            "showbackground": true,
            "ticks": "",
            "zerolinecolor": "white"
           }
          },
          "shapedefaults": {
           "line": {
            "color": "#2a3f5f"
           }
          },
          "ternary": {
           "aaxis": {
            "gridcolor": "white",
            "linecolor": "white",
            "ticks": ""
           },
           "baxis": {
            "gridcolor": "white",
            "linecolor": "white",
            "ticks": ""
           },
           "bgcolor": "#E5ECF6",
           "caxis": {
            "gridcolor": "white",
            "linecolor": "white",
            "ticks": ""
           }
          },
          "title": {
           "x": 0.05
          },
          "xaxis": {
           "automargin": true,
           "gridcolor": "white",
           "linecolor": "white",
           "ticks": "",
           "title": {
            "standoff": 15
           },
           "zerolinecolor": "white",
           "zerolinewidth": 2
          },
          "yaxis": {
           "automargin": true,
           "gridcolor": "white",
           "linecolor": "white",
           "ticks": "",
           "title": {
            "standoff": 15
           },
           "zerolinecolor": "white",
           "zerolinewidth": 2
          }
         }
        },
        "title": {
         "text": "NASA RTLX comparison"
        }
       }
      },
      "text/html": [
       "<div>                            <div id=\"2e2cf219-9e7e-4d22-a3c8-e2110880ac74\" class=\"plotly-graph-div\" style=\"height:525px; width:100%;\"></div>            <script type=\"text/javascript\">                require([\"plotly\"], function(Plotly) {                    window.PLOTLYENV=window.PLOTLYENV || {};                                    if (document.getElementById(\"2e2cf219-9e7e-4d22-a3c8-e2110880ac74\")) {                    Plotly.newPlot(                        \"2e2cf219-9e7e-4d22-a3c8-e2110880ac74\",                        [{\"fill\":\"toself\",\"marker\":{\"symbol\":\"square\"},\"name\":\"kalipen trace\",\"r\":[1.6923076923076923,1.5384615384615385,1.7692307692307692,1.3076923076923077,4.384615384615385,1.9230769230769231],\"subplot\":\"polar\",\"theta\":[\"MD\",\"PD\",\"TD\",\"F\",\"P\",\"E\"],\"type\":\"scatterpolar\"},{\"fill\":\"toself\",\"marker\":{\"symbol\":\"square\"},\"name\":\"kalipen no trace\",\"r\":[2.24,1.64,1.8,1.6,3.68,2.12],\"subplot\":\"polar\",\"theta\":[\"MD\",\"PD\",\"TD\",\"F\",\"P\",\"E\"],\"type\":\"scatterpolar\"},{\"fill\":\"toself\",\"marker\":{\"symbol\":\"square\"},\"name\":\"robot trace\",\"r\":[3.6538461538461537,4.038461538461538,3.423076923076923,3.1153846153846154,4.076923076923077,4.576923076923077],\"subplot\":\"polar2\",\"theta\":[\"MD\",\"PD\",\"TD\",\"F\",\"P\",\"E\"],\"type\":\"scatterpolar\"},{\"fill\":\"toself\",\"marker\":{\"symbol\":\"square\"},\"name\":\"robot no trace\",\"r\":[3.923076923076923,3.6538461538461537,3.3076923076923075,3.076923076923077,4.5,4.3076923076923075],\"subplot\":\"polar2\",\"theta\":[\"MD\",\"PD\",\"TD\",\"F\",\"P\",\"E\"],\"type\":\"scatterpolar\"}],                        {\"template\":{\"data\":{\"histogram2dcontour\":[{\"type\":\"histogram2dcontour\",\"colorbar\":{\"outlinewidth\":0,\"ticks\":\"\"},\"colorscale\":[[0.0,\"#0d0887\"],[0.1111111111111111,\"#46039f\"],[0.2222222222222222,\"#7201a8\"],[0.3333333333333333,\"#9c179e\"],[0.4444444444444444,\"#bd3786\"],[0.5555555555555556,\"#d8576b\"],[0.6666666666666666,\"#ed7953\"],[0.7777777777777778,\"#fb9f3a\"],[0.8888888888888888,\"#fdca26\"],[1.0,\"#f0f921\"]]}],\"choropleth\":[{\"type\":\"choropleth\",\"colorbar\":{\"outlinewidth\":0,\"ticks\":\"\"}}],\"histogram2d\":[{\"type\":\"histogram2d\",\"colorbar\":{\"outlinewidth\":0,\"ticks\":\"\"},\"colorscale\":[[0.0,\"#0d0887\"],[0.1111111111111111,\"#46039f\"],[0.2222222222222222,\"#7201a8\"],[0.3333333333333333,\"#9c179e\"],[0.4444444444444444,\"#bd3786\"],[0.5555555555555556,\"#d8576b\"],[0.6666666666666666,\"#ed7953\"],[0.7777777777777778,\"#fb9f3a\"],[0.8888888888888888,\"#fdca26\"],[1.0,\"#f0f921\"]]}],\"heatmap\":[{\"type\":\"heatmap\",\"colorbar\":{\"outlinewidth\":0,\"ticks\":\"\"},\"colorscale\":[[0.0,\"#0d0887\"],[0.1111111111111111,\"#46039f\"],[0.2222222222222222,\"#7201a8\"],[0.3333333333333333,\"#9c179e\"],[0.4444444444444444,\"#bd3786\"],[0.5555555555555556,\"#d8576b\"],[0.6666666666666666,\"#ed7953\"],[0.7777777777777778,\"#fb9f3a\"],[0.8888888888888888,\"#fdca26\"],[1.0,\"#f0f921\"]]}],\"heatmapgl\":[{\"type\":\"heatmapgl\",\"colorbar\":{\"outlinewidth\":0,\"ticks\":\"\"},\"colorscale\":[[0.0,\"#0d0887\"],[0.1111111111111111,\"#46039f\"],[0.2222222222222222,\"#7201a8\"],[0.3333333333333333,\"#9c179e\"],[0.4444444444444444,\"#bd3786\"],[0.5555555555555556,\"#d8576b\"],[0.6666666666666666,\"#ed7953\"],[0.7777777777777778,\"#fb9f3a\"],[0.8888888888888888,\"#fdca26\"],[1.0,\"#f0f921\"]]}],\"contourcarpet\":[{\"type\":\"contourcarpet\",\"colorbar\":{\"outlinewidth\":0,\"ticks\":\"\"}}],\"contour\":[{\"type\":\"contour\",\"colorbar\":{\"outlinewidth\":0,\"ticks\":\"\"},\"colorscale\":[[0.0,\"#0d0887\"],[0.1111111111111111,\"#46039f\"],[0.2222222222222222,\"#7201a8\"],[0.3333333333333333,\"#9c179e\"],[0.4444444444444444,\"#bd3786\"],[0.5555555555555556,\"#d8576b\"],[0.6666666666666666,\"#ed7953\"],[0.7777777777777778,\"#fb9f3a\"],[0.8888888888888888,\"#fdca26\"],[1.0,\"#f0f921\"]]}],\"surface\":[{\"type\":\"surface\",\"colorbar\":{\"outlinewidth\":0,\"ticks\":\"\"},\"colorscale\":[[0.0,\"#0d0887\"],[0.1111111111111111,\"#46039f\"],[0.2222222222222222,\"#7201a8\"],[0.3333333333333333,\"#9c179e\"],[0.4444444444444444,\"#bd3786\"],[0.5555555555555556,\"#d8576b\"],[0.6666666666666666,\"#ed7953\"],[0.7777777777777778,\"#fb9f3a\"],[0.8888888888888888,\"#fdca26\"],[1.0,\"#f0f921\"]]}],\"mesh3d\":[{\"type\":\"mesh3d\",\"colorbar\":{\"outlinewidth\":0,\"ticks\":\"\"}}],\"scatter\":[{\"fillpattern\":{\"fillmode\":\"overlay\",\"size\":10,\"solidity\":0.2},\"type\":\"scatter\"}],\"parcoords\":[{\"type\":\"parcoords\",\"line\":{\"colorbar\":{\"outlinewidth\":0,\"ticks\":\"\"}}}],\"scatterpolargl\":[{\"type\":\"scatterpolargl\",\"marker\":{\"colorbar\":{\"outlinewidth\":0,\"ticks\":\"\"}}}],\"bar\":[{\"error_x\":{\"color\":\"#2a3f5f\"},\"error_y\":{\"color\":\"#2a3f5f\"},\"marker\":{\"line\":{\"color\":\"#E5ECF6\",\"width\":0.5},\"pattern\":{\"fillmode\":\"overlay\",\"size\":10,\"solidity\":0.2}},\"type\":\"bar\"}],\"scattergeo\":[{\"type\":\"scattergeo\",\"marker\":{\"colorbar\":{\"outlinewidth\":0,\"ticks\":\"\"}}}],\"scatterpolar\":[{\"type\":\"scatterpolar\",\"marker\":{\"colorbar\":{\"outlinewidth\":0,\"ticks\":\"\"}}}],\"histogram\":[{\"marker\":{\"pattern\":{\"fillmode\":\"overlay\",\"size\":10,\"solidity\":0.2}},\"type\":\"histogram\"}],\"scattergl\":[{\"type\":\"scattergl\",\"marker\":{\"colorbar\":{\"outlinewidth\":0,\"ticks\":\"\"}}}],\"scatter3d\":[{\"type\":\"scatter3d\",\"line\":{\"colorbar\":{\"outlinewidth\":0,\"ticks\":\"\"}},\"marker\":{\"colorbar\":{\"outlinewidth\":0,\"ticks\":\"\"}}}],\"scattermapbox\":[{\"type\":\"scattermapbox\",\"marker\":{\"colorbar\":{\"outlinewidth\":0,\"ticks\":\"\"}}}],\"scatterternary\":[{\"type\":\"scatterternary\",\"marker\":{\"colorbar\":{\"outlinewidth\":0,\"ticks\":\"\"}}}],\"scattercarpet\":[{\"type\":\"scattercarpet\",\"marker\":{\"colorbar\":{\"outlinewidth\":0,\"ticks\":\"\"}}}],\"carpet\":[{\"aaxis\":{\"endlinecolor\":\"#2a3f5f\",\"gridcolor\":\"white\",\"linecolor\":\"white\",\"minorgridcolor\":\"white\",\"startlinecolor\":\"#2a3f5f\"},\"baxis\":{\"endlinecolor\":\"#2a3f5f\",\"gridcolor\":\"white\",\"linecolor\":\"white\",\"minorgridcolor\":\"white\",\"startlinecolor\":\"#2a3f5f\"},\"type\":\"carpet\"}],\"table\":[{\"cells\":{\"fill\":{\"color\":\"#EBF0F8\"},\"line\":{\"color\":\"white\"}},\"header\":{\"fill\":{\"color\":\"#C8D4E3\"},\"line\":{\"color\":\"white\"}},\"type\":\"table\"}],\"barpolar\":[{\"marker\":{\"line\":{\"color\":\"#E5ECF6\",\"width\":0.5},\"pattern\":{\"fillmode\":\"overlay\",\"size\":10,\"solidity\":0.2}},\"type\":\"barpolar\"}],\"pie\":[{\"automargin\":true,\"type\":\"pie\"}]},\"layout\":{\"autotypenumbers\":\"strict\",\"colorway\":[\"#636efa\",\"#EF553B\",\"#00cc96\",\"#ab63fa\",\"#FFA15A\",\"#19d3f3\",\"#FF6692\",\"#B6E880\",\"#FF97FF\",\"#FECB52\"],\"font\":{\"color\":\"#2a3f5f\"},\"hovermode\":\"closest\",\"hoverlabel\":{\"align\":\"left\"},\"paper_bgcolor\":\"white\",\"plot_bgcolor\":\"#E5ECF6\",\"polar\":{\"bgcolor\":\"#E5ECF6\",\"angularaxis\":{\"gridcolor\":\"white\",\"linecolor\":\"white\",\"ticks\":\"\"},\"radialaxis\":{\"gridcolor\":\"white\",\"linecolor\":\"white\",\"ticks\":\"\"}},\"ternary\":{\"bgcolor\":\"#E5ECF6\",\"aaxis\":{\"gridcolor\":\"white\",\"linecolor\":\"white\",\"ticks\":\"\"},\"baxis\":{\"gridcolor\":\"white\",\"linecolor\":\"white\",\"ticks\":\"\"},\"caxis\":{\"gridcolor\":\"white\",\"linecolor\":\"white\",\"ticks\":\"\"}},\"coloraxis\":{\"colorbar\":{\"outlinewidth\":0,\"ticks\":\"\"}},\"colorscale\":{\"sequential\":[[0.0,\"#0d0887\"],[0.1111111111111111,\"#46039f\"],[0.2222222222222222,\"#7201a8\"],[0.3333333333333333,\"#9c179e\"],[0.4444444444444444,\"#bd3786\"],[0.5555555555555556,\"#d8576b\"],[0.6666666666666666,\"#ed7953\"],[0.7777777777777778,\"#fb9f3a\"],[0.8888888888888888,\"#fdca26\"],[1.0,\"#f0f921\"]],\"sequentialminus\":[[0.0,\"#0d0887\"],[0.1111111111111111,\"#46039f\"],[0.2222222222222222,\"#7201a8\"],[0.3333333333333333,\"#9c179e\"],[0.4444444444444444,\"#bd3786\"],[0.5555555555555556,\"#d8576b\"],[0.6666666666666666,\"#ed7953\"],[0.7777777777777778,\"#fb9f3a\"],[0.8888888888888888,\"#fdca26\"],[1.0,\"#f0f921\"]],\"diverging\":[[0,\"#8e0152\"],[0.1,\"#c51b7d\"],[0.2,\"#de77ae\"],[0.3,\"#f1b6da\"],[0.4,\"#fde0ef\"],[0.5,\"#f7f7f7\"],[0.6,\"#e6f5d0\"],[0.7,\"#b8e186\"],[0.8,\"#7fbc41\"],[0.9,\"#4d9221\"],[1,\"#276419\"]]},\"xaxis\":{\"gridcolor\":\"white\",\"linecolor\":\"white\",\"ticks\":\"\",\"title\":{\"standoff\":15},\"zerolinecolor\":\"white\",\"automargin\":true,\"zerolinewidth\":2},\"yaxis\":{\"gridcolor\":\"white\",\"linecolor\":\"white\",\"ticks\":\"\",\"title\":{\"standoff\":15},\"zerolinecolor\":\"white\",\"automargin\":true,\"zerolinewidth\":2},\"scene\":{\"xaxis\":{\"backgroundcolor\":\"#E5ECF6\",\"gridcolor\":\"white\",\"linecolor\":\"white\",\"showbackground\":true,\"ticks\":\"\",\"zerolinecolor\":\"white\",\"gridwidth\":2},\"yaxis\":{\"backgroundcolor\":\"#E5ECF6\",\"gridcolor\":\"white\",\"linecolor\":\"white\",\"showbackground\":true,\"ticks\":\"\",\"zerolinecolor\":\"white\",\"gridwidth\":2},\"zaxis\":{\"backgroundcolor\":\"#E5ECF6\",\"gridcolor\":\"white\",\"linecolor\":\"white\",\"showbackground\":true,\"ticks\":\"\",\"zerolinecolor\":\"white\",\"gridwidth\":2}},\"shapedefaults\":{\"line\":{\"color\":\"#2a3f5f\"}},\"annotationdefaults\":{\"arrowcolor\":\"#2a3f5f\",\"arrowhead\":0,\"arrowwidth\":1},\"geo\":{\"bgcolor\":\"white\",\"landcolor\":\"#E5ECF6\",\"subunitcolor\":\"white\",\"showland\":true,\"showlakes\":true,\"lakecolor\":\"white\"},\"title\":{\"x\":0.05},\"mapbox\":{\"style\":\"light\"}}},\"polar\":{\"domain\":{\"x\":[0.0,0.45],\"y\":[0.0,1.0]}},\"polar2\":{\"domain\":{\"x\":[0.55,1.0],\"y\":[0.0,1.0]}},\"font\":{\"size\":12},\"title\":{\"text\":\"NASA RTLX comparison\"},\"showlegend\":true},                        {\"responsive\": true}                    ).then(function(){\n",
       "                            \n",
       "var gd = document.getElementById('2e2cf219-9e7e-4d22-a3c8-e2110880ac74');\n",
       "var x = new MutationObserver(function (mutations, observer) {{\n",
       "        var display = window.getComputedStyle(gd).display;\n",
       "        if (!display || display === 'none') {{\n",
       "            console.log([gd, 'removed!']);\n",
       "            Plotly.purge(gd);\n",
       "            observer.disconnect();\n",
       "        }}\n",
       "}});\n",
       "\n",
       "// Listen for the removal of the full notebook cells\n",
       "var notebookContainer = gd.closest('#notebook-container');\n",
       "if (notebookContainer) {{\n",
       "    x.observe(notebookContainer, {childList: true});\n",
       "}}\n",
       "\n",
       "// Listen for the clearing of the current output cell\n",
       "var outputEl = gd.closest('.output');\n",
       "if (outputEl) {{\n",
       "    x.observe(outputEl, {childList: true});\n",
       "}}\n",
       "\n",
       "                        })                };                });            </script>        </div>"
      ]
     },
     "metadata": {},
     "output_type": "display_data"
    }
   ],
   "source": [
    "import plotly.graph_objects as go\n",
    "from plotly.subplots import make_subplots\n",
    "\n",
    "fig = make_subplots(rows=1, cols=2, specs=[[{'type': 'polar'}]*2])\n",
    "\n",
    "rtlx_short_cats = [\"MD\", \"PD\", \"TD\", \"F\", \"P\", \"E\"]\n",
    "\n",
    "fig.add_trace(go.Scatterpolar(\n",
    "        name='kalipen trace',\n",
    "        r = list(avg_ktrace),\n",
    "        theta = rtlx_short_cats,\n",
    "        marker_symbol = \"square\", \n",
    "        fill='toself', \n",
    "        subplot='polar1'\n",
    "    ), 1, 1)\n",
    "\n",
    "fig.add_trace(go.Scatterpolar(\n",
    "        name='kalipen no trace',\n",
    "        r = list(avg_nktrace),\n",
    "        theta = rtlx_short_cats,\n",
    "        marker_symbol = \"square\", \n",
    "        fill='toself', \n",
    "        subplot='polar1'\n",
    "    ), 1, 1)\n",
    "fig.add_trace(go.Scatterpolar(\n",
    "        name='robot trace', \n",
    "        r = list(avg_rtrace),\n",
    "        theta = rtlx_short_cats,\n",
    "        marker_symbol = \"square\", \n",
    "        fill='toself', \n",
    "        subplot='polar2'\n",
    "    ), 1, 2)\n",
    "fig.add_trace(go.Scatterpolar(\n",
    "        name='robot no trace', \n",
    "        r = list(avg_nrtrace),\n",
    "        theta = rtlx_short_cats,\n",
    "        marker_symbol = \"square\", \n",
    "        fill='toself', \n",
    "        subplot='polar2'\n",
    "    ), 1, 2)\n",
    "\n",
    "fig.update_layout(\n",
    "    title='NASA RTLX comparison', \n",
    "    font_size=12, \n",
    "    showlegend=True)"
   ]
  },
  {
   "cell_type": "code",
   "execution_count": 1,
   "metadata": {},
   "outputs": [],
   "source": []
  },
  {
   "cell_type": "markdown",
   "metadata": {},
   "source": [
    "!pip install plotly"
   ]
  },
  {
   "cell_type": "code",
   "execution_count": null,
   "metadata": {},
   "outputs": [],
   "source": []
  },
  {
   "cell_type": "code",
   "execution_count": null,
   "metadata": {},
   "outputs": [],
   "source": [
    "\n"
   ]
  },
  {
   "cell_type": "code",
   "execution_count": null,
   "metadata": {},
   "outputs": [],
   "source": []
  }
 ],
 "metadata": {
  "kernelspec": {
   "display_name": "bagging",
   "language": "python",
   "name": "bagging"
  },
  "language_info": {
   "codemirror_mode": {
    "name": "ipython",
    "version": 3
   },
   "file_extension": ".py",
   "mimetype": "text/x-python",
   "name": "python",
   "nbconvert_exporter": "python",
   "pygments_lexer": "ipython3",
   "version": "3.10.10"
  }
 },
 "nbformat": 4,
 "nbformat_minor": 4
}
