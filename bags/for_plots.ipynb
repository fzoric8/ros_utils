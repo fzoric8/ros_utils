{
 "cells": [
  {
   "cell_type": "code",
   "execution_count": 33,
   "metadata": {},
   "outputs": [],
   "source": [
    "import scipy\n",
    "import bagpy\n",
    "import numpy as np\n",
    "from bagpy import bagreader\n",
    "import matplotlib.pyplot as plt\n",
    "import pandas as pd\n",
    "import matplotlib.pylab as pylab\n",
    "from matplotlib import rc\n",
    "import statistics\n",
    "import regex as re\n",
    "rc('text', usetex=False) "
   ]
  },
  {
   "cell_type": "markdown",
   "metadata": {},
   "source": [
    "### Plotting methods for the Fundamentals of Robotics Course"
   ]
  },
  {
   "cell_type": "code",
   "execution_count": 69,
   "metadata": {},
   "outputs": [
    {
     "name": "stdout",
     "output_type": "stream",
     "text": [
      "[INFO]  Data folder ./recorded_data already exists. Not creating.\n",
      "['./recorded_data/hocook-joint_states.csv', './recorded_data/joint_states.csv', './recorded_data/p2p-joint_states.csv', './recorded_data/position_joint_trajectory_controller-command.csv']\n"
     ]
    }
   ],
   "source": [
    "def get_topics(b):\n",
    "    csv_files = []\n",
    "    for topic in b.topics:\n",
    "        #print(topic)\n",
    "        data = b.message_by_topic(topic)\n",
    "        csv_files.append(data)\n",
    "    return csv_files\n",
    "\n",
    "bag = \"./recorded_data.bag\"\n",
    "b = bagreader(bag)\n",
    "csv_files = get_topics(b)\n",
    "joint_states = pd.read_csv(csv_files[0])\n",
    "ho_cook_joint_states = pd.read_csv(csv_files[1])\n",
    "p2p_joint_states = pd.read_csv(csv_files[2])\n",
    "joint_trajectory = pd.read_csv(csv_files[-1])\n",
    "print(csv_files)\n",
    "\n",
    "def parse_timeseries_string(string_data):\n",
    "    # Define regular expressions for extracting positions and velocities\n",
    "    positions_pattern = re.compile(r'positions: \\[([^\\]]+)\\]')\n",
    "    velocities_pattern = re.compile(r'velocities: \\[([^\\]]+)\\]')\n",
    "    time_pattern = re.compile(r'time_from_start: \\n\\s*secs: (\\d+)\\n\\s*nsecs: (\\d+)')\n",
    "\n",
    "    # Extract data using regular expressions\n",
    "    positions_match = positions_pattern.findall(string_data)\n",
    "    velocities_match = velocities_pattern.findall(string_data)\n",
    "    time_match = time_pattern.findall(string_data)\n",
    "\n",
    "    # Initialize lists for positions and velocities\n",
    "    positions_list = []\n",
    "    velocities_list = []\n",
    "    times_list = []\n",
    "\n",
    "    # Extract positions\n",
    "    for positions_str in positions_match:\n",
    "        positions_list.append([float(pos) for pos in positions_str.split(',')])\n",
    "\n",
    "    # Extract velocities (assuming an empty list if not found)\n",
    "    for velocities_str in velocities_match:\n",
    "        velocities_list.append([float(vel) for vel in velocities_str.split(',')])\n",
    "        \n",
    "    # Extract time_from_start\n",
    "    for secs, nsecs in time_match:\n",
    "        time_in_seconds = int(secs) + int(nsecs) / 1e9\n",
    "        times_list.append(time_in_seconds)\n",
    "\n",
    "    return positions_list, velocities_list, times_list\n",
    "\n",
    "def parse_timeseries(timeseries):\n",
    "    positions_list = []\n",
    "    times_list = []\n",
    "\n",
    "    for entry in timeseries:\n",
    "        positions = entry.get('positions', [])\n",
    "        time_from_start = entry.get('time_from_start', {})\n",
    "        secs = time_from_start.get('secs', 0)\n",
    "        nsecs = time_from_start.get('nsecs', 0)\n",
    "        time_in_seconds = secs + nsecs / 1e9  # Convert nanoseconds to seconds\n",
    "\n",
    "        positions_list.append(positions)\n",
    "        times_list.append(time_in_seconds)\n",
    "\n",
    "    return positions_list, times_list\n",
    "\n",
    "def parse_joint_states(joint_states): \n",
    "    \n",
    "    n_joints = len(joint_states[\"name\"][0].split(\",\"))\n",
    "    q = {}\n",
    "    q[\"t\"] = joint_states[\"Time\"]\n",
    "    print(n_joints)\n",
    "    for i in range(0, n_joints): \n",
    "        q[\"p{}\".format(i)] = joint_states[\"position_{}\".format(i)]\n",
    "        q[\"v{}\".format(i)] = joint_states[\"velocity_{}\".format(i)]\n",
    "    return q\n",
    "\n",
    "import matplotlib.pyplot as plt\n",
    "\n",
    "def plot_joint_positions_velocities(positions, velocities, times):\n",
    "    # Plot Joint Positions\n",
    "    plt.figure(figsize=(12, 6))\n",
    "    for i in range(len(positions[0])):\n",
    "        plt.plot(times, [pos[i] for pos in positions], label=f'Joint {i+1} Position')\n",
    "\n",
    "    plt.title('Joint Positions Over Time')\n",
    "    plt.xlabel('Time (seconds)')\n",
    "    plt.ylabel('Joint Positions')\n",
    "    plt.legend()\n",
    "    plt.grid(True)\n",
    "    plt.show()\n",
    "\n",
    "    # Plot Joint Velocities\n",
    "    plt.figure(figsize=(12, 6))\n",
    "    for i in range(len(velocities[0])):\n",
    "        plt.plot(times, [vel[i] for vel in velocities], label=f'Joint {i+1} Velocity')\n",
    "\n",
    "    plt.title('Joint Velocities Over Time')\n",
    "    plt.xlabel('Time (seconds)')\n",
    "    plt.ylabel('Joint Velocities')\n",
    "    plt.legend()\n",
    "    plt.grid(True)\n",
    "    plt.show()\n",
    "    \n",
    "# Commanded points for HoCook \n",
    "def parse_trajectory(trajectory): \n",
    "    p, v, t = parse_timeseries_string(trajectory) \n",
    "    return p, v, t"
   ]
  },
  {
   "cell_type": "code",
   "execution_count": 49,
   "metadata": {},
   "outputs": [
    {
     "name": "stdout",
     "output_type": "stream",
     "text": [
      "7\n"
     ]
    }
   ],
   "source": [
    "q = parse_joint_states(joint_states)"
   ]
  },
  {
   "cell_type": "code",
   "execution_count": 46,
   "metadata": {},
   "outputs": [],
   "source": [
    "\n",
    "p_, v_, t = parse_timeseries_string(joint_trajectory['points'][3])\n",
    "q0 = [p[0] for p in p_]; v0 = [v[0] for v in v_]\n",
    "q1 = [p[1] for p in p_]; v1 = [v[1] for v in v_]\n",
    "q2 = [p[2] for p in p_]; v2 = [v[2] for v in v_]\n",
    "q3 = [p[3] for p in p_]; v3 = [v[3] for v in v_]\n",
    "q4 = [p[4] for p in p_]; v4 = [v[4] for v in v_]\n",
    "q5 = [p[5] for p in p_]; v5 = [v[5] for v in v_]\n",
    "q6 = [p[6] for p in p_]; v6 = [v[6] for v in v_]\n",
    "t.insert(0, 0)"
   ]
  },
  {
   "cell_type": "code",
   "execution_count": 74,
   "metadata": {},
   "outputs": [],
   "source": [
    "parsed_trajectories = {}\n",
    "for i, t in enumerate(joint_trajectory['points']): \n",
    "    p_, v_, t = parse_trajectory(joint_trajectory['points'][i])\n",
    "    parsed_trajectories[\"{}\".format(f\"{i}\")] = {\"p\": p_, \"v\": v_, \"t\": t}\n",
    "    "
   ]
  },
  {
   "cell_type": "code",
   "execution_count": 80,
   "metadata": {},
   "outputs": [
    {
     "name": "stdout",
     "output_type": "stream",
     "text": [
      "[]\n",
      "[]\n",
      "[]\n",
      "[]\n",
      "[]\n",
      "[]\n",
      "[]\n",
      "[0.1, 0.12, 0.14, 0.16, 0.18, 0.2, 0.22, 0.24, 0.26, 0.28, 0.3, 0.32, 0.34, 0.36, 0.38, 0.4, 0.42, 0.44, 0.46, 0.48, 0.5, 0.52, 0.54, 0.56, 0.58, 0.6, 0.62, 0.64, 0.66, 0.68, 0.7, 0.72, 0.74, 0.76, 0.78, 0.8, 0.82, 0.84, 0.86, 0.88, 0.9, 0.92, 0.94, 0.96, 0.98, 1.1, 1.12, 1.1400000000000001, 1.159999999, 1.179999999, 1.199999999, 1.2199999990000001, 1.24, 1.26, 1.28, 1.3, 1.32, 1.34, 1.3599999999999999, 1.38, 1.4, 1.419999999, 1.4399999989999999, 1.4599999989999999, 1.48, 1.5, 1.52, 1.54, 1.56, 1.58, 1.6, 1.62, 1.6400000000000001, 1.6600000000000001, 1.679999999, 1.7, 1.72, 1.74, 1.76, 1.78, 1.8, 1.8199999999999998, 1.8399999999999999, 1.8599999999999999, 1.88, 1.9, 1.9199999989999998, 1.94, 1.96, 1.98, 2.1, 2.12, 2.14, 2.16, 2.18, 2.2, 2.22, 2.24, 2.26, 2.2800000000000002, 2.3, 2.319999999, 2.3399999989999998, 2.3599999990000002, 2.379999999, 2.399999999, 2.419999999, 2.439999999, 2.459999999, 2.48, 2.5, 2.52, 2.54, 2.56, 2.58, 2.6, 2.62, 2.64, 2.66, 2.68, 2.7, 2.7199999999999998, 2.74, 2.76, 2.7800000000000002, 2.8, 2.819999999, 2.8399999989999998, 2.8599999990000002, 2.879999999, 2.8999999990000003, 2.919999999, 2.94, 2.96, 2.98, 3.1, 3.12, 3.14, 3.16, 3.18, 3.2, 3.22, 3.24, 3.26, 3.2800000000000002, 3.3, 3.32, 3.3399999989999998, 3.3599999990000002, 3.379999999, 3.399999999, 3.419999999, 3.439999999, 3.459999999, 3.48, 3.5, 3.52, 3.54, 3.56, 3.58, 3.6, 3.62, 3.64, 3.66, 3.68, 3.7, 3.7199999999999998, 3.74, 3.76, 3.7800000000000002, 3.8, 3.82, 3.8399999989999998, 3.8599999990000002, 3.879999999, 3.8999999990000003, 3.919999999, 3.94, 3.96, 3.98, 4.12, 4.139999999, 4.16, 4.179999999, 4.2, 4.219999999, 4.24, 4.259999999, 4.28, 4.299999999, 4.32, 4.339999999, 4.36, 4.379999999, 4.4, 4.419999999, 4.44, 4.459999999, 4.48, 4.5, 4.52, 4.54, 4.5600000000000005, 4.58, 4.6, 4.62, 4.6399999990000005, 4.66, 4.679999999, 4.7, 4.719999999, 4.74, 4.759999999, 4.78, 4.799999999, 4.82, 4.839999999, 4.86, 4.879999999, 4.9, 4.919999999, 4.9399999999999995, 4.96, 4.98, 5.1, 5.12, 5.139999999, 5.16, 5.179999999, 5.2, 5.219999999, 5.24, 5.259999999, 5.28, 5.299999999, 5.32, 5.339999999, 5.36, 5.379999999, 5.4, 5.419999999, 5.44, 5.459999999, 5.48, 5.5, 5.52, 5.54, 5.5600000000000005, 5.58, 5.6, 5.62, 5.6399999990000005, 5.66, 5.679999999, 5.7, 5.719999999, 5.74, 5.759999999, 5.78, 5.799999999, 5.82, 5.839999999, 5.86, 5.879999999, 5.9, 5.919999999, 5.9399999999999995, 5.96, 5.98, 6.1, 6.12, 6.14, 6.16, 6.179999999, 6.2, 6.219999999, 6.24, 6.259999999, 6.28, 6.299999999, 6.32, 6.339999999, 6.36, 6.379999999, 6.4, 6.419999999, 6.44, 6.459999999, 6.48, 6.5, 6.52, 6.54, 6.5600000000000005, 6.58, 6.6, 6.62, 6.64, 6.66, 6.679999999, 6.7, 6.719999999, 6.74, 6.759999999, 6.78, 6.799999999, 6.82, 6.839999999, 6.86, 6.879999999, 6.9, 6.919999999, 6.9399999999999995, 6.96, 6.98, 7.1, 7.12, 7.14, 7.16, 7.179999999, 7.2, 7.219999999, 7.24, 7.259999999, 7.28, 7.299999999, 7.32, 7.339999999, 7.36, 7.379999999, 7.4, 7.419999999, 7.44, 7.459999999, 7.48, 7.5, 7.52, 7.54, 7.5600000000000005, 7.58, 7.6, 7.62, 7.64, 7.66, 7.679999999, 7.7, 7.719999999, 7.74, 7.759999999, 7.78, 7.799999999, 7.82, 7.839999999, 7.86, 7.879999999, 7.9, 7.919999999, 7.9399999999999995, 7.96, 7.98, 8.12, 8.14, 8.16, 8.179999999, 8.199999999, 8.22, 8.24, 8.259999999, 8.279999999, 8.3, 8.32, 8.339999999]\n"
     ]
    }
   ],
   "source": [
    "for key in parsed_trajectories.keys(): \n",
    "    print(parsed_trajectories[f'{key}']['t'])"
   ]
  },
  {
   "cell_type": "code",
   "execution_count": null,
   "metadata": {},
   "outputs": [],
   "source": []
  }
 ],
 "metadata": {
  "kernelspec": {
   "display_name": "Python 3 (ipykernel)",
   "language": "python",
   "name": "python3"
  },
  "language_info": {
   "codemirror_mode": {
    "name": "ipython",
    "version": 3
   },
   "file_extension": ".py",
   "mimetype": "text/x-python",
   "name": "python",
   "nbconvert_exporter": "python",
   "pygments_lexer": "ipython3",
   "version": "3.8.10"
  }
 },
 "nbformat": 4,
 "nbformat_minor": 4
}
